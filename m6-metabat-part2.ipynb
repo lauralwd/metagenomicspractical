{
 "cells": [
  {
   "cell_type": "markdown",
   "metadata": {},
   "source": [
    "Now we continue the binning procedure with metabat. We will need\n",
    "\n",
    "* The scaffolds of the assembly, to bin.\n",
    "* The depth matrix we made with the jgi script\n",
    "* A new folder, to store the newly created bins.\n",
    "\n",
    "Read the help page, the command is `metabat2`\n",
    "\n",
    "Find out which options you have to use minimally, then make sure you tell MetaBAT to use 1 thread only!\n",
    "\n",
    "> By default, metabat uses all threads. If all of us use all threads at the same time, the server will most certainly crash.\n",
    "\n",
    "\n",
    "\n"
   ]
  },
  {
   "cell_type": "code",
   "execution_count": null,
   "metadata": {},
   "outputs": [],
   "source": [
    "!metabat2 -h"
   ]
  },
  {
   "cell_type": "markdown",
   "metadata": {},
   "source": [
    "make a new directory:"
   ]
  },
  {
   "cell_type": "markdown",
   "metadata": {},
   "source": [
    "run metabat:"
   ]
  }
 ],
 "metadata": {
  "kernelspec": {
   "display_name": "Python 3",
   "language": "python",
   "name": "python3"
  },
  "language_info": {
   "codemirror_mode": {
    "name": "ipython",
    "version": 3
   },
   "file_extension": ".py",
   "mimetype": "text/x-python",
   "name": "python",
   "nbconvert_exporter": "python",
   "pygments_lexer": "ipython3",
   "version": "3.6.5"
  }
 },
 "nbformat": 4,
 "nbformat_minor": 2
}
