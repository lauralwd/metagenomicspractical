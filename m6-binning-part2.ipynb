{
 "cells": [
  {
   "cell_type": "markdown",
   "metadata": {},
   "source": [
    "Now we continue the binning procedure with metabat. We will need\n",
    "\n",
    "* The scaffolds of the assembly, to bin.\n",
    "* The depth matrix we made with the jgi script\n",
    "* A new folder, to store the newly created bins.\n",
    "\n",
    "Read the help page, the command is `metabat2`\n",
    "\n",
    "Find out which options you have to use minimally, then make sure you tell MetaBAT to use 1 thread only!\n",
    "\n",
    "> By default, metabat uses all threads. If all of us use all threads at the same time, the server will most certainly crash.\n",
    "\n",
    "First, lets locate the file with the assembly, do you remember? Let's check with ls\n",
    "\n"
   ]
  },
  {
   "cell_type": "code",
   "execution_count": 2,
   "metadata": {},
   "outputs": [
    {
     "name": "stdout",
     "output_type": "stream",
     "text": [
      "data\t\t\t\t  m5-binning_part1.ipynb\r\n",
      "LICENSE\t\t\t\t  m6-binning-part2.ipynb\r\n",
      "m0-introduction.ipynb\t\t  m7-QC_checkm.ipynb\r\n",
      "m1-jupyter_and_bash_basics.ipynb  m8-annotation.ipynb\r\n",
      "m2-assess_raw_data.ipynb\t  mprepare_download_and_subset_reads.ipynb\r\n",
      "m3-backmapping.ipynb\t\t  README.md\r\n",
      "m4-sorting_bamfiles.ipynb\r\n"
     ]
    }
   ],
   "source": [
    "!ls"
   ]
  },
  {
   "cell_type": "markdown",
   "metadata": {},
   "source": [
    "I assume you still remember where you just put the depth-matrix file you made with the 'jgi script'. Now we still need a new folder for the bins. Make it in the cell below. I suggest `./data/bins`"
   ]
  },
  {
   "cell_type": "code",
   "execution_count": null,
   "metadata": {},
   "outputs": [],
   "source": [
    "!mkdir"
   ]
  },
  {
   "cell_type": "markdown",
   "metadata": {},
   "source": [
    "Now read the manual of metabat:"
   ]
  },
  {
   "cell_type": "code",
   "execution_count": null,
   "metadata": {},
   "outputs": [],
   "source": [
    "!metabat2 -h"
   ]
  },
  {
   "cell_type": "markdown",
   "metadata": {},
   "source": [
    "run metabat:"
   ]
  },
  {
   "cell_type": "code",
   "execution_count": null,
   "metadata": {},
   "outputs": [],
   "source": [
    "!metabat2"
   ]
  }
 ],
 "metadata": {
  "kernelspec": {
   "display_name": "Python 2",
   "language": "python",
   "name": "python2"
  },
  "language_info": {
   "codemirror_mode": {
    "name": "ipython",
    "version": 3
   },
   "file_extension": ".py",
   "mimetype": "text/x-python",
   "name": "python",
   "nbconvert_exporter": "python",
   "pygments_lexer": "ipython3",
   "version": "3.6.5"
  }
 },
 "nbformat": 4,
 "nbformat_minor": 2
}
