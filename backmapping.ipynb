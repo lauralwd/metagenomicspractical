{
 "cells": [
  {
   "cell_type": "markdown",
   "metadata": {},
   "source": [
    "# Mapping reads to scaffolds with bwa (Burrows-Wheeler Aligner) and sorting with Samtools\n",
    "We now have the reads and the assembly so we can start by mapping (aligning) the original reads back to the scaffolds created with the assembly. Doing this will allow us to see the read depth on the scaffolds.\n",
    "\n",
    "The reads are paired-end, which means that for each DNA fragment, we have sequence data from both ends. The sequences are therefore stored in two separate files (one for the data from each end). We’ll use bwa’s default settings to align the reads back and then Samtools allows us to work with the bwa results.\n",
    "\n",
    "<b>Assignment:</b><br>\n",
    "Use bwa to backmap the reads against the scaffolds and save the mapping as a `.bam` file. When in doubt, don't forget to read the 'help page' of a command like so\n",
    "> ls --help\n",
    "\n",
    "or sometimes by executing the command without any arguments like so\n",
    "> bwa\n",
    "\n",
    "> bwa index\n",
    "\n",
    "For more elaborate information, read the manual with the `man` command\n",
    "> man bwa\n",
    "\n",
    "> man samtools\n",
    "\n",
    "In this notebook we will do the following.\n",
    "1. To run bwa we first need to make an index file of the scaffolds. \n",
    "2. Then we can run bwa and immediatly pipe the output of bwa through samtools view which will output a bam file \n",
    "3. Finally, since we have quite a few bam files to align to the assembly, we will make a `for` loop that will iterate over the different samples we have. \n",
    "\n",
    "Hence, we're combining a lot of the things we have learnt so far. Make sure you tackle this assignment step by step and help each other where neccesary.\n",
    "\n",
    "\n",
    "some background: \n",
    "> By default mapping algorithms like bwa spit out a .sam file. The sam format is widely used and accepted by many different downstream programmes. Basically it's just a big table with a standardised format. Although a sam file is human readable, it is also rather bulky. The filesize of a single SAM file will quickly exceed the disk space you have on this virtual machine. Therefore, we convert it to a BAM file, which is a Binary sAM file. There is no loss of information, it is just stored much more efficiently. Naturally, a binary file is not human readable. Always store your files as bam files, if you need to have a look in the bam file you can view them using samtools view or any of the many downstream programmes available online."
   ]
  },
  {
   "cell_type": "markdown",
   "metadata": {},
   "source": [
    "## Index the assembly with bwa index\n",
    "add new cells below and create an index with bwa"
   ]
  },
  {
   "cell_type": "markdown",
   "metadata": {},
   "source": [
    "## Check the output of bwa\n",
    "There should now be multiple files in the assembly folder. Think about what command you could use to see if that is the case"
   ]
  },
  {
   "cell_type": "markdown",
   "metadata": {},
   "source": [
    "## Run bwa mem for backmapping\n",
    "For this part we will use a bash for loop to run bwa mem and samtools view on all the reads in metagenomics/reads and  create BAM output files in a newly made directory\n",
    "\n",
    "Then we use a bash for loop to run samtools sort on all the files created by samtools view\n",
    "\n",
    "Step by step instruction:<br>\n",
    "1. make a new directory for the samtools view results, give this a usefull name\n",
    "    1. I suggest ./metagenomics mapped\n",
    "    2. to make a directory, use the command `mkdir`\n",
    "2. see how the loop I pre-made for you works, play a bit to see if you understand correctly\n",
    "3. finish the for loop and run both \n",
    "    1. `bwa mem` \n",
    "    2. and `samtools view`\n",
    "    \n",
    "Don't forget to read the manual page of both!\n",
    "\n",
    "Mapping each individual sample will take about 5 to 6 minutes"
   ]
  },
  {
   "cell_type": "markdown",
   "metadata": {},
   "source": [
    "1 First make your new directory here."
   ]
  },
  {
   "cell_type": "markdown",
   "metadata": {},
   "source": [
    "2 now see how this loop works. "
   ]
  },
  {
   "cell_type": "code",
   "execution_count": 34,
   "metadata": {},
   "outputs": [
    {
     "name": "stdout",
     "output_type": "stream",
     "text": [
      "L1\n",
      "L2\n",
      "L3\n",
      "P1\n",
      "P2\n",
      "P3\n"
     ]
    }
   ],
   "source": [
    "%%bash\n",
    "\n",
    "# first I define the samples in a variable called 'samples'\n",
    "samples=$(find ./metagenomics/reads -name '*.fastq.gz' -type f -printf '%P\\n' | cut -d '.' -f 1 | sort | uniq)\n",
    "\n",
    "# next I use this variable in my loop\n",
    "for i in $samples\n",
    "    do echo $i\n",
    "done"
   ]
  },
  {
   "cell_type": "code",
   "execution_count": 36,
   "metadata": {
    "scrolled": true
   },
   "outputs": [
    {
     "name": "stdout",
     "output_type": "stream",
     "text": [
      "./metagenomics/reads/L1.R1.fastq.gz\n",
      "./metagenomics/reads/L1.R2.fastq.gz\n",
      "./metagenomics/reads/L2.R1.fastq.gz\n",
      "./metagenomics/reads/L2.R2.fastq.gz\n",
      "./metagenomics/reads/L3.R1.fastq.gz\n",
      "./metagenomics/reads/L3.R2.fastq.gz\n",
      "./metagenomics/reads/P1.R1.fastq.gz\n",
      "./metagenomics/reads/P1.R2.fastq.gz\n",
      "./metagenomics/reads/P2.R1.fastq.gz\n",
      "./metagenomics/reads/P2.R2.fastq.gz\n",
      "./metagenomics/reads/P3.R1.fastq.gz\n",
      "./metagenomics/reads/P3.R2.fastq.gz\n"
     ]
    }
   ],
   "source": [
    "%%bash\n",
    "\n",
    "# first I define the samples in a variable called 'samples'\n",
    "samples=$(find ./metagenomics/reads -name '*.fastq.gz' -type f -printf '%P\\n' | cut -d '.' -f 1 | sort | uniq)\n",
    "\n",
    "# next I use this variable in my loop\n",
    "for i in $samples\n",
    "    do ls ./metagenomics/reads/$i*.fastq.gz\n",
    "done"
   ]
  },
  {
   "cell_type": "markdown",
   "metadata": {},
   "source": [
    "Now copy the loop I made above, and substitute the `ls` command for a bwa command"
   ]
  }
 ],
 "metadata": {
  "kernelspec": {
   "display_name": "Python 3",
   "language": "python",
   "name": "python3"
  },
  "language_info": {
   "codemirror_mode": {
    "name": "ipython",
    "version": 3
   },
   "file_extension": ".py",
   "mimetype": "text/x-python",
   "name": "python",
   "nbconvert_exporter": "python",
   "pygments_lexer": "ipython3",
   "version": "3.6.5"
  }
 },
 "nbformat": 4,
 "nbformat_minor": 2
}
