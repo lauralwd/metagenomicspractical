{
 "cells": [
  {
   "cell_type": "markdown",
   "metadata": {},
   "source": [
    "## binning\n",
    "Now we continue the binning procedure with metabat. In this notebook we will create the actual bins! We will need\n",
    "\n",
    "* The scaffolds of the assembly, to bin.\n",
    "* The depth matrix we made with the jgi script\n",
    "* A new folder, to store the newly created bins.\n",
    "\n",
    "First, remember where the first two items listed above are. Use `ls` to confirm in the cell below.\n",
    "\n",
    "Scaffolds are located at"
   ]
  },
  {
   "cell_type": "code",
   "execution_count": null,
   "metadata": {},
   "outputs": [],
   "source": [
    "!ls"
   ]
  },
  {
   "cell_type": "markdown",
   "metadata": {},
   "source": [
    "depth matrix is located at"
   ]
  },
  {
   "cell_type": "code",
   "execution_count": null,
   "metadata": {
    "scrolled": true
   },
   "outputs": [],
   "source": [
    "!ls"
   ]
  },
  {
   "cell_type": "markdown",
   "metadata": {},
   "source": [
    "Now make a new directory to store your bins."
   ]
  },
  {
   "cell_type": "code",
   "execution_count": null,
   "metadata": {},
   "outputs": [],
   "source": [
    "!mkdir"
   ]
  },
  {
   "cell_type": "markdown",
   "metadata": {},
   "source": [
    "Now read the help page, the command is `metabat2`\n",
    "\n",
    "Find out which options you have to use minimally, then make sure you tell MetaBAT to use 1 thread only!\n",
    "\n",
    "supply your depth matrix as the --abdFile. Short for AbundanceFile.\n",
    "\n",
    "> By default, metabat uses all threads. If all of us use all threads at the same time, the server will most certainly crash."
   ]
  },
  {
   "cell_type": "code",
   "execution_count": null,
   "metadata": {},
   "outputs": [],
   "source": [
    "!metabat2 -h"
   ]
  },
  {
   "cell_type": "markdown",
   "metadata": {},
   "source": [
    "run metabat:"
   ]
  },
  {
   "cell_type": "code",
   "execution_count": null,
   "metadata": {},
   "outputs": [],
   "source": [
    "!metabat2"
   ]
  },
  {
   "cell_type": "markdown",
   "metadata": {},
   "source": [
    "## visualisation\n",
    "Now we have our metagenome binned! Congratulations. Let's try to visualise this in a similar way as done in `m5-binning-par1` To get all data in a similar sheet, we will use some commandline tricks, in this case they are given to you already. However, please do try to reverse engineer the code and understand what is happening."
   ]
  },
  {
   "cell_type": "markdown",
   "metadata": {},
   "source": [
    "* In the cell below, we make an empty file with a header in which we will make our table. \n",
    "* Then we move to the folder in which we made the bins. \n",
    "* In this folder we start a loop for each file that ends with `.fa`\n",
    "* For each `.fa` file, we extract the bin number and make a variable that we call `name`\n",
    "* Continuing in this itteration of the loop, we filter all fasta headers\n",
    "* directly after filtering, replace the fasta header sign '>' with the `name` variable defined earlier.\n",
    "* we end the loop and sort all resulting tables at once on the second column \n",
    "* after sorting we append our newly made talble to the 'binlist' file we defined earlier."
   ]
  },
  {
   "cell_type": "code",
   "execution_count": null,
   "metadata": {},
   "outputs": [],
   "source": [
    "%%bash\n",
    "echo -e 'bin\\tcontigName' > binlist\n",
    "cd ./data/bins/\n",
    "for f in *.fa\n",
    "do  name=$(echo $f | cut -d '.' -f 2)\n",
    "    grep '>' $f | sed \"s/^>/$name\\t/g\"\n",
    "done | sort -k2 -V >> ../../binlist"
   ]
  },
  {
   "cell_type": "markdown",
   "metadata": {},
   "source": [
    "Now let's check, how does the file look:"
   ]
  },
  {
   "cell_type": "code",
   "execution_count": null,
   "metadata": {},
   "outputs": [],
   "source": [
    "!head binlist"
   ]
  },
  {
   "cell_type": "markdown",
   "metadata": {},
   "source": [
    "Let's compare these with the names we have in our depth_matrix. They must be exactly the same to join these two different tables into one."
   ]
  },
  {
   "cell_type": "code",
   "execution_count": null,
   "metadata": {},
   "outputs": [],
   "source": [
    "!cut -f 1  <<your original depth matrix>> | head"
   ]
  },
  {
   "cell_type": "markdown",
   "metadata": {},
   "source": [
    "Now we use the `join` command to join the two tables. There must be a shared field in both tables, in the first table this is the second column `-1 2` and the second file this is the first column `-2 1`. \n",
    "\n",
    "We then take both files and give them to the join command. However, since join is very picky in how files are sorted we re-sort them on-the-fly like so ` <(sort -k2d ./somefile.txt)` (second column, sort as dictionary).\n",
    "\n",
    "Lastly, since both files have headers, we supply the `--header` option and save the result as a new file."
   ]
  },
  {
   "cell_type": "code",
   "execution_count": null,
   "metadata": {},
   "outputs": [],
   "source": [
    "%%bash\n",
    "join -1 2 -2 1 <(sort -k2d ./binlist) <(sort -k1d <<your original depth matrix>>) --header > binned_depth_matrix.tab "
   ]
  },
  {
   "cell_type": "markdown",
   "metadata": {},
   "source": [
    "1. Like we did before, download this resulting table `binned_depth_matrix.tab` and open it in excel.\n",
    "\n",
    "2. Sort the file by the bin number. \n",
    "\n",
    "3. Erase columns you do not want to visualise\n",
    "\n",
    "4. Use conditional formatting to visualise depth profiles over the different samples per bin. \n",
    "\n",
    "Does this color pattern make more sense than it did before. Is there any outliers or mistakes you can spot?\n",
    "\n",
    "\n"
   ]
  }
 ],
 "metadata": {
  "kernelspec": {
   "display_name": "Python 3",
   "language": "python",
   "name": "python3"
  },
  "language_info": {
   "codemirror_mode": {
    "name": "ipython",
    "version": 3
   },
   "file_extension": ".py",
   "mimetype": "text/x-python",
   "name": "python",
   "nbconvert_exporter": "python",
   "pygments_lexer": "ipython3",
   "version": "3.6.7"
  }
 },
 "nbformat": 4,
 "nbformat_minor": 2
}
