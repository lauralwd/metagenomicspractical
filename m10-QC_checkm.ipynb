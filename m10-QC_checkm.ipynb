{
 "cells": [
  {
   "cell_type": "markdown",
   "metadata": {},
   "source": [
    "## Checking completeness and contamination using CheckM\n",
    "\n",
    "Now that we have the bins made with metabat we can check them for contamination and completeness (quality), for this we will use CheckM. CheckM provides a set of tools for assessing the quality of genomes recovered from isolates, single cells, or metagenomes. It provides robust estimates of genome completeness and contamination by using collocated sets of genes that are ubiquitous and single-copy within a phylogenetic lineage (also called marker/signature genes). http://ecogenomics.github.io/CheckM/\n",
    "\n",
    "As you will be able to see in the checkm help pages, checkm has a workflow (lineage_wf) that will run all nessecary steps to asses bin quality. \n",
    "\n",
    "Lineage_wf (lineage-specific workflow) steps: <br>\n",
    "- The tree command places genome bins into a reference genome tree.\n",
    "- The lineage_set command creates a marker file indicating lineage-specific marker sets suitable for evaluating each indivudual bin with the most appropriate reference set of markers. \n",
    "- This marker file is passed to the analyze command in order to identify marker genes and estimate the completeness and contamination of each genome bin. \n",
    "- Finally, the qa command can be used to produce different tables summarizing the quality of each genome bin. <br>\n",
    "\n",
    "\n",
    "Unfortunately, the 'tree' part of this workflow is too memmory intensive (about 32Gbytes of RAM (!) ) So we will cheat a bit. ** Instead, we will use the `checkm taxonomy_wf domain Bacteria` command. ** Hence, we don't load the full tree to find the most appropriate marker set, but assume all are bacteria (reasonable assumption in this case) and don't look any deeper than that. \n"
   ]
  },
  {
   "cell_type": "code",
   "execution_count": null,
   "metadata": {},
   "outputs": [],
   "source": [
    "checkm taxonomy_wf -h "
   ]
  },
  {
   "cell_type": "markdown",
   "metadata": {},
   "source": [
    "The checkm manual may seem somewhat intimidating. Remember that the options in square brackets are optional `[optional argument]`. Those without brackets are mandatory."
   ]
  },
  {
   "cell_type": "markdown",
   "metadata": {},
   "source": [
    "(think and discuss these questions) <br>\n",
    "\n",
    "What did you do? <br>\n",
    "Where is your output? <br>\n",
    "What does your output look like? <br>\n",
    "What can you say about the bins with this output? <br>\n",
    "What can you say about lineages of the bins?<br>"
   ]
  },
  {
   "cell_type": "markdown",
   "metadata": {},
   "source": [
    "You can create an extended checkm table with more information. \n",
    "\n",
    "1. Read the Checkm manual, and find out how to do this.\n",
    "2. Save the table in 'tab-delimeted' format, so you can download it and open it in Excel/google-sheets/libroffie.\n",
    "3. Choose what information you find valuable and discard the rest.\n",
    "4. Add the mean depth +/- SEM (Standard Error MEan) of each bin, per sample type.\n",
    "   - Sample types are E (Leaf) and P (Plant)\n",
    "5. Congratulations, you got your first table for a manuscript/thesis about your metagenome analysis!\n",
    "\n",
    "```\n",
    "checkm qa --help\n",
    "```"
   ]
  },
  {
   "cell_type": "markdown",
   "metadata": {},
   "source": [
    "# Bonus\n",
    "Did you try to vary binning parameters in the previous notebook (M7)? \n",
    "If so, run these through Checkm as well.\n",
    "Remember to create clear and separate output directories. \n",
    "\n",
    "Are the bins of similar quality?"
   ]
  }
 ],
 "metadata": {
  "kernelspec": {
   "display_name": "Bash",
   "language": "bash",
   "name": "bash"
  },
  "language_info": {
   "codemirror_mode": "shell",
   "file_extension": ".sh",
   "mimetype": "text/x-sh",
   "name": "bash"
  }
 },
 "nbformat": 4,
 "nbformat_minor": 2
}
