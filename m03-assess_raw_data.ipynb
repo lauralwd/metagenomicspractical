{
 "cells": [
  {
   "cell_type": "markdown",
   "metadata": {},
   "source": [
    "## Raw data\n",
    "We have discussed the raw data we will use in the general introduction notebook. \n",
    "Now we will use bash commands to look in these files."
   ]
  },
  {
   "cell_type": "markdown",
   "metadata": {},
   "source": [
    "### file location\n",
    "The sequencing reads are already available in the folder 'data/reads'. \n",
    "To keep the practical feasible, we have made a subset of the original data.\n",
    "\n",
    "In this reads folder, you will find 12 files.\n",
    "L and P stand for the leaf and plant samples.\n",
    "L1 L2 L3 are the biological replicates. \n",
    "R1 and R2 represent the forward and reverse Illumina reads. \n",
    "So 2 samples * 3 replicates * 2 directions = 12 files\n",
    "Files are stored in a fastq format (.fastq) which are compressed in gzip archives (.gz). \n",
    "The gzip compression format is widely used in the genomics field. \n",
    "Fastq files often compress down to only a quarter of the filesize with gzip! \n",
    "These days, you rarely ever need to extract these; all modern software can read these compressed fastq files.\n",
    "\n",
    "**[DO] Lets first double check if all files are available.**\n",
    "\n",
    "* use the `ls` command to see what files are present in the `data/reads/` folder\n",
    "* issue this command in the cell below:\n",
    "* confirm you see all `.fastq.gz` files"
   ]
  },
  {
   "cell_type": "code",
   "execution_count": 1,
   "metadata": {},
   "outputs": [
    {
     "name": "stdout",
     "output_type": "stream",
     "text": [
      "\u001b[0m\u001b[01;31mL1.R1.fastq.gz\u001b[0m  \u001b[01;31mL2.R2.fastq.gz\u001b[0m  \u001b[01;31mP1.R1.fastq.gz\u001b[0m  \u001b[01;31mP2.R2.fastq.gz\u001b[0m\r\n",
      "\u001b[01;31mL1.R2.fastq.gz\u001b[0m  \u001b[01;31mL3.R1.fastq.gz\u001b[0m  \u001b[01;31mP1.R2.fastq.gz\u001b[0m  \u001b[01;31mP3.R1.fastq.gz\u001b[0m\r\n",
      "\u001b[01;31mL2.R1.fastq.gz\u001b[0m  \u001b[01;31mL3.R2.fastq.gz\u001b[0m  \u001b[01;31mP2.R1.fastq.gz\u001b[0m  \u001b[01;31mP3.R2.fastq.gz\u001b[0m\r\n"
     ]
    }
   ],
   "source": [
    "ls data/reads"
   ]
  },
  {
   "cell_type": "markdown",
   "metadata": {},
   "source": [
    "### View a gzipped file\n",
    "To decompress and print a gzipped file to your screen, you can use the zcat command like this\n",
    "> zcat path/to/file.gz\n",
    "\n",
    "Note that the content of gzipped files often is quite big. \n",
    "So big even that you may crash this webpage. \n",
    "To prevent this from happening, 'pipe' the output of `zcat` to `head` to display only the first ten lines like so:\n",
    "\n",
    "> zcat path/to/file.gz | head\n",
    "\n",
    "**[DO] Now, in the cell below, check the first ten lines of one of the fastq files like so:**\n",
    "\n",
    "* use the `zcat` command\n",
    "* type yourself the path to one of the `fastq.gz` files we have seen in `ls` before\n",
    "* use a 'pipe' and the **head** command to only display the first ten lines of the output."
   ]
  },
  {
   "cell_type": "code",
   "execution_count": 1,
   "metadata": {},
   "outputs": [
    {
     "name": "stdout",
     "output_type": "stream",
     "text": [
      "@ERR2114809.1 NS500813:28:H3M3VAFXX:1:11101:2702:1014/1\n",
      "TNTCTACCTATAACTAAGGCAATCAGCGCAATCAATTCCCAAAATGAACCTGTGGGAAAGAAAAGACGAGAAATTAGTACCGCCGCAATGCCTTTGAAACCTTCAGACAGCACTGCCAAAATACCCACCAATTTGCCGCCGTGATAAAA\n",
      "+\n",
      "A#AAAEEEEEEEEEEEEEEEEEEEEEEEEEEEEEEEEEEEEEEEEEEEEEEEEEEEEEEEEEEEEEEEEE<EEEEEEEEEEEE<EEEEEEAEEEEEEE/EE<EEEEAEEEEEEEEEAEEEEEEAA<<AAEAEEAA<666<AAAAAAEEE\n",
      "@ERR2114809.2 NS500813:28:H3M3VAFXX:1:11101:9398:1015/1\n",
      "CNTCTGCTGTAGACACTAAGAATAAACCTTCTATTTGGAAGGTAGTTATAAATAATCTCATTAATTTACCCTGGACTTGGCGAATTACAATTATCTACTTAACTTTCATGTTATTTATGCCCATAGTGGCCATGTTTCTAAAAGTGAGTA\n",
      "+\n",
      "A#AAAEEEEEEEEEEEEEEEEEEAEEEEEEEEEEEEEEEEEAEEEEEAEEEEE<EEEEEEEEEAEEEEEAEEEEEEEEEEEEEAEEEEEEAAEEAEEEEEEEEEEEEEAEEE<AA/EAA<A6A<EEEEE<AEEEEEEEE<AE<AAAEEEE\n",
      "@ERR2114809.3 NS500813:28:H3M3VAFXX:1:11101:6665:1015/1\n",
      "CNACCAATCGCAATGGAGCCGCGCGTCGGCTGCTCCAGTCCCGAGATCATTGTCAGGAGCGTCGATTTAAGGCATCCAGAAGGCCCGACAAGAACCGTGAACGCCCCATGCGGCACGTTCAGGGTGAGGGGGGGATGGATCTCTAGCGCTC\n",
      "\n",
      "gzip: stdout: Broken pipe\n"
     ]
    }
   ],
   "source": [
    "zcat data/reads/L1.R1.fastq.gz | head"
   ]
  },
  {
   "cell_type": "markdown",
   "metadata": {},
   "source": [
    "There is no need to be alarmed by the 'broken pipe' error message. Still, do you understand what the error means?\n",
    "\n",
    "**[Q] Do these look as we would expect?**"
   ]
  },
  {
   "cell_type": "markdown",
   "metadata": {},
   "source": [
    "**[A]**"
   ]
  },
  {
   "cell_type": "markdown",
   "metadata": {},
   "source": [
    "Note that the regular `cat` command prints regular files to your screen. \n",
    "The `zcat` command is just a variant of this for compressed files.\n",
    "\n",
    "> cat is short for conCATenate,  zcat is short for something like gZipped-conCATenate\n",
    "\n",
    "\n",
    "### Counting reads\n",
    "Now, I want you to find out how many reads there are in a single fastq file. You will achieve this in two steps.\n",
    "\n",
    "First, using grep, we can select for lines in a file that contain only the word/key specified in the grep command.\n",
    "As you can see in the above command, the headers of the reads always start with the \"@\", therefor if we only want to see the headers, we can grep for the \"@\" using the command below:\n",
    "\n",
    "**[DO:] In the cell below, create a command that uses**\n",
    "1. `zcat`  to open the fastq.gz file.\n",
    "2. `grep '@'`   to print only lines with an '@'. So only the headers of the FastQ file.\n",
    "3. `head`  to show you only the first ten lines and thus not crash our webpage.\n",
    "\n",
    "Again, use pipes to feed the output from one programme to the next."
   ]
  },
  {
   "cell_type": "code",
   "execution_count": 2,
   "metadata": {},
   "outputs": [
    {
     "name": "stdout",
     "output_type": "stream",
     "text": [
      "@ERR2114809.1 NS500813:28:H3M3VAFXX:1:11101:2702:1014/1\n",
      "@ERR2114809.2 NS500813:28:H3M3VAFXX:1:11101:9398:1015/1\n",
      "@ERR2114809.3 NS500813:28:H3M3VAFXX:1:11101:6665:1015/1\n",
      "@ERR2114809.4 NS500813:28:H3M3VAFXX:1:11101:14041:1015/1\n",
      "@ERR2114809.5 NS500813:28:H3M3VAFXX:1:11101:14890:1015/1\n",
      "@ERR2114809.6 NS500813:28:H3M3VAFXX:1:11101:19927:1016/1\n",
      "@ERR2114809.7 NS500813:28:H3M3VAFXX:1:11101:26515:1016/1\n",
      "@ERR2114809.8 NS500813:28:H3M3VAFXX:1:11101:7791:1016/1\n",
      "@ERR2114809.9 NS500813:28:H3M3VAFXX:1:11101:6269:1017/1\n",
      "@ERR2114809.10 NS500813:28:H3M3VAFXX:1:11101:16102:1017/1\n",
      "grep: write error: Broken pipe\n",
      "\n",
      "gzip: stdout: Broken pipe\n"
     ]
    }
   ],
   "source": [
    "zcat data/reads/L1.R1.fastq.gz | grep '@' | head"
   ]
  },
  {
   "cell_type": "markdown",
   "metadata": {},
   "source": [
    "In the output you just created in step one, every line contains a header representing one sequence. \n",
    "The second step now is to count these lines. \n",
    "To count the number of lines, we will first have to read in the gzip file, then grep on the headers, and then we can use the word count command to count the number of lines. \n",
    "\n",
    "**[DO:] First read the 'help page' of the `wc` command by typing in the cell below:**\n",
    "\n",
    "> wc --help"
   ]
  },
  {
   "cell_type": "code",
   "execution_count": 4,
   "metadata": {},
   "outputs": [
    {
     "name": "stdout",
     "output_type": "stream",
     "text": [
      "Usage: wc [OPTION]... [FILE]...\n",
      "  or:  wc [OPTION]... --files0-from=F\n",
      "Print newline, word, and byte counts for each FILE, and a total line if\n",
      "more than one FILE is specified.  A word is a non-zero-length sequence of\n",
      "characters delimited by white space.\n",
      "\n",
      "With no FILE, or when FILE is -, read standard input.\n",
      "\n",
      "The options below may be used to select which counts are printed, always in\n",
      "the following order: newline, word, character, byte, maximum line length.\n",
      "  -c, --bytes            print the byte counts\n",
      "  -m, --chars            print the character counts\n",
      "  -l, --lines            print the newline counts\n",
      "      --files0-from=F    read input from the files specified by\n",
      "                           NUL-terminated names in file F;\n",
      "                           If F is - then read names from standard input\n",
      "  -L, --max-line-length  print the maximum display width\n",
      "  -w, --words            print the word counts\n",
      "      --help     display this help and exit\n",
      "      --version  output version information and exit\n",
      "\n",
      "GNU coreutils online help: <https://www.gnu.org/software/coreutils/>\n",
      "Full documentation at: <https://www.gnu.org/software/coreutils/wc>\n",
      "or available locally via: info '(coreutils) wc invocation'\n"
     ]
    }
   ],
   "source": [
    "wc --help"
   ]
  },
  {
   "cell_type": "markdown",
   "metadata": {},
   "source": [
    "What option do we need to provide `wc` to count lines? Deduce from the manual page.\n",
    "\n",
    "**[DO:] Now Finally, make a new 'pipeline' using**\n",
    "1. `zcat`  to open the fastq.gz file\n",
    "2. `grep '@'`   to filter out only headers \n",
    "3. `wc` + options to count the lines in the fastq file.\n"
   ]
  },
  {
   "cell_type": "code",
   "execution_count": 5,
   "metadata": {},
   "outputs": [
    {
     "name": "stdout",
     "output_type": "stream",
     "text": [
      "1000000\n"
     ]
    }
   ],
   "source": [
    "zcat data/reads/L1.R1.fastq.gz | grep '@' | wc -l"
   ]
  },
  {
   "cell_type": "code",
   "execution_count": 11,
   "metadata": {},
   "outputs": [
    {
     "name": "stdout",
     "output_type": "stream",
     "text": [
      "1000000\n"
     ]
    }
   ],
   "source": [
    "zcat data/reads/L1.R1.fastq.gz | grep '@' -c"
   ]
  },
  {
   "cell_type": "markdown",
   "metadata": {},
   "source": [
    "**[Q:] How many sequences are in the FastQ file, is this number remarkable?**"
   ]
  },
  {
   "cell_type": "markdown",
   "metadata": {},
   "source": [
    "**[A]**"
   ]
  },
  {
   "cell_type": "markdown",
   "metadata": {},
   "source": [
    "So now you have executed some bash commands and investigated the output. \n",
    "Well done!\n",
    "\n",
    "## Assembled data\n",
    "Calculating a de-novo metagenome assembly is beyond the scope of this practical, so we have done this for you. \n",
    "You will however, analyse this assembly yourself! :)\n",
    "\n",
    "**[DO:] Let's start by looking at the assembly files in the folder** `data/assembly`**.**\n"
   ]
  },
  {
   "cell_type": "code",
   "execution_count": 7,
   "metadata": {},
   "outputs": [
    {
     "name": "stdout",
     "output_type": "stream",
     "text": [
      "\u001b[0m\u001b[01;31mscaffolds.fasta.gz\u001b[0m\n"
     ]
    }
   ],
   "source": [
    "ls data/assembly"
   ]
  },
  {
   "cell_type": "markdown",
   "metadata": {},
   "source": [
    "Now, look at the first ten lines of the assembly with the `head` command.\n",
    "\n",
    "Will you use `zcat` to open the assembly? \n",
    "Only if the assembly is a compressed `scaffolds.fasta.gz` file. \n",
    "If you are dealing with a 'regular' fasta file, use `cat`. \n",
    "\n",
    "Finally, after using head, also type `| cut -c 1-500` This *cut*s out *c*haracter *1 to 500*.\n",
    "If you skip that last step, you may overload this web page.\n",
    "\n",
    "**[DO:] Use** `(z)cat`**,** `head`**, and** `cut -c 1-500` **to look at the first lines of the assembly'**"
   ]
  },
  {
   "cell_type": "code",
   "execution_count": 1,
   "metadata": {},
   "outputs": [
    {
     "name": "stdout",
     "output_type": "stream",
     "text": [
      ">NODE_1_length_1935275_cov_24.6805_ID_23901540\n",
      "CAATCGTGCCGACGTTGCAATGCGGCTTGTTACGCTCAAATTTAGCCTTCGCCATGTCCGTACAATCCTAAAAACCAGAATTGAAATCGTATCTTAACTACTTTGCCGTAAACCGGTCAGGGACCGATCCACCGCGAAACTCTGGAGCGGGTGACGGGAATCGAACCCGCGTAGCCAGCTTGGAAGGCTGGAGCTCTACCATTGAGCTACACCCGCCCGCTCACTAGCGAGTTCACACCCGCCAACACCTCGCAACATCGCGCCACCAACCAATAAACACATGCCATAACAGGCAGAATGCTCATCGGGGAGCTTGGTGGAAGGGGTAGGATTCGAACCTACGTAGGCCGAAGCCAACGGGTTTACAGCCCGTCCCCTTTAGCCACTCGGGCACCCTTCCATCTCGCTCGACTCCGCTCAGCGGAGACGCGGACTTATGAGCATTTAACCACCCGTGTCAACTTGAAATCACAGCAAAAACTCCCGTTCGCGCCGATTTC\n",
      ">NODE_2_length_1021023_cov_23.722_ID_28578184\n",
      "GGCGCGGGCTTTTGCTTGCGCAGCGCTCCAGCACCTACAATCTCGAACCCGTAGCCTTGTCGAAAAGATGGGCCTTGCCGACATCCGGCGCGAGGTGAATGGTCTCGCCGGGCTGAAGGGCGATGCGTTCACGGAAGAGGCCGACGATGTCGTGGTTGCCAAGGCGGACCACGACTTGTGTTTCCGATCCGGTCGGCTCGATGACGACGACCTTCACGGGGATTCCGGCATCGGAGACCGTGAAATGTTCCGGCCGAATGCCGTAGATCAGGGGCTTGCCCGCGGTATCTGAAGGGGCAGCGCTGAGCGGCAGGTGGACACCTTCCGGTGTTACGAAGCTGGGCCGCCCGTCGCTGCCGATTGCCACTGTGCCGTCGATCAGATTCATCGACGGTGAGCCGATGAAGCTCGCCACGAAAAGGTTGGCCGGGCGATCGTAAAGCTCCAGCGGCGGACCGGACTGTTCCACGATGCCGTCATGCATGACCACGATCTTGTCC\n",
      ">NODE_3_length_872793_cov_26.0458_ID_35712810\n",
      "GCGGGCGTAGCTCAGGGGTAGAGCACAACCTTGCCAAGGTTGGGGTCGAGGGTTCGAATCCCTTCGCCCGCTCCAGTTTGCCTTCCGATATCGTCCGGATACACAAAACGGCCCTTCCGGGGCCGTTTTTGCGTTTGGGGCTGTTGCCCCCTATTGCTTCACCACATTCACATGCCCGGCCTCAATCATGTCGATGACCAGGAGCTTCACCGGCTCCGTGCCGATGTTGCTGGCCTTGTGCCATTGGTCGACCGCTTCGATGATGAAACCACCCGCTTCGTAGACCGTGGTCGTGCCGGCATCGAGATAAGTGACCTCGAGCTTGCCGGAGAGGACATAGGCGTAGCGGGGATAGGGGTGCTTATGGACCGGCAGCTTGGCACCCACCGGGATGTCGTAGGTCGAGACCTCCACCTCGGCATCCGTCTGCGGCAGTTGGATGGGCTGGCCGGTCGCGGTGACGGCGCTCTTCATCACCGGTGTGACGACCACTTTGGGCG\n",
      ">NODE_4_length_853167_cov_25.0814_ID_23902252\n",
      "GAACCCTCGACCCCAACCTTGGCAAGGTTGTGCTCTACCCCTGAGCTACGCCCGCACCCTGTTTGCGCGGCCCGCGATGCCTTGGCGTCACGAGCGCGGCGCATCATACGCATCGGCGGCGCATTTGCAAGTGGGCTTATTCTGACGCCAAATCAAGGGGTTCGGGGATTTTGACCGGTTTCGGCCATAGGCGGAATCGGGGGCCATTGTAAGCGGGCGCCTTCCCCGGCTATACCCGGCGTCATTCCCGTTCATGAAAGTTCGAGACCATGTCTGACAACGCCCCAGTCGCAGCAGCCCCCCAGGACCGCGCTGCCGAGATTGCCGCCGCCATCGCCGCACAGAGCCTAATTCCCACCAGCCCGGCACAGCTGCTGGCCCGGCTCGAGGCGCTCGGCATCGCGACCCGCACGGTCGATCACGATCCGGTCTTCACCGTCGAGGAAAGCCAGCATTTGCGGGGCGAACTGCCCGGCGGCCATATCAAGAACCTGTTCCTG\n",
      ">NODE_5_length_723368_cov_22.0639_ID_32380821\n",
      "GGCCAATCCCTCAATCAGATCCAGTGTCTCCGCCACTTCGTCGAAAGCGTGCATGGCGCCCGTCAGGGCGGCGGTGGTGTCGACATGGGCCAGCTCGTGCGCGCAGATCTGCCAGCAGGGACCCGCCTGGCGGCGCGACAGGGAGACGGCGATGGTGTACCGGTGTCCACTGCCACCTGGCTGTCCATGGCCCGCATCAGGCTGGACCGGTGGGGCCGGTCACGCGAAACCGACTATGACCGAGGCACCACGTCGCATCAGGACCAGCAGGTCGGCGGGCAGTGGCGGTGTGCTCATCCGGCTGGATGCAACCAAAGTGTGCGCTTGCGAAAGAAATCGACCGGGAGCCCCCGGGAAATGGCCCTGGGATGCTATCAAAAAAATAGCGCAGCATCAGCTGCGCGGCCGGAACTCCAGGATCAGTGGCGAGTGGACGCGGCCGTCGGTGTCGCGCGGCAGCACTTCGGTCTTGTCCAGCGCGCGCAGCACGGCCTCGTCCC\n",
      "cut: write error: Broken pipe\n"
     ]
    }
   ],
   "source": [
    "zcat data/assembly/scaffolds.fasta.gz | cut -c 1-500 | head"
   ]
  },
  {
   "cell_type": "markdown",
   "metadata": {},
   "source": [
    "Next, we will assess the number of sequences in the assembly.\n",
    "Remember how we did this for the FastQ file?\n",
    "\n",
    "Also, remember that the headers for FastQ files and Fasta files are not the same.\n",
    "\n",
    "1. `(z)cat` the assembly file\n",
    "2. `grep` the headers\n",
    "3. `wc` to count the lines.\n",
    "\n",
    "**[DO:] Assess the number of scaffolds in the metagenome assembly.**"
   ]
  },
  {
   "cell_type": "code",
   "execution_count": 9,
   "metadata": {},
   "outputs": [
    {
     "name": "stdout",
     "output_type": "stream",
     "text": [
      "18623\n"
     ]
    }
   ],
   "source": [
    "zcat data/assembly/scaffolds.fasta.gz | grep '>' | wc -l"
   ]
  },
  {
   "cell_type": "code",
   "execution_count": 10,
   "metadata": {},
   "outputs": [
    {
     "name": "stdout",
     "output_type": "stream",
     "text": [
      "18623\n"
     ]
    }
   ],
   "source": [
    "zcat data/assembly/scaffolds.fasta.gz | grep '>' -c"
   ]
  },
  {
   "cell_type": "markdown",
   "metadata": {},
   "source": [
    "**[Q:] Do you remember from the lecture any reasons that assemblies may be split up over this amount of contigs?** "
   ]
  },
  {
   "cell_type": "markdown",
   "metadata": {},
   "source": [
    "**[A]**"
   ]
  },
  {
   "cell_type": "markdown",
   "metadata": {},
   "source": [
    "## prepare assembly data\n",
    "For convenience, we will decompress the assembly. \n",
    "Compression was achieved with the `gzip` programme. \n",
    "Decompression can be done with the command `gunzip path/to/assembly`. \n",
    "1. In the new cell below, decompress the assembly, `gunzip` only gives you output if something went wrong. So no `| head` is needed here.\n",
    "  - use `zcat your-file.fastq.gz > yourfile.fastq` if gunzip doesn't work. This is the case for the CoCalc environment\n",
    "  \n",
    "  \n",
    "2. In the second cell, use `ls` command to see if it worked the file is still a `.gz` file, or if it was decompressed.\n",
    "3. Finally, in the third cell, use the `head command` to peak into the assembly like so `head ./data/assembly/scaffolds.fasta | cut -c 1-500`\n",
    "\n",
    "**[DO:] decompress the assembly and check if you were successfull as indicated above**"
   ]
  },
  {
   "cell_type": "code",
   "execution_count": 12,
   "metadata": {},
   "outputs": [],
   "source": [
    "gunzip data/assembly/scaffolds.fasta.gz"
   ]
  },
  {
   "cell_type": "code",
   "execution_count": 15,
   "metadata": {},
   "outputs": [],
   "source": [
    "zcat data/assembly/scaffolds.fasta.gz > data/assembly/scaffolds.fasta"
   ]
  },
  {
   "cell_type": "code",
   "execution_count": 16,
   "metadata": {},
   "outputs": [
    {
     "name": "stdout",
     "output_type": "stream",
     "text": [
      "scaffolds.fasta  \u001b[0m\u001b[01;31mscaffolds.fasta.gz\u001b[0m\n"
     ]
    }
   ],
   "source": [
    "ls data/assembly"
   ]
  },
  {
   "cell_type": "code",
   "execution_count": 17,
   "metadata": {},
   "outputs": [
    {
     "name": "stdout",
     "output_type": "stream",
     "text": [
      ">NODE_1_length_1935275_cov_24.6805_ID_23901540\n",
      "CAATCGTGCCGACGTTGCAATGCGGCTTGTTACGCTCAAATTTAGCCTTCGCCATGTCCGTACAATCCTAAAAACCAGAATTGAAATCGTATCTTAACTACTTTGCCGTAAACCGGTCAGGGACCGATCCACCGCGAAACTCTGGAGCGGGTGACGGGAATCGAACCCGCGTAGCCAGCTTGGAAGGCTGGAGCTCTACCATTGAGCTACACCCGCCCGCTCACTAGCGAGTTCACACCCGCCAACACCTCGCAACATCGCGCCACCAACCAATAAACACATGCCATAACAGGCAGAATGCTCATCGGGGAGCTTGGTGGAAGGGGTAGGATTCGAACCTACGTAGGCCGAAGCCAACGGGTTTACAGCCCGTCCCCTTTAGCCACTCGGGCACCCTTCCATCTCGCTCGACTCCGCTCAGCGGAGACGCGGACTTATGAGCATTTAACCACCCGTGTCAACTTGAAATCACAGCAAAAACTCCCGTTCGCGCCGATTTC\n",
      ">NODE_2_length_1021023_cov_23.722_ID_28578184\n",
      "GGCGCGGGCTTTTGCTTGCGCAGCGCTCCAGCACCTACAATCTCGAACCCGTAGCCTTGTCGAAAAGATGGGCCTTGCCGACATCCGGCGCGAGGTGAATGGTCTCGCCGGGCTGAAGGGCGATGCGTTCACGGAAGAGGCCGACGATGTCGTGGTTGCCAAGGCGGACCACGACTTGTGTTTCCGATCCGGTCGGCTCGATGACGACGACCTTCACGGGGATTCCGGCATCGGAGACCGTGAAATGTTCCGGCCGAATGCCGTAGATCAGGGGCTTGCCCGCGGTATCTGAAGGGGCAGCGCTGAGCGGCAGGTGGACACCTTCCGGTGTTACGAAGCTGGGCCGCCCGTCGCTGCCGATTGCCACTGTGCCGTCGATCAGATTCATCGACGGTGAGCCGATGAAGCTCGCCACGAAAAGGTTGGCCGGGCGATCGTAAAGCTCCAGCGGCGGACCGGACTGTTCCACGATGCCGTCATGCATGACCACGATCTTGTCC\n",
      ">NODE_3_length_872793_cov_26.0458_ID_35712810\n",
      "GCGGGCGTAGCTCAGGGGTAGAGCACAACCTTGCCAAGGTTGGGGTCGAGGGTTCGAATCCCTTCGCCCGCTCCAGTTTGCCTTCCGATATCGTCCGGATACACAAAACGGCCCTTCCGGGGCCGTTTTTGCGTTTGGGGCTGTTGCCCCCTATTGCTTCACCACATTCACATGCCCGGCCTCAATCATGTCGATGACCAGGAGCTTCACCGGCTCCGTGCCGATGTTGCTGGCCTTGTGCCATTGGTCGACCGCTTCGATGATGAAACCACCCGCTTCGTAGACCGTGGTCGTGCCGGCATCGAGATAAGTGACCTCGAGCTTGCCGGAGAGGACATAGGCGTAGCGGGGATAGGGGTGCTTATGGACCGGCAGCTTGGCACCCACCGGGATGTCGTAGGTCGAGACCTCCACCTCGGCATCCGTCTGCGGCAGTTGGATGGGCTGGCCGGTCGCGGTGACGGCGCTCTTCATCACCGGTGTGACGACCACTTTGGGCG\n",
      ">NODE_4_length_853167_cov_25.0814_ID_23902252\n",
      "GAACCCTCGACCCCAACCTTGGCAAGGTTGTGCTCTACCCCTGAGCTACGCCCGCACCCTGTTTGCGCGGCCCGCGATGCCTTGGCGTCACGAGCGCGGCGCATCATACGCATCGGCGGCGCATTTGCAAGTGGGCTTATTCTGACGCCAAATCAAGGGGTTCGGGGATTTTGACCGGTTTCGGCCATAGGCGGAATCGGGGGCCATTGTAAGCGGGCGCCTTCCCCGGCTATACCCGGCGTCATTCCCGTTCATGAAAGTTCGAGACCATGTCTGACAACGCCCCAGTCGCAGCAGCCCCCCAGGACCGCGCTGCCGAGATTGCCGCCGCCATCGCCGCACAGAGCCTAATTCCCACCAGCCCGGCACAGCTGCTGGCCCGGCTCGAGGCGCTCGGCATCGCGACCCGCACGGTCGATCACGATCCGGTCTTCACCGTCGAGGAAAGCCAGCATTTGCGGGGCGAACTGCCCGGCGGCCATATCAAGAACCTGTTCCTG\n",
      ">NODE_5_length_723368_cov_22.0639_ID_32380821\n",
      "GGCCAATCCCTCAATCAGATCCAGTGTCTCCGCCACTTCGTCGAAAGCGTGCATGGCGCCCGTCAGGGCGGCGGTGGTGTCGACATGGGCCAGCTCGTGCGCGCAGATCTGCCAGCAGGGACCCGCCTGGCGGCGCGACAGGGAGACGGCGATGGTGTACCGGTGTCCACTGCCACCTGGCTGTCCATGGCCCGCATCAGGCTGGACCGGTGGGGCCGGTCACGCGAAACCGACTATGACCGAGGCACCACGTCGCATCAGGACCAGCAGGTCGGCGGGCAGTGGCGGTGTGCTCATCCGGCTGGATGCAACCAAAGTGTGCGCTTGCGAAAGAAATCGACCGGGAGCCCCCGGGAAATGGCCCTGGGATGCTATCAAAAAAATAGCGCAGCATCAGCTGCGCGGCCGGAACTCCAGGATCAGTGGCGAGTGGACGCGGCCGTCGGTGTCGCGCGGCAGCACTTCGGTCTTGTCCAGCGCGCGCAGCACGGCCTCGTCCC\n"
     ]
    }
   ],
   "source": [
    "head data/assembly/scaffolds.fasta | cut -c 1-500"
   ]
  }
 ],
 "metadata": {
  "kernelspec": {
   "display_name": "Bash",
   "language": "bash",
   "name": "bash"
  },
  "language_info": {
   "codemirror_mode": "shell",
   "file_extension": ".sh",
   "mimetype": "text/x-sh",
   "name": "bash"
  }
 },
 "nbformat": 4,
 "nbformat_minor": 2
}
