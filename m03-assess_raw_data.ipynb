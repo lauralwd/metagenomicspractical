{
 "cells": [
  {
   "cell_type": "markdown",
   "metadata": {},
   "source": [
    "## Raw data\n",
    "we have discussed the raw data we will use in the general introduction notebook. Now we will use bash commands to actually look in these files."
   ]
  },
  {
   "cell_type": "markdown",
   "metadata": {},
   "source": [
    "### file location\n",
    "The sequencing reads are already available in the folder 'data/reads', to keep the practical feasible we have made a subset of the original data. <br>\n",
    "\n",
    "In this reads folder you will find 12 files. <br>\n",
    "L and P stand for the leaf and plant samples. <br>\n",
    "L1 L2 L3 are the biological replicates. R1 and R2 represent the forward and reverse illumina reads. So 2 samples * 3 replicates * 2 directions = 12 files <br>\n",
    "Files are stored in a fastq format (.fastq) which are compressed in gzip archives (.gz). The gzip compression format is widely used in the genomics field, fastq files often compress down to only a quarter of the filesize with gzip! You do not need to extract these! <br>\n",
    "\n",
    "Lets first double check if all files are available. \n",
    "\n",
    "* use the `ls` command to see what files are present in the `data/reads/` folder\n",
    "* issue this command in the cell below:\n",
    "* confirm you see all `.fastq.gz` files\n",
    "\n"
   ]
  },
  {
   "cell_type": "code",
   "execution_count": null,
   "metadata": {},
   "outputs": [],
   "source": [
    "ls"
   ]
  },
  {
   "cell_type": "markdown",
   "metadata": {},
   "source": [
    "### View a gzipped file\n",
    "To decompress and print a gzipped file to your screen, you can use the zcat command like this\n",
    "> zcat path/to/file.gz\n",
    "\n",
    "Note that the content of gzipped files often is quite big. So big even that you may crash this webpage. To prevent this from happening. 'Pipe' the output of `zcat` into `head` to display only the first 10 lines. like so\n",
    "\n",
    "> zcat path/to/file.gz | head\n",
    "\n",
    "Now in the cell below, check the first 10 lines of one of the fastq files. By doing:\n",
    "\n",
    "* use the `zcat` command\n",
    "* type yourself the path the one of the `fastq.gz` files we have seen in `ls` before\n",
    "* use a 'pipe' and the **head** command to only display the first 10 lines of the output.\n",
    "\n",
    "\n",
    "Do these look as we would expect?\n",
    "\n",
    "Note that the regular `cat` command prints regular files to your screen. the `zcat` command is just a variant of this for compressed files.\n",
    "\n",
    "> cat is short for conCATenate,  zcat is short for something like gZipped-conCATenate\n"
   ]
  },
  {
   "cell_type": "code",
   "execution_count": null,
   "metadata": {},
   "outputs": [],
   "source": [
    "zcat"
   ]
  },
  {
   "cell_type": "markdown",
   "metadata": {},
   "source": [
    "There is no need to be alarmed by the 'broken pipe' error message. Still, do you understand what the error means?\n",
    "\n",
    "### Counting reads\n",
    "Now I want you to find out how many reads there are in a single fastq file. You will achieve this in who steps.\n",
    "\n",
    "First, using grep we can select for lines in a file that contain only the word/key specified in the grep command. As you can see in the above command, the headers of the reads always start with the \"@\", therefor if we only want to see the headers we can simply grep for the \"@\" using the command below:\n",
    "\n",
    "In the cell below, create a command that uses\n",
    "1. `zcat`  to open the fastq.gz file.\n",
    "2. `grep '@'`   to print only lines with an '@'. So only the headers of the FastQ file.\n",
    "3. `head`  to show you only the first 10 lines and thus not crash our webpage.\n",
    "\n",
    "Again use pipes to feed the ouput from one programme to the next."
   ]
  },
  {
   "cell_type": "code",
   "execution_count": null,
   "metadata": {},
   "outputs": [],
   "source": [
    "zcat "
   ]
  },
  {
   "cell_type": "markdown",
   "metadata": {},
   "source": [
    "In the output you just created in step one, every line contains a header respresenting one sequence. The second step now is to count these lines. To count the number of lines we will first have to read in the gzip file, then grep on the headers, and then we can use the wordcount command to count the number of lines. First read the 'help page'\n",
    "of the `wc` command by typing in the cell below:\n",
    "\n",
    "> wc --help"
   ]
  },
  {
   "cell_type": "code",
   "execution_count": null,
   "metadata": {},
   "outputs": [],
   "source": []
  },
  {
   "cell_type": "markdown",
   "metadata": {},
   "source": [
    "What option do we need to provide `wc` to count lines? Deduce from the manual page.\n",
    "\n",
    "Now Finally, make a new 'pipeline' using\n",
    "1. `zcat`  to open the fastq.gz file\n",
    "2. `grep '@'`   to filter out only headers \n",
    "3. `wc` + options to count the lines in the fastq file.\n"
   ]
  },
  {
   "cell_type": "code",
   "execution_count": null,
   "metadata": {},
   "outputs": [],
   "source": [
    "zcat"
   ]
  },
  {
   "cell_type": "markdown",
   "metadata": {},
   "source": [
    "### wrap up\n",
    "So now you have executed some bash commands and investigated the output.  Well done!"
   ]
  },
  {
   "cell_type": "markdown",
   "metadata": {},
   "source": [
    "## Assembled data"
   ]
  },
  {
   "cell_type": "markdown",
   "metadata": {},
   "source": [
    "Calculating a de-novo metagenome assembly is beyond the scope of this practical, so we have done this for you. You will however analyse this assembly yourself! :)\n",
    "\n",
    "Lets start by looking at the assembly files in the folder `data/assembly`. Do this in a new cell below."
   ]
  },
  {
   "cell_type": "code",
   "execution_count": null,
   "metadata": {},
   "outputs": [],
   "source": [
    "ls"
   ]
  },
  {
   "cell_type": "markdown",
   "metadata": {},
   "source": [
    "Now, look at the first 10 lines of the assembly with the `head` command.\n",
    "\n",
    "Will you use `zcat` to open the assembly? Only if the assembly is a compressed `scaffolds.fasta.gz` file. If you are dealing with a 'regular' fasta file, then use `cat` (Short for concatenate). \n",
    "\n",
    "Finally, after using head, also type `| cut -c 1-500` This *cut*s out *c*haracter *1 to 500*."
   ]
  },
  {
   "cell_type": "code",
   "execution_count": null,
   "metadata": {},
   "outputs": [],
   "source": []
  },
  {
   "cell_type": "markdown",
   "metadata": {},
   "source": [
    "Now we will assess the number of sequences in the assembly. Remember how we did this for the FastQ file?\n",
    "\n",
    "Also, remember that the headers for FastQ files and Fasta files are not the same.\n",
    "\n",
    "1. `cat` the assembly file\n",
    "2. `grep` the headers\n",
    "3. `wc` to count the lines.\n",
    "\n",
    "Add a new cell below and assess the number of scaffolds in the metagenome assembly"
   ]
  },
  {
   "cell_type": "code",
   "execution_count": null,
   "metadata": {},
   "outputs": [],
   "source": []
  },
  {
   "cell_type": "markdown",
   "metadata": {},
   "source": [
    "## prepare assembly data\n",
    "For convenience, we will decompress the assembly. Compression was achieved with the `gzip` programme. Decompression can be done with the command `gunzip  path/to/assembly`. \n",
    "1. In the new cell below, decompress the assembly, `gunzip` only gives you output if something went wrong. So no `| head` needed here.\n",
    "2. In the second cell, use `ls` command to see if it worked the file is still a `.gz` file, or if it was decompressed.\n",
    "3. Finally, in the third cell, use the `head command` to peak into the assembly like so `head ./data/assembly/scaffolds.fasta | cut -c 1-500`\n",
    "\n",
    "You will need the uncompressed assembly for the next step."
   ]
  },
  {
   "cell_type": "code",
   "execution_count": null,
   "metadata": {},
   "outputs": [],
   "source": [
    "gunzip"
   ]
  },
  {
   "cell_type": "code",
   "execution_count": null,
   "metadata": {},
   "outputs": [],
   "source": [
    "ls"
   ]
  },
  {
   "cell_type": "code",
   "execution_count": null,
   "metadata": {},
   "outputs": [],
   "source": [
    "head"
   ]
  }
 ],
 "metadata": {
  "kernelspec": {
   "display_name": "Python 3",
   "language": "python",
   "name": "python3"
  },
  "language_info": {
   "codemirror_mode": {
    "name": "ipython",
    "version": 3
   },
   "file_extension": ".py",
   "mimetype": "text/x-python",
   "name": "python",
   "nbconvert_exporter": "python",
   "pygments_lexer": "ipython3",
   "version": "3.6.9"
  }
 },
 "nbformat": 4,
 "nbformat_minor": 2
}
