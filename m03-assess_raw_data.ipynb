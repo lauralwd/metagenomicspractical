{
 "cells": [
  {
   "cell_type": "markdown",
   "metadata": {},
   "source": [
    "## Raw data\n",
    "We have discussed the raw data we will use in the general introduction notebook. \n",
    "Now we will use bash commands to look in these files."
   ]
  },
  {
   "cell_type": "markdown",
   "metadata": {},
   "source": [
    "### file location\n",
    "The sequencing reads are already available in the folder 'data/reads'. \n",
    "To keep the practical feasible, we have made a subset of the original data.\n",
    "\n",
    "In this reads folder, you will find 12 files.\n",
    "L and P stand for the leaf and plant samples.\n",
    "L1 L2 L3 are the biological replicates. \n",
    "R1 and R2 represent the forward and reverse Illumina reads. \n",
    "So 2 samples * 3 replicates * 2 directions = 12 files\n",
    "Files are stored in a fastq format (.fastq) which are compressed in gzip archives (.gz). \n",
    "The gzip compression format is widely used in the genomics field. \n",
    "Fastq files often compress down to only a quarter of the filesize with gzip! \n",
    "These days, you rarely ever need to extract these; all modern software can read these compressed fastq files.\n",
    "\n",
    "**[DO] Lets first double check if all files are available.**\n",
    "\n",
    "* use the `ls` command to see what files are present in the `data/reads/` folder\n",
    "* issue this command in the cell below:\n",
    "* confirm you see all `.fastq.gz` files"
   ]
  },
  {
   "cell_type": "code",
   "execution_count": null,
   "metadata": {},
   "outputs": [],
   "source": []
  },
  {
   "cell_type": "markdown",
   "metadata": {},
   "source": [
    "### View a gzipped file\n",
    "To decompress and print a gzipped file to your screen, you can use the zcat command like this\n",
    "> zcat path/to/file.gz\n",
    "\n",
    "Note that the content of gzipped files often is quite big. \n",
    "So big even that you may crash this webpage. \n",
    "To prevent this from happening, 'pipe' the output of `zcat` to `head` to display only the first ten lines like so:\n",
    "\n",
    "> zcat path/to/file.gz | head\n",
    "\n",
    "**[DO] Now, in the cell below, check the first ten lines of one of the fastq files like so:**\n",
    "\n",
    "* use the `zcat` command\n",
    "* type yourself the path to one of the `fastq.gz` files we have seen in `ls` before\n",
    "* use a 'pipe' and the **head** command to only display the first ten lines of the output."
   ]
  },
  {
   "cell_type": "code",
   "execution_count": null,
   "metadata": {},
   "outputs": [],
   "source": [
    "zcat"
   ]
  },
  {
   "cell_type": "markdown",
   "metadata": {},
   "source": [
    "There is no need to be alarmed by the 'broken pipe' error message. Still, do you understand what the error means?\n",
    "\n",
    "**[Q] Do these look as we would expect?**"
   ]
  },
  {
   "cell_type": "markdown",
   "metadata": {},
   "source": [
    "**[A]**"
   ]
  },
  {
   "cell_type": "markdown",
   "metadata": {},
   "source": [
    "Note that the regular `cat` command prints regular files to your screen. \n",
    "The `zcat` command is just a variant of this for compressed files.\n",
    "\n",
    "> cat is short for conCATenate,  zcat is short for something like gZipped-conCATenate\n",
    "\n",
    "\n",
    "### Counting reads\n",
    "Now, I want you to find out how many reads there are in a single fastq file. You will achieve this in two steps.\n",
    "\n",
    "First, using grep, we can select for lines in a file that contain only the word/key specified in the grep command.\n",
    "As you can see in the above command, the headers of the reads always start with the \"@\", therefor if we only want to see the headers, we can grep for the \"@\" using the command below:\n",
    "\n",
    "**[DO:] In the cell below, create a command that uses**\n",
    "1. `zcat`  to open the fastq.gz file.\n",
    "2. `grep '@'`   to print only lines with an '@'. So only the headers of the FastQ file.\n",
    "3. `head`  to show you only the first ten lines and thus not crash our webpage.\n",
    "\n",
    "Again, use pipes to feed the output from one programme to the next."
   ]
  },
  {
   "cell_type": "code",
   "execution_count": null,
   "metadata": {},
   "outputs": [],
   "source": [
    "zcat "
   ]
  },
  {
   "cell_type": "markdown",
   "metadata": {},
   "source": [
    "In the output you just created in step one, every line contains a header representing one sequence. \n",
    "The second step now is to count these lines. \n",
    "To count the number of lines, we will first have to read in the gzip file, then grep on the headers, and then we can use the word count command to count the number of lines. \n",
    "\n",
    "**[DO:] First read the 'help page' of the `wc` command by typing in the cell below:**\n",
    "\n",
    "> wc --help"
   ]
  },
  {
   "cell_type": "code",
   "execution_count": null,
   "metadata": {},
   "outputs": [],
   "source": []
  },
  {
   "cell_type": "markdown",
   "metadata": {},
   "source": [
    "What option do we need to provide `wc` to count lines? Deduce from the manual page.\n",
    "\n",
    "**[DO:] Now Finally, make a new 'pipeline' using**\n",
    "1. `zcat`  to open the fastq.gz file\n",
    "2. `grep '@'`   to filter out only headers \n",
    "3. `wc` + options to count the lines in the fastq file.\n"
   ]
  },
  {
   "cell_type": "code",
   "execution_count": null,
   "metadata": {},
   "outputs": [],
   "source": [
    "zcat"
   ]
  },
  {
   "cell_type": "markdown",
   "metadata": {},
   "source": [
    "So now you have executed some bash commands and investigated the output. \n",
    "Well done!\n",
    "\n",
    "## Assembled data\n",
    "Calculating a de-novo metagenome assembly is beyond the scope of this practical, so we have done this for you. \n",
    "You will however, analyse this assembly yourself! :)\n",
    "\n",
    "**[DO:] Let's start by looking at the assembly files in the folder** `data/assembly`**.**\n"
   ]
  },
  {
   "cell_type": "code",
   "execution_count": null,
   "metadata": {},
   "outputs": [],
   "source": []
  },
  {
   "cell_type": "markdown",
   "metadata": {},
   "source": [
    "Now, look at the first ten lines of the assembly with the `head` command.\n",
    "\n",
    "Will you use `zcat` to open the assembly? \n",
    "Only if the assembly is a compressed `scaffolds.fasta.gz` file. \n",
    "If you are dealing with a 'regular' fasta file, use `cat`. \n",
    "\n",
    "Finally, after using head, also type `| cut -c 1-500` This *cut*s out *c*haracter *1 to 500*.\n",
    "If you skip that last step, you may overload this web page.\n",
    "\n",
    "**[DO:] Use** `(z)cat`**,** `head`**, and** `cut -c 1-500` **to look at the first lines of the assembly'**"
   ]
  },
  {
   "cell_type": "code",
   "execution_count": null,
   "metadata": {},
   "outputs": [],
   "source": []
  },
  {
   "cell_type": "markdown",
   "metadata": {},
   "source": [
    "Next, we will assess the number of sequences in the assembly.\n",
    "Remember how we did this for the FastQ file?\n",
    "\n",
    "Also, remember that the headers for FastQ files and Fasta files are not the same.\n",
    "\n",
    "1. `(z)cat` the assembly file\n",
    "2. `grep` the headers\n",
    "3. `wc` to count the lines.\n",
    "\n",
    "**[DO:] Assess the number of scaffolds in the metagenome assembly.**"
   ]
  },
  {
   "cell_type": "code",
   "execution_count": null,
   "metadata": {},
   "outputs": [],
   "source": []
  },
  {
   "cell_type": "markdown",
   "metadata": {},
   "source": [
    "## prepare assembly data\n",
    "For convenience, we will decompress the assembly. \n",
    "Compression was achieved with the `gzip` programme. \n",
    "Decompression can be done with the command `gunzip path/to/assembly`. \n",
    "1. In the new cell below, decompress the assembly, `gunzip` only gives you output if something went wrong. So no `| head` is needed here.\n",
    "  - use `zcat your-file.fastq.gz > yourfile.fastq` if gunzip doesn't work. This is the case for the CoCalc environment\n",
    "  \n",
    "  \n",
    "2. In the second cell, use `ls` command to see if it worked the file is still a `.gz` file, or if it was decompressed.\n",
    "3. Finally, in the third cell, use the `head command` to peak into the assembly like so `head ./data/assembly/scaffolds.fasta | cut -c 1-500`\n",
    "\n",
    "**[DO:] decompress the assembly and check if you were successfull as indicated above**"
   ]
  },
  {
   "cell_type": "code",
   "execution_count": null,
   "metadata": {},
   "outputs": [],
   "source": [
    "gunzip"
   ]
  },
  {
   "cell_type": "code",
   "execution_count": null,
   "metadata": {},
   "outputs": [],
   "source": [
    "ls"
   ]
  },
  {
   "cell_type": "code",
   "execution_count": null,
   "metadata": {},
   "outputs": [],
   "source": [
    "head"
   ]
  }
 ],
 "metadata": {
  "kernelspec": {
   "display_name": "Bash",
   "language": "bash",
   "name": "bash"
  },
  "language_info": {
   "codemirror_mode": "shell",
   "file_extension": ".sh",
   "mimetype": "text/x-sh",
   "name": "bash"
  }
 },
 "nbformat": 4,
 "nbformat_minor": 2
}
