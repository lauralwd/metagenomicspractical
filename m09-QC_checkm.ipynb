{
 "cells": [
  {
   "cell_type": "markdown",
   "metadata": {},
   "source": [
    "## Checking completeness and contamination using CheckM\n",
    "\n",
    "Now that we have bins made with `metabat2` we can check them for contamination and completeness (quality); for this, we will use CheckM.\n",
    "[CheckM](http://ecogenomics.github.io/CheckM/) is a suite of tools for assessing the quality of bacterial genomes assemblies/bins.\n",
    "It estimates genome completeness and contamination by using Single Copy Marker Genes (SCMGs) of a specific phylogenetic lineage. \n",
    "\n",
    "As you will be able to see in the checkm help pages, `checkm` has a workflow (`lineage_wf`) that will run all necessary steps to assess bin quality. \n",
    "\n",
    "Lineage_wf (lineage-specific workflow) steps:\n",
    "- The tree command places genome bins into a reference genome tree.\n",
    "- The lineage_set command creates a marker file indicating lineage-specific marker sets suitable for evaluating each individual bin with the most appropriate reference set of markers. \n",
    "- This marker file is passed to the analyze command to identify marker genes and estimate the completeness and contamination of each genome bin. \n",
    "- Finally, the qa command can be used to produce different tables summarizing the quality of each genome bin.\n",
    "\n",
    "Unfortunately, the 'tree' part of this workflow is too memory intensive (**about 32Gbytes of RAM (!)** ).\n",
    "So we will cheat a bit.\n",
    "Instead of the `lineage_wf`, we will use the `taxonomy_wf`.\n",
    "The `taxonomy_wf` does not determine the lineage of a bin, but checks SCMGs for a lineage that you provide in the commandline.\n",
    "Hence, we don't load the full tree to find the most appropriate marker set, but assume all bins are bacteria (reasonable assumption in this case) and don't look any deeper than that. "
   ]
  },
  {
   "cell_type": "code",
   "execution_count": null,
   "metadata": {},
   "outputs": [],
   "source": [
    "checkm taxonomy_wf -h "
   ]
  },
  {
   "cell_type": "markdown",
   "metadata": {},
   "source": [
    "The checkm manual may seem somewhat intimidating. \n",
    "However, remember that the options in square brackets are optional `[optional argument]`. \n",
    "Those without brackets are mandatory.\n",
    "\n",
    "**[DO:] Run the** `checkm taxonomy_wf` **on the bins you created:**"
   ]
  },
  {
   "cell_type": "code",
   "execution_count": null,
   "metadata": {},
   "outputs": [],
   "source": [
    "checkm taxonomy_wf"
   ]
  },
  {
   "cell_type": "markdown",
   "metadata": {},
   "source": [
    "If `CheckM` doesn't work propperly, you can see an example output [here](https://github.com/lauralwd/metagenomicspractical/blob/example/data/checkm_taxonomy/checkm_taxonomy_summary.txt)\n",
    "\n",
    "**[Q:] What can you say about the binning quality**"
   ]
  },
  {
   "cell_type": "markdown",
   "metadata": {},
   "source": [
    "**[A:]** "
   ]
  },
  {
   "cell_type": "markdown",
   "metadata": {},
   "source": [
    "A CheckM output of the full `lineage_wf` is available [online here](https://github.com/lauralwd/metagenomicspractical/blob/example/data/checkm_lineage/checkm_lineage_summary.txt)\n",
    "\n",
    "**[Q:]** Is the taxonomy of the bins a surprise given the nature of the sample?"
   ]
  },
  {
   "cell_type": "markdown",
   "metadata": {},
   "source": [
    "**[A:]** "
   ]
  },
  {
   "cell_type": "markdown",
   "metadata": {},
   "source": [
    "## Bonus\n",
    "You can create an extended checkm table with more information. \n",
    "\n",
    "1. Read the Checkm manual, and find out how to do this.\n",
    "2. Save the table in 'tab-delimited format, so you can download it and open it in Excel/google-sheets/libroffie.\n",
    "3. Choose what information you find valuable and discard the rest.\n",
    "4. Add the mean depth +/- SEM (Standard Error Mean) of each bin, per sample type.\n",
    "   - Sample types are L (Leaf) and P (Plant)\n",
    "5. Congratulations, you got your first table for a manuscript/thesis about your metagenome analysis!\n",
    "\n",
    "```\n",
    "checkm qa --help\n",
    "```"
   ]
  },
  {
   "cell_type": "markdown",
   "metadata": {},
   "source": [
    "# Bonus 2\n",
    "Did you try to vary binning parameters in the previous notebook? \n",
    "If so, run these through Checkm as well.\n",
    "Remember to create clear and separate output directories. \n",
    "\n",
    "Are the bins of similar quality?"
   ]
  }
 ],
 "metadata": {
  "kernelspec": {
   "display_name": "Bash",
   "language": "bash",
   "name": "bash"
  },
  "language_info": {
   "codemirror_mode": "shell",
   "file_extension": ".sh",
   "mimetype": "text/x-sh",
   "name": "bash"
  }
 },
 "nbformat": 4,
 "nbformat_minor": 2
}
