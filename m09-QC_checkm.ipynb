{
 "cells": [
  {
   "cell_type": "markdown",
   "metadata": {},
   "source": [
    "## Checking completeness and contamination using CheckM\n",
    "\n",
    "Now that we have the bins made with metabat we can check them for contamination and completeness (quality); for this, we will use CheckM. CheckM provides a set of tools for assessing the quality of genomes recovered from isolates, single cells, or metagenomes. It provides robust estimates of genome completeness and contamination by using collocated sets of genes that are ubiquitous and single-copy within a phylogenetic lineage (also called marker/signature genes). http://ecogenomics.github.io/CheckM/\n",
    "\n",
    "As you will be able to see in the checkm help pages, checkm has a workflow (lineage_wf) that will run all necessary steps to assess bin quality. \n",
    "\n",
    "Lineage_wf (lineage-specific workflow) steps: <br>\n",
    "- The tree command places genome bins into a reference genome tree.\n",
    "- The lineage_set command creates a marker file indicating lineage-specific marker sets suitable for evaluating each individual bin with the most appropriate reference set of markers. \n",
    "- This marker file is passed to the analyze command to identify marker genes and estimate the completeness and contamination of each genome bin. \n",
    "- Finally, the qa command can be used to produce different tables summarizing the quality of each genome bin. <br>\n",
    "\n",
    "\n",
    "Unfortunately, the 'tree' part of this workflow is too memory intensive (about 32Gbytes of RAM (!) ), So we will cheat a bit. ** Instead, we will use the `checkm taxonomy_wf domain Bacteria` command. ** Hence, we don't load the full tree to find the most appropriate marker set, but assume all are bacteria (reasonable assumption in this case) and don't look any deeper than that. \n"
   ]
  },
  {
   "cell_type": "code",
   "execution_count": 1,
   "metadata": {},
   "outputs": [
    {
     "name": "stdout",
     "output_type": "stream",
     "text": [
      "usage: checkm taxonomy_wf [-h] [--ali] [--nt] [-g] [--individual_markers]\n",
      "                          [--skip_adj_correction]\n",
      "                          [--skip_pseudogene_correction]\n",
      "                          [--aai_strain AAI_STRAIN] [-a ALIGNMENT_FILE]\n",
      "                          [--ignore_thresholds] [-e E_VALUE] [-l LENGTH]\n",
      "                          [-c COVERAGE_FILE] [-f FILE] [--tab_table]\n",
      "                          [-x EXTENSION] [-t THREADS] [-q] [--tmpdir TMPDIR]\n",
      "                          {life,domain,phylum,class,order,family,genus,species}\n",
      "                          taxon bin_dir output_dir\n",
      "\n",
      "Runs taxon_set, analyze, qa\n",
      "\n",
      "positional arguments:\n",
      "  {life,domain,phylum,class,order,family,genus,species}\n",
      "                        taxonomic rank\n",
      "  taxon                 taxon of interest\n",
      "  bin_dir               directory containing bins (fasta format)\n",
      "  output_dir            directory to write output files\n",
      "\n",
      "optional arguments:\n",
      "  -h, --help            show this help message and exit\n",
      "  --ali                 generate HMMER alignment file for each bin\n",
      "  --nt                  generate nucleotide gene sequences for each bin\n",
      "  -g, --genes           bins contain genes as amino acids instead of nucleotide contigs\n",
      "  --individual_markers  treat marker as independent (i.e., ignore co-located set structure)\n",
      "  --skip_adj_correction\n",
      "                        do not exclude adjacent marker genes when estimating contamination\n",
      "  --skip_pseudogene_correction\n",
      "                        skip identification and filtering of pseudogenes\n",
      "  --aai_strain AAI_STRAIN\n",
      "                        AAI threshold used to identify strain heterogeneity (default: 0.9)\n",
      "  -a, --alignment_file ALIGNMENT_FILE\n",
      "                        produce file showing alignment of multi-copy genes and their AAI identity\n",
      "  --ignore_thresholds   ignore model-specific score thresholds\n",
      "  -e, --e_value E_VALUE\n",
      "                        e-value cut off (default: 1e-10)\n",
      "  -l, --length LENGTH   percent overlap between target and query (default: 0.7)\n",
      "  -c, --coverage_file COVERAGE_FILE\n",
      "                        file containing coverage of each sequence; coverage information added to table type 2 (see coverage command)\n",
      "  -f, --file FILE       print results to file (default: stdout)\n",
      "  --tab_table           print tab-separated values table\n",
      "  -x, --extension EXTENSION\n",
      "                        extension of bins (other files in directory are ignored) (default: fna)\n",
      "  -t, --threads THREADS\n",
      "                        number of threads (default: 1)\n",
      "  -q, --quiet           suppress console output\n",
      "  --tmpdir TMPDIR       specify an alternative directory for temporary files\n",
      "\n",
      "Example: checkm taxonomy_wf domain Bacteria ./bins ./output\n"
     ]
    }
   ],
   "source": [
    "checkm taxonomy_wf -h "
   ]
  },
  {
   "cell_type": "code",
   "execution_count": 3,
   "metadata": {},
   "outputs": [
    {
     "name": "stdout",
     "output_type": "stream",
     "text": [
      "[2022-03-22 15:58:15] INFO: CheckM v1.1.3\n",
      "[2022-03-22 15:58:15] INFO: checkm taxonomy_wf domain Bacteria data/bins/ data/checkm_taxonomy -x fa -t 4\n",
      "[2022-03-22 15:58:15] INFO: [CheckM - taxon_set] Generate taxonomic-specific marker set.\n",
      "[2022-03-22 15:58:18] INFO: Marker set for Bacteria contains 104 marker genes arranged in 58 sets.\n",
      "[2022-03-22 15:58:18] INFO: Marker set inferred from 5449 reference genomes.\n",
      "[2022-03-22 15:58:18] INFO: Marker set written to: data/checkm_taxonomy/Bacteria.ms\n",
      "[2022-03-22 15:58:18] INFO: { Current stage: 0:00:03.642 || Total: 0:00:03.642 }\n",
      "[2022-03-22 15:58:18] INFO: [CheckM - analyze] Identifying marker genes in bins.\n",
      "[2022-03-22 15:58:19] INFO: Identifying marker genes in 6 bins with 4 threads:\n",
      "    Finished processing 6 of 6 (100.00%) bins.\n",
      "[2022-03-22 16:00:30] INFO: Saving HMM info to file.\n",
      "[2022-03-22 16:00:30] INFO: { Current stage: 0:02:12.072 || Total: 0:02:15.715 }\n",
      "[2022-03-22 16:00:30] INFO: Parsing HMM hits to marker genes:\n",
      "    Finished parsing hits for 6 of 6 (100.00%) bins.\n",
      "[2022-03-22 16:00:31] INFO: Aligning marker genes with multiple hits in a single bin:\n",
      "    Finished processing 6 of 6 (100.00%) bins.\n",
      "[2022-03-22 16:00:32] INFO: { Current stage: 0:00:01.228 || Total: 0:02:16.944 }\n",
      "[2022-03-22 16:00:32] INFO: Calculating genome statistics for 6 bins with 4 threads:\n",
      "    Finished processing 6 of 6 (100.00%) bins.\n",
      "[2022-03-22 16:00:32] INFO: { Current stage: 0:00:00.341 || Total: 0:02:17.285 }\n",
      "[2022-03-22 16:00:32] INFO: [CheckM - qa] Tabulating genome statistics.\n",
      "[2022-03-22 16:00:32] INFO: Calculating AAI between multi-copy marker genes.\n",
      "[2022-03-22 16:00:32] INFO: Reading HMM info from file.\n",
      "[2022-03-22 16:00:32] INFO: Parsing HMM hits to marker genes:\n",
      "    Finished parsing hits for 6 of 6 (100.00%) bins.\n",
      "-----------------------------------------------------------------------------------------------------------------------------------------------------\n",
      "  Bin Id   Marker lineage   # genomes   # markers   # marker sets   0     1    2   3   4   5+   Completeness   Contamination   Strain heterogeneity  \n",
      "-----------------------------------------------------------------------------------------------------------------------------------------------------\n",
      "  bin.6       Bacteria         5449        104            58        0    104   0   0   0   0       100.00           0.00               0.00          \n",
      "  bin.4       Bacteria         5449        104            58        1    103   0   0   0   0       98.28            0.00               0.00          \n",
      "  bin.2       Bacteria         5449        104            58        2    102   0   0   0   0       96.55            0.00               0.00          \n",
      "  bin.3       Bacteria         5449        104            58        4    100   0   0   0   0       94.83            0.00               0.00          \n",
      "  bin.1       Bacteria         5449        104            58        18    85   1   0   0   0       91.38            1.72              100.00         \n",
      "  bin.5       Bacteria         5449        104            58        94    10   0   0   0   0       15.52            0.00               0.00          \n",
      "-----------------------------------------------------------------------------------------------------------------------------------------------------\n",
      "[2022-03-22 16:00:33] INFO: { Current stage: 0:00:01.033 || Total: 0:02:18.319 }\n"
     ]
    }
   ],
   "source": [
    "checkm taxonomy_wf domain Bacteria data/bins/ data/checkm_taxonomy -x fa -t 4"
   ]
  },
  {
   "cell_type": "code",
   "execution_count": 5,
   "metadata": {},
   "outputs": [
    {
     "name": "stdout",
     "output_type": "stream",
     "text": [
      "usage: checkm lineage_wf [-h] [-r] [--ali] [--nt] [-g] [-u UNIQUE] [-m MULTI]\n",
      "                         [--force_domain] [--no_refinement]\n",
      "                         [--individual_markers] [--skip_adj_correction]\n",
      "                         [--skip_pseudogene_correction]\n",
      "                         [--aai_strain AAI_STRAIN] [-a ALIGNMENT_FILE]\n",
      "                         [--ignore_thresholds] [-e E_VALUE] [-l LENGTH]\n",
      "                         [-f FILE] [--tab_table] [-x EXTENSION] [-t THREADS]\n",
      "                         [--pplacer_threads PPLACER_THREADS] [-q]\n",
      "                         [--tmpdir TMPDIR]\n",
      "                         bin_dir output_dir\n",
      "\n",
      "Runs tree, lineage_set, analyze, qa\n",
      "\n",
      "positional arguments:\n",
      "  bin_dir               directory containing bins (fasta format)\n",
      "  output_dir            directory to write output files\n",
      "\n",
      "optional arguments:\n",
      "  -h, --help            show this help message and exit\n",
      "  -r, --reduced_tree    use reduced tree (requires <16GB of memory) for determining lineage of each bin\n",
      "  --ali                 generate HMMER alignment file for each bin\n",
      "  --nt                  generate nucleotide gene sequences for each bin\n",
      "  -g, --genes           bins contain genes as amino acids instead of nucleotide contigs\n",
      "  -u, --unique UNIQUE   minimum number of unique phylogenetic markers required to use lineage-specific marker set (default: 10)\n",
      "  -m, --multi MULTI     maximum number of multi-copy phylogenetic markers before defaulting to domain-level marker set (default: 10)\n",
      "  --force_domain        use domain-level sets for all bins\n",
      "  --no_refinement       do not perform lineage-specific marker set refinement\n",
      "  --individual_markers  treat marker as independent (i.e., ignore co-located set structure)\n",
      "  --skip_adj_correction\n",
      "                        do not exclude adjacent marker genes when estimating contamination\n",
      "  --skip_pseudogene_correction\n",
      "                        skip identification and filtering of pseudogenes\n",
      "  --aai_strain AAI_STRAIN\n",
      "                        AAI threshold used to identify strain heterogeneity (default: 0.9)\n",
      "  -a, --alignment_file ALIGNMENT_FILE\n",
      "                        produce file showing alignment of multi-copy genes and their AAI identity\n",
      "  --ignore_thresholds   ignore model-specific score thresholds\n",
      "  -e, --e_value E_VALUE\n",
      "                        e-value cut off (default: 1e-10)\n",
      "  -l, --length LENGTH   percent overlap between target and query (default: 0.7)\n",
      "  -f, --file FILE       print results to file (default: stdout)\n",
      "  --tab_table           print tab-separated values table\n",
      "  -x, --extension EXTENSION\n",
      "                        extension of bins (other files in directory are ignored) (default: fna)\n",
      "  -t, --threads THREADS\n",
      "                        number of threads (default: 1)\n",
      "  --pplacer_threads PPLACER_THREADS\n",
      "                        number of threads used by pplacer (memory usage increases linearly with additional threads) (default: 1)\n",
      "  -q, --quiet           suppress console output\n",
      "  --tmpdir TMPDIR       specify an alternative directory for temporary files\n",
      "\n",
      "Example: checkm lineage_wf ./bins ./output\n"
     ]
    }
   ],
   "source": [
    "checkm lineage_wf --help"
   ]
  },
  {
   "cell_type": "code",
   "execution_count": 8,
   "metadata": {},
   "outputs": [
    {
     "name": "stdout",
     "output_type": "stream",
     "text": [
      "[2022-03-22 16:02:16] INFO: CheckM v1.1.3\n",
      "[2022-03-22 16:02:16] INFO: checkm lineage_wf ./data/bins ./data/checkm_lineage --pplacer_threads 1 -t 4 -x fa\n",
      "[2022-03-22 16:02:16] INFO: [CheckM - tree] Placing bins in reference genome tree.\n",
      "[2022-03-22 16:02:17] INFO: Identifying marker genes in 6 bins with 4 threads:\n",
      "    Finished processing 6 of 6 (100.00%) bins.\n",
      "[2022-03-22 16:03:18] INFO: Saving HMM info to file.\n",
      "[2022-03-22 16:03:18] INFO: Calculating genome statistics for 6 bins with 4 threads:\n",
      "    Finished processing 6 of 6 (100.00%) bins.\n",
      "[2022-03-22 16:03:18] INFO: Extracting marker genes to align.\n",
      "[2022-03-22 16:03:18] INFO: Parsing HMM hits to marker genes:\n",
      "    Finished parsing hits for 6 of 6 (100.00%) bins.\n",
      "[2022-03-22 16:03:18] INFO: Extracting 43 HMMs with 4 threads:\n",
      "    Finished extracting 43 of 43 (100.00%) HMMs.\n",
      "[2022-03-22 16:03:19] INFO: Aligning 43 marker genes with 4 threads:\n",
      "    Finished aligning 43 of 43 (100.00%) marker genes.\n",
      "[2022-03-22 16:03:19] INFO: Reading marker alignment files.\n",
      "[2022-03-22 16:03:19] INFO: Concatenating alignments.\n",
      "[2022-03-22 16:03:19] INFO: Placing 6 bins into the genome tree with pplacer (be patient).\n",
      "Killed\n",
      "guppy: loadlocale.c:129: _nl_intern_locale_data: Assertion `cnt < (sizeof (_nl_value_type_LC_TIME) / sizeof (_nl_value_type_LC_TIME[0]))' failed.\n",
      "Aborted (core dumped)\n",
      "[2022-03-22 16:04:38] INFO: { Current stage: 0:02:21.259 || Total: 0:02:21.259 }\n",
      "[2022-03-22 16:04:38] INFO: [CheckM - lineage_set] Inferring lineage-specific marker sets.\n",
      "[2022-03-22 16:04:38] INFO: Reading HMM info from file.\n",
      "[2022-03-22 16:04:38] INFO: Parsing HMM hits to marker genes:\n",
      "    Finished parsing hits for 6 of 6 (100.00%) bins.\n",
      "[2022-03-22 16:04:38] INFO: Determining marker sets for each genome bin.\n",
      "\n",
      "Unexpected error: <class 'FileNotFoundError'>\n",
      "Traceback (most recent call last):\n",
      "  File \"/opt/miniconda3/envs/metagenomics_practical/bin/checkm\", line 611, in <module>\n",
      "    checkmParser.parseOptions(args)\n",
      "  File \"/opt/miniconda3/envs/metagenomics_practical/lib/python3.7/site-packages/checkm/main.py\", line 859, in parseOptions\n",
      "    self.lineageSet(options)\n",
      "  File \"/opt/miniconda3/envs/metagenomics_practical/lib/python3.7/site-packages/checkm/main.py\", line 215, in lineageSet\n",
      "    resultsParser, options.unique, options.multi)\n",
      "  File \"/opt/miniconda3/envs/metagenomics_practical/lib/python3.7/site-packages/checkm/treeParser.py\", line 485, in getBinMarkerSets\n",
      "    tree = dendropy.Tree.get_from_path(treeFile, schema='newick', rooting=\"force-rooted\", preserve_underscores=True)\n",
      "  File \"/opt/miniconda3/envs/metagenomics_practical/lib/python3.7/site-packages/dendropy/datamodel/basemodel.py\", line 216, in get_from_path\n",
      "    with open(src, \"r\", newline=None) as fsrc:\n",
      "FileNotFoundError: [Errno 2] No such file or directory: './data/checkm_lineage/storage/tree/concatenated.tre'\n"
     ]
    },
    {
     "ename": "",
     "evalue": "1",
     "output_type": "error",
     "traceback": []
    }
   ],
   "source": [
    "checkm lineage_wf ./data/bins ./data/checkm_lineage --pplacer_threads 1 -t 4 -x fa "
   ]
  },
  {
   "cell_type": "markdown",
   "metadata": {},
   "source": [
    "The checkm manual may seem somewhat intimidating. However, remember that the options in square brackets are optional `[optional argument]`. Those without brackets are mandatory."
   ]
  },
  {
   "cell_type": "markdown",
   "metadata": {},
   "source": [
    "(think and discuss these questions) <br>\n",
    "\n",
    "What did you do? <br>\n",
    "Where is your output? <br>\n",
    "What does your output look like? <br>\n",
    "What can you say about the bins with this output? <br>\n",
    "What can you say about lineages of the bins?<br>"
   ]
  },
  {
   "cell_type": "markdown",
   "metadata": {},
   "source": [
    "You can create an extended checkm table with more information. \n",
    "\n",
    "1. Read the Checkm manual, and find out how to do this.\n",
    "2. Save the table in 'tab-delimited format, so you can download it and open it in Excel/google-sheets/libroffie.\n",
    "3. Choose what information you find valuable and discard the rest.\n",
    "4. Add the mean depth +/- SEM (Standard Error Mean) of each bin, per sample type.\n",
    "   - Sample types are E (Leaf) and P (Plant)\n",
    "5. Congratulations, you got your first table for a manuscript/thesis about your metagenome analysis!\n",
    "\n",
    "```\n",
    "checkm qa --help\n",
    "```"
   ]
  },
  {
   "cell_type": "markdown",
   "metadata": {},
   "source": [
    "# Bonus\n",
    "Did you try to vary binning parameters in the previous notebook (M7)? \n",
    "If so, run these through Checkm as well.\n",
    "Remember to create clear and separate output directories. \n",
    "\n",
    "Are the bins of similar quality?"
   ]
  }
 ],
 "metadata": {
  "kernelspec": {
   "display_name": "Bash",
   "language": "bash",
   "name": "bash"
  },
  "language_info": {
   "codemirror_mode": "shell",
   "file_extension": ".sh",
   "mimetype": "text/x-sh",
   "name": "bash"
  }
 },
 "nbformat": 4,
 "nbformat_minor": 2
}
