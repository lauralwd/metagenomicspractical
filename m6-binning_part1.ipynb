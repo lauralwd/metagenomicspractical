{
 "cells": [
  {
   "cell_type": "markdown",
   "metadata": {},
   "source": [
    "<h2> Binning with MetaBat </h2>\n",
    "\n",
    "Now that we have the reads, the scaffolds and the mapping of the reads on the scaffolds we can continue with the binning. In metagenomics, binning is the process of grouping reads or contigs and assigning them to operational taxonomic units. Binning methods can be based on either compositional features or alignment (similarity), or both. Metabat uses both the contig depth and tetra-nucleotide frequencies to bin the contigs. Every bin will represent one operational taxonomic unit that can be found in the metagenome.\n",
    "\n",
    "<b>Assignment:</b><br>\n",
    "Run the script provided in /metagenomics/scripts/jgi_summarize_bam_contig_depths to calculate the average depth per contig. <br>\n",
    "Then run metabat to bin the contigs, dont forget to include the previously included contig depths in the metabat command."
   ]
  },
  {
   "cell_type": "code",
   "execution_count": 1,
   "metadata": {
    "scrolled": true
   },
   "outputs": [
    {
     "name": "stdout",
     "output_type": "stream",
     "text": [
      "jgi_summarize_bam_contig_depths 2.14 (Bioconda) 2019-10-04T07:48:15\r\n",
      "Usage: jgi_summarize_bam_contig_depths <options> sortedBam1 [ sortedBam2 ...]\r\n",
      "where options include:\r\n",
      "\t--outputDepth       arg  The file to put the contig by bam depth matrix (default: STDOUT)\r\n",
      "\t--percentIdentity   arg  The minimum end-to-end % identity of qualifying reads (default: 97)\r\n",
      "\t--pairedContigs     arg  The file to output the sparse matrix of contigs which paired reads span (default: none)\r\n",
      "\t--unmappedFastq     arg  The prefix to output unmapped reads from each bam file suffixed by 'bamfile.bam.fastq.gz'\r\n",
      "\t--noIntraDepthVariance   Do not include variance from mean depth along the contig\r\n",
      "\t--showDepth              Output a .depth file per bam for each contig base\r\n",
      "\t--minMapQual        arg  The minimum mapping quality necessary to count the read as mapped (default: 0)\r\n",
      "\t--weightMapQual     arg  Weight per-base depth based on the MQ of the read (i.e uniqueness) (default: 0.0 (disabled))\r\n",
      "\t--includeEdgeBases       When calculating depth & variance, include the 1-readlength edges (off by default)\r\n",
      "\t--maxEdgeBases           When calculating depth & variance, and not --includeEdgeBases, the maximum length (default:75)\r\n",
      "\t--referenceFasta    arg  The reference file.  (It must be the same fasta that bams used)\r\n",
      "\r\n",
      "Options that require a --referenceFasta\r\n",
      "\t--outputGC          arg  The file to print the gc coverage histogram\r\n",
      "\t--gcWindow          arg  The sliding window size for GC calculations\r\n",
      "\t--outputReadStats   arg  The file to print the per read statistics\r\n",
      "\t--outputKmers       arg  The file to print the perfect kmer counts\r\n",
      "\r\n",
      "Options to control shredding contigs that are under represented by the reads\r\n",
      "\t--shredLength       arg  The maximum length of the shreds\r\n",
      "\t--shredDepth        arg  The depth to generate overlapping shreds\r\n",
      "\t--minContigLength   arg  The mimimum length of contig to include for mapping and shredding\r\n",
      "\t--minContigDepth    arg  The minimum depth along contig at which to break the contig\r\n",
      "\r\n"
     ]
    }
   ],
   "source": [
    "!jgi_summarize_bam_contig_depths -h"
   ]
  },
  {
   "cell_type": "markdown",
   "metadata": {},
   "source": [
    "calculate the contig depth per scaffold, use the `--outputDepth` option. Notice that the help page tells you to supply an arg(ument) as to where to store the depth output file. Specify the a path to a file that this script will create. Something like this\n",
    "\n",
    "> ./script --outputDepth /path/to/depth_matrix\n",
    "\n",
    "\n",
    "hint: a glob looks like this directoryname/* and includes all files included in the directory\n",
    "\n",
    "Try using the `*` with `ls` first. List all sorted bam files you created"
   ]
  },
  {
   "cell_type": "code",
   "execution_count": null,
   "metadata": {},
   "outputs": [],
   "source": [
    "ls ./"
   ]
  },
  {
   "cell_type": "code",
   "execution_count": null,
   "metadata": {},
   "outputs": [],
   "source": [
    "!jgi_summarize_bam_contig_depthsi_summarize_bam_contig_depths"
   ]
  },
  {
   "cell_type": "markdown",
   "metadata": {},
   "source": [
    "The output of this process is the input for MetaBAT in the next step. After the jgi script finishes, make sure you check that the file actually contains a table. If so, please remove all BAM files. We don't need these anymore."
   ]
  },
  {
   "cell_type": "code",
   "execution_count": null,
   "metadata": {},
   "outputs": [],
   "source": [
    "%%bash\n",
    "head ..path/to/your/deth_matrix... # <-- substitute this path for the file you created with the jgi script."
   ]
  },
  {
   "cell_type": "code",
   "execution_count": null,
   "metadata": {},
   "outputs": [],
   "source": [
    "rm ./data/sorted "
   ]
  },
  {
   "cell_type": "markdown",
   "metadata": {},
   "source": [
    "Now you have your depth_matrix, let's take a moment and reflect upon what this matrix does and how it helps in binning the microbial contigs. For this part, we will visualise the depth_matrix file in excel (or a similar spread sheet editor) on your own computer."
   ]
  },
  {
   "cell_type": "markdown",
   "metadata": {},
   "source": [
    "Follow these steps:\n",
    "1. Download the depth_matrix to your personal computer.\n",
    "2. The depth matrix is a big table in which columns are delimited by TABs. Open your data in excel and make sure all data is displayed as columns\n",
    "3. A: What do the columns represent?\n",
    "3. B: What do the rows represent?\n",
    "4. For clarity, remove all columns except those that display the depth data.\n",
    "5. Check if you have one column per sample.\n",
    "6. Find the option for conditional formatting; filling the cells with a color, depending on their content.\n",
    "7. Color all cells in the excelsheet according to a color gradient with three colors.\n",
    "8. A: Can you identify two rows with a similar color pattern,\n",
    "8. B: what does that mean if these two have a similar color pattern?"
   ]
  },
  {
   "cell_type": "markdown",
   "metadata": {},
   "source": [
    "Now move on to m6-binning_part2"
   ]
  }
 ],
 "metadata": {
  "kernelspec": {
   "display_name": "Python 3",
   "language": "python",
   "name": "python3"
  },
  "language_info": {
   "codemirror_mode": {
    "name": "ipython",
    "version": 3
   },
   "file_extension": ".py",
   "mimetype": "text/x-python",
   "name": "python",
   "nbconvert_exporter": "python",
   "pygments_lexer": "ipython3",
   "version": "3.6.9"
  }
 },
 "nbformat": 4,
 "nbformat_minor": 2
}
