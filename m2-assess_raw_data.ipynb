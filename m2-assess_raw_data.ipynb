{
 "cells": [
  {
   "cell_type": "markdown",
   "metadata": {},
   "source": [
    "## Raw data\n",
    "we have discussed the raw data we will use before, now we will use bash commands to actually look in these files."
   ]
  },
  {
   "cell_type": "markdown",
   "metadata": {},
   "source": [
    "### file location\n",
    "The sequencing reads are already available in the folder 'data/reads', to keep the practical feasible we have made a subset of the original data. <br>\n",
    "\n",
    "In this reads folder you will find 12 files. <br>\n",
    "L and P stand for the leaf and plant samples. <br>\n",
    "L1 L2 L3 are the biological replicates. R1 and R2 represent the forward and reverse illumina reads. So 2 samples * 3 replicates * 2 directions = 12 files <br>\n",
    "Files are stored in a fastq format (.fastq) and compressed in gzip archives (.gz). The gzip compression format is widely used in the genomics field, fastq files often compress down to only a quarter of the filesize with gzip! You do not need to extract these. <br>\n",
    "\n",
    "Lets first double check if all files are available. \n",
    "1. Add a cell below\n",
    "2. use the `ls` command to see what files are present in the `data/reads/` folder\n",
    "\n"
   ]
  },
  {
   "cell_type": "markdown",
   "metadata": {},
   "source": [
    "### View a gzipped file\n",
    "To de-compress a gzipped file you can use the zcat command like this\n",
    "> zcat path/to/file.gz\n",
    "\n",
    "Note that the content of gzipped files often is quite big. So big even that you may crash this webpage. To prevent this from happening. 'Pipe' the output of `zcat` into `head` to display only the first 10 lines. like so\n",
    "\n",
    "> zcat path/to/file.gz | head\n",
    "\n",
    "Now create a new cell below, and check the first 10 lines of one of the fastq files. Do these look as we would expect?\n"
   ]
  },
  {
   "cell_type": "markdown",
   "metadata": {},
   "source": [
    "### Counting reads\n",
    "Now I want you to find out how many reads there are in a single fastq file. You will achieve this in who steps.\n",
    "\n",
    "First, using grep we can select for lines in a file that contain only the word/key specified in the grep command. As you can see in the above command, the headers of the reads always start with the \"@\", therefor if we only want to see the headers we can simply grep for the \"@\" using the command below:\n",
    "\n",
    "Create a new cell below and create a command that uses\n",
    "1. `zcat`  to open the fastq.gz file\n",
    "2. `grep '@'`   to filter out only headers \n",
    "3. `head`  to show you only the first 10 lines and thus not crash our webpage.\n",
    "\n",
    "Again use pipes to feed the ouput from one programme to the next."
   ]
  },
  {
   "cell_type": "markdown",
   "metadata": {},
   "source": [
    "In the output you just created in step one, every line contains a header respresenting one sequence. The second step now is to count these lines. To count the number of lines we will first have to read in the gzip file, then grep on the headers, and then we can use the wordcount command to count the number of lines. First read the 'help page'\n",
    "of the `wc` command by typing in a new cell:\n",
    "\n",
    "> wc --help"
   ]
  },
  {
   "cell_type": "markdown",
   "metadata": {},
   "source": [
    "What option do we need to provide `wc` to count lines? Deduce from the manual page."
   ]
  },
  {
   "cell_type": "markdown",
   "metadata": {},
   "source": [
    "Now Finally, make a new 'pipeline' using\n",
    "1. `zcat`  to open the fastq.gz file\n",
    "2. `grep '@'`   to filter out only headers \n",
    "3. `wc` + options to count the lines in the fastq file.\n"
   ]
  },
  {
   "cell_type": "markdown",
   "metadata": {},
   "source": [
    "### wrap up\n",
    "So now you have executed some bash commands and investigated the output.  Well done!"
   ]
  },
  {
   "cell_type": "markdown",
   "metadata": {},
   "source": [
    "## Assembled data"
   ]
  },
  {
   "cell_type": "markdown",
   "metadata": {},
   "source": [
    "Calculating a de-novo metagenome assembly is beyond the scope of this practical, so we have done this for you. You will however analyse this assembly yourself! :)\n",
    "\n",
    "Lets start by looking at the assembly files in the folder `data/assembly`. Do this in a new cell below."
   ]
  },
  {
   "cell_type": "markdown",
   "metadata": {},
   "source": [
    "Now, look at the first 10 lines of the assembly with the `head` command.\n",
    "\n",
    "Will you use `zcat` to open the assembly? Only if the assembly is a compressed `assembly.fasta.gz` file. If you are dealing with a 'regular' fasta file, then use `cat` (Short for concatenate)."
   ]
  },
  {
   "cell_type": "markdown",
   "metadata": {},
   "source": [
    "Now we will assess the number of sequences in the assembly. Remember how we did this for the FastQ file. \n",
    "\n",
    "1. `cat` the assembly file\n",
    "2. `grep` the headers\n",
    "3. `wc` to count the lines.\n",
    "\n",
    "Add a new cell below and assess the number of scaffolds in the metagenome assembly"
   ]
  },
  {
   "cell_type": "markdown",
   "metadata": {},
   "source": [
    "<h2>Length distributions of the scaffolds</h2>\n",
    "Now that we have the assembly, we will do some quick analyses to get a idea of the quality. First we will plot the length distribution of the scaffolds in the assembly. Luckily for us, the length of each sequence in the fasta is already embeded in each fasta header. We can easily extract these numbers and plot them in python.\n",
    "\n",
    "Since this is a bash practical, I wrote the python code for you already. All you need to do is add the path to you assembly file in the line \n",
    "\n",
    "> f = open(\"path/to/assembly.file\",\"r\")\n",
    "\n",
    "To plot the length distribution run the python code below."
   ]
  },
  {
   "cell_type": "code",
   "execution_count": null,
   "metadata": {},
   "outputs": [],
   "source": [
    "import matplotlib.pyplot as plt\n",
    "import re\n",
    "%matplotlib inline  \n",
    "plt.style.use('ggplot')\n",
    "\n",
    "f = open(\"\", \"r\")\n",
    "lines = f.readlines()\n",
    "f.close()\n",
    "\n",
    "data = []\n",
    "regexp = re.compile(\">\")\n",
    "\n",
    "for line in lines:\n",
    "    if re.search(regexp, line):\n",
    "        line = line.strip().split('_')\n",
    "        data.append(float(line[3]))\n",
    "        \n",
    "fig = plt.figure(figsize=(10,10))\n",
    "plt.hist(data, bins=100, log=True);\n",
    "plt.title(\"length distribution scaffolds\");\n",
    "plt.xlabel(\"length\");\n",
    "plt.ylabel(\"count\");"
   ]
  },
  {
   "cell_type": "markdown",
   "metadata": {},
   "source": [
    "Did you expect this distribution?<br>\n",
    "Why would there be so many short scaffolds?<br>"
   ]
  }
 ],
 "metadata": {
  "kernelspec": {
   "display_name": "Python 3",
   "language": "python",
   "name": "python3"
  },
  "language_info": {
   "codemirror_mode": {
    "name": "ipython",
    "version": 3
   },
   "file_extension": ".py",
   "mimetype": "text/x-python",
   "name": "python",
   "nbconvert_exporter": "python",
   "pygments_lexer": "ipython3",
   "version": "3.6.5"
  }
 },
 "nbformat": 4,
 "nbformat_minor": 2
}
