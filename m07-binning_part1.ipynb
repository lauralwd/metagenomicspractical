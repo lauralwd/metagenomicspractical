{
 "cells": [
  {
   "cell_type": "markdown",
   "metadata": {},
   "source": [
    "<h2> Binning with MetaBat </h2>\n",
    "\n",
    "Now we have all ingredients to continue binning: the scaffolds and bam files containing reads mapped on those scaffolds. In metagenomics, binning is the process of grouping reads or contigs and assigning them to operational taxonomic units. Binning methods can be based on either compositional features, alignment (similarity), or both. Metabat2 uses both the contig depth and tetra-nucleotide frequencies to bin the contigs. Every bin will represent one operational taxonomic unit that can be found in the metagenome.\n",
    "\n",
    "<b>Assignment:</b><br>\n",
    "Run the script jgi_summarize_bam_contig_depths to calculate the average depth per contig. <br>\n",
    "Then run metabat to bin the contigs; don't forget to include the previously included contig depths in the metabat command."
   ]
  },
  {
   "cell_type": "code",
   "execution_count": null,
   "metadata": {
    "scrolled": true
   },
   "outputs": [],
   "source": [
    "jgi_summarize_bam_contig_depths -h"
   ]
  },
  {
   "cell_type": "markdown",
   "metadata": {},
   "source": [
    "calculate the contig depth per scaffold, use the `--outputDepth` option. Notice that the help page tells you to supply an arg(ument) where to store the depth output file. Specify a path to a file that this script will create. Something like this\n",
    "\n",
    "> ./script --outputDepth /path/to/depth_matrix\n",
    "\n",
    "\n",
    "hint: a glob looks like this directory name/* and includes all files included in the directory\n",
    "\n",
    "Try using the `*` with `ls` first. List all sorted bam files you created"
   ]
  },
  {
   "cell_type": "code",
   "execution_count": null,
   "metadata": {},
   "outputs": [],
   "source": [
    "ls ./"
   ]
  },
  {
   "cell_type": "code",
   "execution_count": null,
   "metadata": {},
   "outputs": [],
   "source": [
    "jgi_summarize_bam_contig_depths"
   ]
  },
  {
   "cell_type": "markdown",
   "metadata": {},
   "source": [
    "The output of this process is the input for MetaBAT in the next step. After the jgi script finishes, make sure you check that the file contains a table. If so, please remove all BAM files. We don't need these anymore."
   ]
  },
  {
   "cell_type": "code",
   "execution_count": null,
   "metadata": {},
   "outputs": [],
   "source": [
    "head ..path/to/your/deth_matrix... # <-- substitute this path for the file you created with the jgi script."
   ]
  },
  {
   "cell_type": "code",
   "execution_count": null,
   "metadata": {},
   "outputs": [],
   "source": [
    "rm ./data/sorted # double- & triple-check that your depth_matrix is OK before you remove your sorted bam files"
   ]
  },
  {
   "cell_type": "markdown",
   "metadata": {},
   "source": [
    "Now you have your depth_matrix, let's take a moment and reflect upon what this matrix does and how it helps in binning the microbial contigs. For this part, we will visualise the depth_matrix file in excel (or a similar spreadsheet editor) on your computer."
   ]
  },
  {
   "cell_type": "markdown",
   "metadata": {},
   "source": [
    "Follow these steps:\n",
    "1. Download the depth_matrix to your personal computer.\n",
    "2. The depth matrix is a big table in which columns are delimited by TABs. Open your data in excel and make sure all data is displayed as columns\n",
    "3. A: What do the columns represent?\n",
    "3. B: What do the rows represent?\n",
    "4. For clarity, remove all columns except those that display the depth data.\n",
    "5. Check if you have one column per sample.\n",
    "6. Find the option for conditional formatting, filling the cells with colour depending on their content.\n",
    "7. Color all cells in the excel sheet according to a colour gradient with three colors.\n",
    "8. A: Can you identify two rows with a similar colour pattern,\n",
    "8. B: what does that mean if these two have a similar colour pattern?"
   ]
  },
  {
   "cell_type": "markdown",
   "metadata": {},
   "source": [
    "Now move on to binning part2!"
   ]
  }
 ],
 "metadata": {
  "kernelspec": {
   "display_name": "Bash",
   "language": "bash",
   "name": "bash"
  },
  "language_info": {
   "codemirror_mode": "shell",
   "file_extension": ".sh",
   "mimetype": "text/x-sh",
   "name": "bash"
  }
 },
 "nbformat": 4,
 "nbformat_minor": 2
}
