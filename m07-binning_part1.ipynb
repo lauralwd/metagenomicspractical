{
 "cells": [
  {
   "cell_type": "markdown",
   "metadata": {},
   "source": [
    "# Binning part 1: calculate depth\n",
    "\n",
    "Now we have all ingredients to continue binning: the scaffolds and bam files containing reads mapped on those scaffolds. \n",
    "In metagenomics, binning is the process of grouping reads or contigs and assigning them to operational taxonomic units. \n",
    "Binning methods can be based on either compositional features, alignment (similarity), or both.\n",
    "`metabat2` uses both the contig depth and tetra-nucleotide frequencies to bin the contigs. \n",
    "Every bin will ideally represent one microbial genome from one particular microbe that was in the original DNA extraction.\n",
    "\n",
    "The first step in the binning process, is to calculate the contig depths from all bam files that were created before.\n",
    "All these depths are stored in one big table, which is then passed to `metabat2`.\n",
    "We achieve this with a script that comes with `metabat2`: `jgi_summarize_bam_contig_depths`\n",
    "\n",
    "**[DO:] See how the** `jgi_summarize_bam_contig_depths` **script works:**"
   ]
  },
  {
   "cell_type": "code",
   "execution_count": null,
   "metadata": {
    "scrolled": true
   },
   "outputs": [],
   "source": [
    "jgi_summarize_bam_contig_depths -h"
   ]
  },
  {
   "cell_type": "markdown",
   "metadata": {},
   "source": [
    "Remember to find the **usage line** first.\n",
    "Then make sure you find the `--outputDepth` option. \n",
    "Notice that the help page tells you to supply an arg(ument) where to store the depth output file. \n",
    "Specify a path to a file that this script will create. Something like this:\n",
    "\n",
    "> ./script --outputDepth /path/to/depth_matrix.tab\n",
    "\n",
    "Remember than you can use bash to point to multiple files with a \"glob\" or \"asterisk\".\n",
    "A glob looks like this directory name/* and includes all files included in the directory.\n",
    "\n",
    "Try using the `*` with `ls` first. List all sorted bam files you created"
   ]
  },
  {
   "cell_type": "code",
   "execution_count": null,
   "metadata": {},
   "outputs": [],
   "source": [
    "ls ./"
   ]
  },
  {
   "cell_type": "markdown",
   "metadata": {},
   "source": [
    "**[DO:] Run the script** `jgi_summarize_bam_contig_depths` **to calculate the average depth per contig over all six samples.**"
   ]
  },
  {
   "cell_type": "code",
   "execution_count": null,
   "metadata": {},
   "outputs": [],
   "source": [
    "jgi_summarize_bam_contig_depths"
   ]
  },
  {
   "cell_type": "markdown",
   "metadata": {},
   "source": [
    "The output of this process is the input for MetaBAT in the next step. \n",
    "After the jgi script finishes, make sure you check that the file contains a table. \n",
    "If so, please remove all BAM files. We don't need these anymore.\n",
    "\n",
    "**[DO:] Check if your depth matrix contains data:**"
   ]
  },
  {
   "cell_type": "code",
   "execution_count": null,
   "metadata": {},
   "outputs": [],
   "source": [
    "head ..path/to/your/deth_matrix... # <-- substitute this path for the file you created with the jgi script."
   ]
  },
  {
   "cell_type": "markdown",
   "metadata": {},
   "source": [
    "**[DO:] When you're sure, remove the sorted bams:**"
   ]
  },
  {
   "cell_type": "code",
   "execution_count": null,
   "metadata": {},
   "outputs": [],
   "source": [
    "rm ./data/sorted # double- & triple-check that your depth_matrix is OK before you remove your sorted bam files"
   ]
  },
  {
   "cell_type": "markdown",
   "metadata": {},
   "source": [
    "## Depth matrix visualisation\n",
    "Now you have your depth_matrix, let's take a moment and reflect upon what this matrix does and how it helps in binning the microbial contigs. \n",
    "For this part, we will visualise the depth_matrix file in excel (or a similar spreadsheet editor) on your computer."
   ]
  },
  {
   "cell_type": "markdown",
   "metadata": {},
   "source": [
    "**[DO:] Follow these steps:**\n",
    "1. Download the depth_matrix to your personal computer.\n",
    "2. The depth matrix is a big table in which columns are delimited by TABs. Open your data in excel and make sure all data is displayed as columns"
   ]
  },
  {
   "cell_type": "markdown",
   "metadata": {},
   "source": [
    "3. **[Q:] interpret the table**\n",
    "  1. What do the columns represent?\n",
    "  2. What do the rows represent?"
   ]
  },
  {
   "cell_type": "markdown",
   "metadata": {},
   "source": [
    "3. **[A:]**"
   ]
  },
  {
   "cell_type": "markdown",
   "metadata": {},
   "source": [
    "**[DO:]**\n",
    "\n",
    "4. For clarity, remove all columns except those that display the depth data.\n",
    "5. Check if you have one column per sample.\n",
    "6. Find the option for conditional formatting, filling the cells with colour depending on their content.\n",
    "7. Color all cells in the excel sheet according to a colour gradient with three colors."
   ]
  },
  {
   "cell_type": "markdown",
   "metadata": {},
   "source": [
    "8. **[Q:] interpret the table**\n",
    "  1. Can you identify two rows with a similar colour pattern,\n",
    "  2. what does that mean if these two have a similar colour pattern?"
   ]
  },
  {
   "cell_type": "markdown",
   "metadata": {},
   "source": [
    "8. **[A:]**"
   ]
  },
  {
   "cell_type": "markdown",
   "metadata": {},
   "source": [
    "Now move on to binning part2!"
   ]
  }
 ],
 "metadata": {
  "kernelspec": {
   "display_name": "Bash",
   "language": "bash",
   "name": "bash"
  },
  "language_info": {
   "codemirror_mode": "shell",
   "file_extension": ".sh",
   "mimetype": "text/x-sh",
   "name": "bash"
  }
 },
 "nbformat": 4,
 "nbformat_minor": 2
}
