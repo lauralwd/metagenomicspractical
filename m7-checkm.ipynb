{
 "cells": [
  {
   "cell_type": "markdown",
   "metadata": {},
   "source": [
    "<h2> Checking completeness and contamination using CheckM </h2>\n",
    "\n",
    "Now that we have the bins made with metabat we can check them for contamination and completeness (quality), for this we will use CheckM. CheckM provides a set of tools for assessing the quality of genomes recovered from isolates, single cells, or metagenomes. It provides robust estimates of genome completeness and contamination by using collocated sets of genes that are ubiquitous and single-copy within a phylogenetic lineage (also called marker/signature genes). http://ecogenomics.github.io/CheckM/\n",
    "\n",
    "As you will be able to see in the checkm help pages, checkm has a workflow (lineage_wf) that will run all nessecary steps to asses bin quality. \n",
    "\n",
    "Lineage_wf (lineage-specific workflow) steps: <br>\n",
    "- The tree command places genome bins into a reference genome tree. <br>\n",
    "- The lineage_set command creates a marker file indicating lineage-specific marker sets suitable for evaluating each genome. <br>\n",
    "- This marker file is passed to the analyze command in order to identify marker genes and estimate the completeness and contamination of each genome bin.  <br>\n",
    "- Finally, the qa command can be used to produce different tables summarizing the quality of each genome bin. <br>\n",
    "\n",
    "\n",
    "<b>Assignment:</b><br>\n",
    "Sadly for this exercise the virtual machines we are using are not powerfull enough, therefore we provide the results of the first steps of the CheckM workflow up until the qa command (lineage_wf). Scan the help pages of CheckM to find out the correct command to finish the CheckM analysis. \n",
    "\n",
    "(OPTIONAL: you can try to find out what the limiting factor is of lineage_wf using !/usr/bin/time --verbose) <br>"
   ]
  },
  {
   "cell_type": "code",
   "execution_count": 1,
   "metadata": {},
   "outputs": [
    {
     "name": "stdout",
     "output_type": "stream",
     "text": [
      "\r\n",
      "                ...::: CheckM v1.0.7 :::...\r\n",
      "\r\n",
      "  Lineage-specific marker set:\r\n",
      "    tree         -> Place bins in the reference genome tree\r\n",
      "    tree_qa      -> Assess phylogenetic markers found in each bin\r\n",
      "    lineage_set  -> Infer lineage-specific marker sets for each bin\r\n",
      "\r\n",
      "  Taxonomic-specific marker set:\r\n",
      "    taxon_list   -> List available taxonomic-specific marker sets\r\n",
      "    taxon_set    -> Generate taxonomic-specific marker set\r\n",
      "\r\n",
      "  Apply marker set to genome bins:\r\n",
      "    analyze      -> Identify marker genes in bins\r\n",
      "    qa           -> Assess bins for contamination and completeness\r\n",
      "\r\n",
      "  Common workflows (combines above commands):\r\n",
      "    lineage_wf   -> Runs tree, lineage_set, analyze, qa\r\n",
      "    taxonomy_wf  -> Runs taxon_set, analyze, qa\r\n",
      "\r\n",
      "  Bin QA plots:\r\n",
      "    bin_qa_plot  -> Bar plot of bin completeness, contamination, and strain heterogeneity\r\n",
      "\r\n",
      "  Reference distribution plots:\r\n",
      "    gc_plot      -> Create GC histogram and delta-GC plot\r\n",
      "    coding_plot  -> Create coding density (CD) histogram and delta-CD plot\r\n",
      "    tetra_plot   -> Create tetranucleotide distance (TD) histogram and delta-TD plot\r\n",
      "    dist_plot    -> Create image with GC, CD, and TD distribution plots together\r\n",
      "\r\n",
      "  General plots:\r\n",
      "    nx_plot      -> Create Nx-plots\r\n",
      "    len_plot     -> Cumulative sequence length plot\r\n",
      "    len_hist     -> Sequence length histogram\r\n",
      "    marker_plot  -> Plot position of marker genes on sequences\r\n",
      "    par_plot     -> Parallel coordinate plot of GC and coverage\r\n",
      "    gc_bias_plot -> Plot bin coverage as a function of GC\r\n",
      "\r\n",
      "  Sequence subspace plots:\r\n",
      "    cov_pca      -> PCA plot of coverage profiles\r\n",
      "    tetra_pca    -> PCA plot of tetranucleotide signatures\r\n",
      "\r\n",
      "  Bin exploration and modification:\r\n",
      "    unique       -> Ensure no sequences are assigned to multiple bins\r\n",
      "    merge        -> Identify bins with complementary sets of marker genes\r\n",
      "    bin_compare  -> Compare two sets of bins (e.g., from alternative binning methods)\r\n",
      "    bin_union    -> [Experimental] Merge multiple binning efforts into a single bin set\r\n",
      "    modify       -> [Experimental] Modify sequences in a bin\r\n",
      "    outliers     -> [Experimental] Identify outlier in bins relative to reference distributions\r\n",
      "\r\n",
      "  Utility functions:\r\n",
      "    unbinned     -> Identify unbinned sequences\r\n",
      "    coverage     -> Calculate coverage of sequences\r\n",
      "    tetra        -> Calculate tetranucleotide signature of sequences\r\n",
      "    profile      -> Calculate percentage of reads mapped to each bin\r\n",
      "    join_tables  -> Join tab-separated value tables containing bin information\r\n",
      "    ssu_finder   -> Identify SSU (16S/18S) rRNAs in sequences\r\n",
      "\r\n",
      "  Use: 'checkm data' to find, download and install database updates\r\n",
      "\r\n",
      "  Use: checkm <command> -h for command specific help\r\n",
      "    \r\n"
     ]
    }
   ],
   "source": [
    "!checkm -h"
   ]
  },
  {
   "cell_type": "code",
   "execution_count": 2,
   "metadata": {},
   "outputs": [
    {
     "name": "stdout",
     "output_type": "stream",
     "text": [
      "usage: checkm lineage_wf [-h] [-r] [--ali] [--nt] [-g] [-u UNIQUE] [-m MULTI]\r\n",
      "                         [--force_domain] [--no_refinement]\r\n",
      "                         [--individual_markers] [--skip_adj_correction]\r\n",
      "                         [--skip_pseudogene_correction]\r\n",
      "                         [--aai_strain AAI_STRAIN] [-a ALIGNMENT_FILE]\r\n",
      "                         [--ignore_thresholds] [-e E_VALUE] [-l LENGTH]\r\n",
      "                         [-c COVERAGE_FILE] [-f FILE] [--tab_table]\r\n",
      "                         [-x EXTENSION] [-t THREADS]\r\n",
      "                         [--pplacer_threads PPLACER_THREADS] [-q]\r\n",
      "                         [--tmpdir TMPDIR]\r\n",
      "                         bin_folder out_folder\r\n",
      "\r\n",
      "Runs tree, lineage_set, analyze, qa\r\n",
      "\r\n",
      "positional arguments:\r\n",
      "  bin_folder            folder containing bins (fasta format)\r\n",
      "  out_folder            folder to write output files\r\n",
      "\r\n",
      "optional arguments:\r\n",
      "  -h, --help            show this help message and exit\r\n",
      "  -r, --reduced_tree    use reduced tree (requires <16GB of memory) for determining lineage of each bin\r\n",
      "  --ali                 generate HMMER alignment file for each bin\r\n",
      "  --nt                  generate nucleotide gene sequences for each bin\r\n",
      "  -g, --genes           bins contain genes as amino acids instead of nucleotide contigs\r\n",
      "  -u, --unique UNIQUE   minimum number of unique phylogenetic markers required to use lineage-specific marker set (default: 10)\r\n",
      "  -m, --multi MULTI     maximum number of multi-copy phylogenetic markers before defaulting to domain-level marker set (default: 10)\r\n",
      "  --force_domain        use domain-level sets for all bins\r\n",
      "  --no_refinement       do not perform lineage-specific marker set refinement\r\n",
      "  --individual_markers  treat marker as independent (i.e., ignore co-located set structure)\r\n",
      "  --skip_adj_correction\r\n",
      "                        do not exclude adjacent marker genes when estimating contamination\r\n",
      "  --skip_pseudogene_correction\r\n",
      "                        skip identification and filtering of pseudogenes\r\n",
      "  --aai_strain AAI_STRAIN\r\n",
      "                        AAI threshold used to identify strain heterogeneity (default: 0.9)\r\n",
      "  -a, --alignment_file ALIGNMENT_FILE\r\n",
      "                        produce file showing alignment of multi-copy genes and their AAI identity\r\n",
      "  --ignore_thresholds   ignore model-specific score thresholds\r\n",
      "  -e, --e_value E_VALUE\r\n",
      "                        e-value cut off (default: 1e-10)\r\n",
      "  -l, --length LENGTH   percent overlap between target and query (default: 0.7)\r\n",
      "  -c, --coverage_file COVERAGE_FILE\r\n",
      "                        file containing coverage of each sequence; coverage information added to table type 2 (see coverage command)\r\n",
      "  -f, --file FILE       print results to file (default: stdout)\r\n",
      "  --tab_table           print tab-separated values table\r\n",
      "  -x, --extension EXTENSION\r\n",
      "                        extension of bins (other files in folder are ignored) (default: fna)\r\n",
      "  -t, --threads THREADS\r\n",
      "                        number of threads (default: 1)\r\n",
      "  --pplacer_threads PPLACER_THREADS\r\n",
      "                        number of threads used by pplacer (memory usage increases linearly with additional threads) (default: 1)\r\n",
      "  -q, --quiet           suppress console output\r\n",
      "  --tmpdir TMPDIR       specify an alternative directory for temporary files\r\n",
      "\r\n",
      "Example: checkm lineage_wf ./bins ./output\r\n"
     ]
    }
   ],
   "source": [
    "!checkm lineage_wf -h"
   ]
  },
  {
   "cell_type": "markdown",
   "metadata": {},
   "source": [
    "checkm qa help page:"
   ]
  },
  {
   "cell_type": "code",
   "execution_count": null,
   "metadata": {},
   "outputs": [],
   "source": [
    "!checkm qa -h"
   ]
  },
  {
   "cell_type": "markdown",
   "metadata": {},
   "source": [
    "run checkm qa:"
   ]
  },
  {
   "cell_type": "code",
   "execution_count": null,
   "metadata": {},
   "outputs": [],
   "source": [
    "!checkm qa"
   ]
  },
  {
   "cell_type": "markdown",
   "metadata": {},
   "source": [
    "(think and discuss these questions) <br>\n",
    "\n",
    "What did you do? <br>\n",
    "Where is your output? <br>\n",
    "What does your output look like? <br>\n",
    "What can you say about the bins with this output? <br>\n",
    "What can you say about lineages of the bins?<br>"
   ]
  }
 ],
 "metadata": {
  "kernelspec": {
   "display_name": "Python 3",
   "language": "python",
   "name": "python3"
  },
  "language_info": {
   "codemirror_mode": {
    "name": "ipython",
    "version": 3
   },
   "file_extension": ".py",
   "mimetype": "text/x-python",
   "name": "python",
   "nbconvert_exporter": "python",
   "pygments_lexer": "ipython3",
   "version": "3.6.5"
  }
 },
 "nbformat": 4,
 "nbformat_minor": 2
}
