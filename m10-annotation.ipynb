{
 "cells": [
  {
   "cell_type": "markdown",
   "metadata": {},
   "source": [
    "## Genome annotation with Prokka\n",
    "\n",
    "Now that we have some extra information about our bins, we can continue to analyse the high-quality bins. The final CheckM results will give you a good overview of the bins with low contamination and high completeness and show the bin's lowest taxonomic rank. Pick a bin that you think is interesting to study further. Alternatively, you may also make a loop to annotate multiple bins.\n",
    "\n",
    "With this selected bin(s), we are going to do some genome annotation. Whole-genome annotation is the process of identifying features of interest in a set of genomic DNA sequences and labelling them with useful information. Prokka is a software tool to annotate bacterial, archaeal and viral genomes quickly and produce standards-compliant output files.\n",
    "\n",
    "<b>Assignment:</b><br>\n",
    "Have a look at the prokka help pages below and come up with the right command to run prokka. (HINT: look at the Usage tag to run prokka on default mode, think of threads, use `--cpus 1 --centre X --compliant` to stop prokkas complaints about ugly contig names, direct the output towards data/prokka)."
   ]
  },
  {
   "cell_type": "markdown",
   "metadata": {},
   "source": [
    "make a directory for the prokka output:"
   ]
  },
  {
   "cell_type": "code",
   "execution_count": null,
   "metadata": {},
   "outputs": [],
   "source": [
    "mkdir "
   ]
  },
  {
   "cell_type": "markdown",
   "metadata": {},
   "source": [
    "prokka help page:"
   ]
  },
  {
   "cell_type": "code",
   "execution_count": null,
   "metadata": {},
   "outputs": [],
   "source": [
    "prokka -h"
   ]
  },
  {
   "cell_type": "markdown",
   "metadata": {},
   "source": [
    "run prokka:  This may take a while."
   ]
  },
  {
   "cell_type": "code",
   "execution_count": null,
   "metadata": {
    "scrolled": true
   },
   "outputs": [],
   "source": [
    "prokka ..path/to/bin/ --outdir ..output/path/..  --cpus 1 --centre X --compliant\n"
   ]
  },
  {
   "cell_type": "markdown",
   "metadata": {},
   "source": [
    "(think and discuss these questions) <br>\n",
    "\n",
    "What did you do? <br>\n",
    "Where is your output? <br>\n",
    "What does your output look like? <br>\n",
    "Do you know what all the output files are or mean? <br>\n",
    "\n",
    "(HINT: you can look at the prokka files in the same way we looked at the reads and scaffold earlier)."
   ]
  },
  {
   "cell_type": "code",
   "execution_count": null,
   "metadata": {},
   "outputs": [],
   "source": []
  },
  {
   "cell_type": "markdown",
   "metadata": {},
   "source": [
    "<b>investigating prokka output</b><br>\n",
    "The prokka output is very elaborate and can be used to many ends. \n",
    "We will quickly visualise the output for the purpose of this practical. \n",
    "To investigate the prokka output, you can use two webservers that both can place the annotations from prokka in metabolic KEGG pathways.\n",
    "First, we'll inspect the contents of a GFF file."
   ]
  },
  {
   "cell_type": "markdown",
   "metadata": {},
   "source": [
    "view prokka output: (look for the `.gff` file)"
   ]
  },
  {
   "cell_type": "code",
   "execution_count": null,
   "metadata": {},
   "outputs": [],
   "source": [
    "grep -v '#' ....yourprokkaoutput.gff | head"
   ]
  },
  {
   "cell_type": "markdown",
   "metadata": {},
   "source": [
    "### Visualisation in IPath3 onpathways.embl.de\n",
    "\n",
    "For visualisation in [pathways.embl.de](https://pathways.embl.de/ipath3.cgi?map=metabolic) we need to add the word 'UNIRPOT:' to the list of IDs like so:\n",
    "\n",
    "Prokka gives UniProt IDs in the gff files first we will collect these IDs and discard all other information.\n",
    "However, we need to make sure that IPath3 understands these are UniprotIDs. \n",
    "The code below helps you to do so.\n",
    "\n",
    "take the uniprot IDs out of the gff file:"
   ]
  },
  {
   "cell_type": "code",
   "execution_count": null,
   "metadata": {},
   "outputs": [],
   "source": [
    "grep -o 'UniProt.*' ....yourprokkaoutput | cut -d';' -f1 | cut -d':' -f2 | sed 's/^/UNIPROT:/g'"
   ]
  },
  {
   "cell_type": "markdown",
   "metadata": {},
   "source": [
    "Then go the the website linked above, and past in your IDs in the search field. You can now browse through the pathways encoded by those genes."
   ]
  },
  {
   "cell_type": "markdown",
   "metadata": {},
   "source": [
    "### Visualising in KEGG\n",
    "\n",
    "Visualising in KEGG ( the Kyoto Encyclopedia of Genes and Genomes) allows us to zoom in further into the metabolism.\n",
    "Unfortunatelly, simple Uniprot to KO conversion is not supported anymore by Uniprot.\n",
    "The alternative way to approach this, is to take all protein sequences produced by prokka (the `.faa file`) and do a protein blast to the KEGG database with [blastKOala](https://www.kegg.jp/blastkoala/).\n",
    "This takes quite some time and requires an account, so I did this for you already.\n",
    "The files are available in the `data/blastKOala` directory.\n",
    "Note that the bin numbers may not match up between my example and your own run, this is just for illustration of what's possible with the method.\n",
    "\n",
    "You can upload and visualise these simple tables on [KEGG reconstruct pathway](https://www.genome.jp/kegg/mapper/reconstruct.html)"
   ]
  },
  {
   "cell_type": "code",
   "execution_count": null,
   "metadata": {},
   "outputs": [],
   "source": [
    "ls data/blastKOala"
   ]
  },
  {
   "cell_type": "markdown",
   "metadata": {},
   "source": [
    "You may feel overwhelmed by the number of pathways, modules and genes available to you. \n",
    "For this specific case, we are interested in Nitrogen metabolism. \n",
    "You may have a look at the Dijkhuizen et al. 2018 paper on Azolla endophytes. Figure 4 of that paper shows the nitrogen metabolism of multiple microbes is plotted. \n",
    "Next, some hypotheses are derived and tested in the wet lab. Does your plot of the nitrogen metabolism overlap with the one published? \n",
    "Or did you maybe discover a new endophyte!\n"
   ]
  }
 ],
 "metadata": {
  "kernelspec": {
   "display_name": "Bash",
   "language": "bash",
   "name": "bash"
  },
  "language_info": {
   "codemirror_mode": "shell",
   "file_extension": ".sh",
   "mimetype": "text/x-sh",
   "name": "bash"
  }
 },
 "nbformat": 4,
 "nbformat_minor": 2
}
