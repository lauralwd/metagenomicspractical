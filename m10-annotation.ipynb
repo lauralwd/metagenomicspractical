{
 "cells": [
  {
   "cell_type": "markdown",
   "metadata": {},
   "source": [
    "# Genome annotation with ``prokka``\n",
    "\n",
    "Now that we have some extra information about our bins, we can continue to analyse the high-quality bins. \n",
    "The final CheckM results will give you a good overview of the bins with low contamination and high completeness and show the bin's lowest taxonomic rank. \n",
    "Pick a bin that you think is interesting to study further. \n",
    "Alternatively, you may also make a loop to annotate multiple bins. \n",
    "\n",
    "With this selected bin(s), we are going to do genome annotation. \n",
    "Whole-genome annotation is the process of identifying features of interest in a set of genomic DNA sequences and labelling them with useful information. \n",
    "`Prokka` is a software tool to annotate bacterial, archaeal and viral genomes quickly and produce standards-compliant output files."
   ]
  },
  {
   "cell_type": "markdown",
   "metadata": {},
   "source": [
    "**[DO:] make a directory for the** `prokka` **output:**"
   ]
  },
  {
   "cell_type": "code",
   "execution_count": null,
   "metadata": {},
   "outputs": [],
   "source": [
    "mkdir "
   ]
  },
  {
   "cell_type": "markdown",
   "metadata": {},
   "source": [
    "**[DO:] read the prokka help page**\n",
    "Remember to look for the usage line."
   ]
  },
  {
   "cell_type": "code",
   "execution_count": null,
   "metadata": {},
   "outputs": [],
   "source": [
    "prokka -h"
   ]
  },
  {
   "cell_type": "markdown",
   "metadata": {},
   "source": [
    "Use the options `--centre X --compliant` to stop prokkas complaints about ugly contig names.\n",
    "\n",
    "**[DO:] run prokka:**\n",
    "This may take a while."
   ]
  },
  {
   "cell_type": "code",
   "execution_count": null,
   "metadata": {
    "scrolled": true
   },
   "outputs": [],
   "source": [
    "prokka "
   ]
  },
  {
   "cell_type": "markdown",
   "metadata": {},
   "source": [
    "## Investigating prokka output\n",
    "The prokka output is very elaborate and can be used to many ends. \n",
    "We will quickly visualise the output for the purpose of this practical. \n",
    "To investigate the prokka output, you can use two webservers that both can place the annotations from prokka in metabolic KEGG pathways.\n",
    "First, we'll inspect the contents of a GFF file."
   ]
  },
  {
   "cell_type": "markdown",
   "metadata": {},
   "source": [
    "**[DO:] View prokka output:** (look for the `.gff` file)"
   ]
  },
  {
   "cell_type": "code",
   "execution_count": null,
   "metadata": {},
   "outputs": [],
   "source": [
    "grep -v '#' ....yourprokkaoutput.gff | head"
   ]
  },
  {
   "cell_type": "markdown",
   "metadata": {},
   "source": [
    "## Visualisation in IPath3 onpathways.embl.de\n",
    "\n",
    "For visualisation in [pathways.embl.de](https://pathways.embl.de/ipath3.cgi?map=metabolic) we need to add the word 'UNIRPOT:' to the list of IDs like so:\n",
    "\n",
    "Prokka gives UniProt IDs in the gff files first we will collect these IDs and discard all other information.\n",
    "However, we need to make sure that IPath3 understands these are UniprotIDs. \n",
    "The code below helps you to do so.\n",
    "\n",
    "**[DO:] take the uniprot IDs out of the gff file:**"
   ]
  },
  {
   "cell_type": "code",
   "execution_count": null,
   "metadata": {},
   "outputs": [],
   "source": [
    "grep -o 'UniProt.*' ....yourprokkaoutput | cut -d';' -f1 | cut -d':' -f2 | sed 's/^/UNIPROT:/g'"
   ]
  },
  {
   "cell_type": "markdown",
   "metadata": {},
   "source": [
    "**[DO:] Go to the the website linked above, and past in your IDs in the search field.** You can now browse through the pathways encoded by those genes."
   ]
  },
  {
   "cell_type": "markdown",
   "metadata": {},
   "source": [
    "## Visualising in KEGG\n",
    "\n",
    "Visualising in KEGG ( the Kyoto Encyclopedia of Genes and Genomes) allows us to zoom in further into the metabolism.\n",
    "The best way to approach this, is to take all protein sequences produced by prokka (the `.faa file`) and do a protein blast to the KEGG database with [blastKOala](https://www.kegg.jp/blastkoala/).\n",
    "This takes quite some time and requires an account, so I did this for you already.\n",
    "The files are available in the `data/blastKOala` directory.\n",
    "Note that the bin numbers may not match up between my example and your own run, this is just for illustration of what's possible with the method.\n",
    "\n",
    "**[DO:] Upload and visualise these simple tables on [KEGG reconstruct pathway](https://www.genome.jp/kegg/mapper/reconstruct.html)**"
   ]
  },
  {
   "cell_type": "code",
   "execution_count": null,
   "metadata": {},
   "outputs": [],
   "source": [
    "ls data/blastKOala"
   ]
  },
  {
   "cell_type": "markdown",
   "metadata": {},
   "source": [
    "You may feel overwhelmed by the number of pathways, modules and genes available to you. \n",
    "For this specific case, we are interested in Nitrogen metabolism. \n",
    "You may have a look at the \n",
    "[Dijkhuizen et al. 2018 paper on Azolla endophytes](https://nph.onlinelibrary.wiley.com/doi/10.1111/nph.14843). \n",
    "Find of that paper, this shows the nitrogen metabolism of multiple microbes. \n",
    "Next, some hypotheses are derived and tested in the wet lab. \n",
    "Does your plot of the nitrogen metabolism overlap with the one published? \n",
    "Or did you maybe discover a new endophyte!\n"
   ]
  }
 ],
 "metadata": {
  "kernelspec": {
   "display_name": "Bash",
   "language": "bash",
   "name": "bash"
  },
  "language_info": {
   "codemirror_mode": "shell",
   "file_extension": ".sh",
   "mimetype": "text/x-sh",
   "name": "bash"
  }
 },
 "nbformat": 4,
 "nbformat_minor": 2
}
