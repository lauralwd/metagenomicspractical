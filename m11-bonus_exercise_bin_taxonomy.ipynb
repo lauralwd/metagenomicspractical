{
 "cells": [
  {
   "cell_type": "markdown",
   "metadata": {},
   "source": [
    "# Bin taxonomy\n",
    "Bin taxonomy was already determined by `checkm` by searching for certain marker genes.\n",
    "An alternative method is to blast all protein coding genes to the nr protein database of ncbi blast, and then retreiving the last common ancestor of the good hits you get.\n",
    "This sounds like a lot of work, luckily there is a tool that does just this!\n",
    "CAT, the Contig Annotation Tool, can determine the taxonomy of a contig or a bin.\n",
    "This is a very computationally intensive task and you need to download a huge database to your local computer. \n",
    "\n",
    "CAT is not installed in the default conda environment, so open up a terminal and install it.\n",
    "```\n",
    "conda install -c bioconda cat\n",
    "```\n",
    "\n",
    "If you run into trouble, creating a separate environment helped for me:\n",
    "```\n",
    "conda create -n cat -c bioconda CAT diamond=0.9.21\n",
    "conda activate cat\n",
    "```\n",
    "\n",
    "**[DO:]** Download a CAT database here: tbb.bio.uu.nl/bastiaan/CAT_prepare/"
   ]
  },
  {
   "cell_type": "code",
   "execution_count": null,
   "metadata": {},
   "outputs": [],
   "source": []
  },
  {
   "cell_type": "markdown",
   "metadata": {},
   "source": [
    "**[DO:]** If that's setup, read the CAT manual, and go ahead!"
   ]
  },
  {
   "cell_type": "code",
   "execution_count": null,
   "metadata": {},
   "outputs": [],
   "source": []
  }
 ],
 "metadata": {
  "kernelspec": {
   "display_name": "Bash",
   "language": "bash",
   "name": "bash"
  },
  "language_info": {
   "codemirror_mode": "shell",
   "file_extension": ".sh",
   "mimetype": "text/x-sh",
   "name": "bash"
  }
 },
 "nbformat": 4,
 "nbformat_minor": 1
}
