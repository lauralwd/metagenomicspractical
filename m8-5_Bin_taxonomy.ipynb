{
 "cells": [
  {
   "cell_type": "markdown",
   "metadata": {
    "collapsed": false
   },
   "source": [
    "# Bin taxonomy\n",
    "For those of you that are very fast, we will determine Bin taxonomy. \n",
    "This is a very computationaly intensive task; if you can run this overnight, then do. \n",
    "Otherwise, you can skip it. \n",
    "Also check if the server has sufficient memmory to do this task! \n",
    "See the code below.\n",
    "\n",
    "\n",
    "Taxonomy determination can be done by certain marker genes present in a bin or by the gene content of a bin.\n",
    "The former is what checkm normaly does, except we don't have to resources to do that today.\n",
    "The latter is what a tool called CAT does, not the same as `cat`.\n",
    "CAT, the Contig Annotation Tool, finds all open reading frames in a contig or bin, blasts this to the blast protein database, and combines all results to predict taxonomy of a contig or bin.\n",
    "\n",
    "Install CAT via conda like you did with checkm. Create a new environment Named 'cat', using the Channel 'bioconda', installing 'CAT' and 'diamond' version 0.9.21.\n",
    "\n",
    "\n",
    "`conda create -n cat -c bioconda CAT diamond=0.9.21`\n",
    "\n",
    "`conda activate cat`\n",
    "\n",
    "And run CAT like this.\n",
    "Note that you should fill two things:\n",
    "\n",
    " 1. The path to your bins with the `-b` option\n",
    " 2. An output prefix with the `-o` option.\n",
    "\n",
    "`CAT bins -b <</path/to/your/bins>> -d /projects/03b52fdc-4de1-4e3f-924b-2de9148c4f74/metagenomics_reference_databases/CAT_prepare_20190719/2019-07-19_CAT_database/ -t /projects/03b52fdc-4de1-4e3f-924b-2de9148c4f74/metagenomics_reference_databases/CAT_prepare_20190719/2019-07-19_taxonomy/ -s fa -n 1 -o <</path/to/your/output/prefix>>`"
   ]
  },
  {
   "cell_type": "markdown",
   "metadata": {
    "collapsed": false
   },
   "source": [
    "### Enough memory?\n",
    "Only run the command above if there is more than 20GB of RAM available, use the command below to check:"
   ]
  },
  {
   "cell_type": "code",
   "execution_count": 0,
   "metadata": {
    "collapsed": false
   },
   "outputs": [
   ],
   "source": [
    "free -g"
   ]
  }
 ],
 "metadata": {
  "kernelspec": {
   "display_name": "Bash",
   "env": {
    "PS1": "$"
   },
   "language": "bash",
   "name": "bash"
  },
  "language_info": {
   "codemirror_mode": "shell",
   "file_extension": ".sh",
   "mimetype": "text/x-sh",
   "name": "bash"
  }
 },
 "nbformat": 4,
 "nbformat_minor": 0
}