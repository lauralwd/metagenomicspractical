{
 "cells": [
  {
   "cell_type": "markdown",
   "metadata": {},
   "source": [
    "<h2> Binning with MetaBat </h2>\n",
    "\n",
    "Now that we have the reads, the scaffolds and the mapping of the reads on the scaffolds we can continue with the binning. In metagenomics, binning is the process of grouping reads or contigs and assigning them to operational taxonomic units. Binning methods can be based on either compositional features or alignment (similarity), or both. Metabat uses both the contig depth and tetra-nucleotide frequencies to bin the contigs. Every bin will represent one operational taxonomic unit that can be found in the metagenome.\n",
    "\n",
    "<b>Assignment:</b><br>\n",
    "Run the script provided in /metagenomics/scripts/jgi_summarize_bam_contig_depths to calculate the average depth per contig. <br>\n",
    "Then run metabat to bin the contigs, dont forget to include the previously included contig depths in the metabat command."
   ]
  },
  {
   "cell_type": "code",
   "execution_count": null,
   "metadata": {
    "scrolled": true
   },
   "outputs": [],
   "source": [
    "!./data/scripts/jgi_summarize_bam_contig_depths -h"
   ]
  },
  {
   "cell_type": "markdown",
   "metadata": {},
   "source": [
    "calculate the contig depth per scaffold, use the `--outputDepth` option. Notice that the help page tells you to supply an arg(ument) as to where to store the depth output file. Specify the a path to a file that this script will create. Something like this\n",
    "\n",
    "> ./script --outputDepth /path/to/depth_matrix\n",
    "\n",
    "\n",
    "hint: a glob looks like this directoryname/* and includes all files included in the directory\n",
    "\n",
    "Try using the `*` with `ls` first. List all sorted bam files you created"
   ]
  },
  {
   "cell_type": "code",
   "execution_count": null,
   "metadata": {},
   "outputs": [],
   "source": [
    "ls ./"
   ]
  },
  {
   "cell_type": "code",
   "execution_count": null,
   "metadata": {},
   "outputs": [],
   "source": [
    "!./data/scripts/jgi_summarize_bam_contig_depthsi_summarize_bam_contig_depths"
   ]
  },
  {
   "cell_type": "markdown",
   "metadata": {},
   "source": [
    "The output of this process is the input for MetaBAT in the next step. After the jgi script finishes, make sure you check that the file actually contains a table. If so, please remove all BAM files. We don't need these anymore."
   ]
  },
  {
   "cell_type": "code",
   "execution_count": null,
   "metadata": {},
   "outputs": [],
   "source": [
    "!head ..path/to/your/deth_matrix... # <-- substitute this path for the file you created with the jgi script."
   ]
  },
  {
   "cell_type": "code",
   "execution_count": null,
   "metadata": {},
   "outputs": [],
   "source": [
    "!rm ./data/sorted "
   ]
  }
 ],
 "metadata": {
  "kernelspec": {
   "display_name": "Python 2",
   "language": "python",
   "name": "python2"
  },
  "language_info": {
   "codemirror_mode": {
    "name": "ipython",
    "version": 3
   },
   "file_extension": ".py",
   "mimetype": "text/x-python",
   "name": "python",
   "nbconvert_exporter": "python",
   "pygments_lexer": "ipython3",
   "version": "3.6.5"
  }
 },
 "nbformat": 4,
 "nbformat_minor": 2
}
