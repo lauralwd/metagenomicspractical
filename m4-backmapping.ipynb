{
 "cells": [
  {
   "cell_type": "markdown",
   "metadata": {},
   "source": [
    "# Mapping reads to scaffolds with bwa (Burrows-Wheeler Aligner) and sorting with Samtools\n",
    "We now have seen with our own eyes the reads and the assembly. In any bio-informatic step, learn yourself to always have a peek into the actual data you are producing. Since you now have seen that the files look OK, we can start by mapping (aligning) the original reads in `.fastq.gz` files back to the scaffolds created with the assembly; the `scaffolds.fasta` file. Doing this will allow us to calculate the read depth on the scaffolds; a preresiquite for the binning procedure.\n",
    "\n",
    "The reads are paired-end illumina sequences, which means that for each DNA fragment, we have sequence data from both ends. The sequences are therefore stored in two separate files (one for the data from each end). We’ll use `bwa` with default settings to align the reads back to the scaffolds and then `samtools` allows us to work with the bwa results.\n",
    "\n",
    "For a second, think about why this called backmapping, and not just mapping?\n",
    "\n",
    "<b>Assignment:</b><br>\n",
    "Use bwa to backmap the reads against the scaffolds and save the mapping as a `.bam` file. When in doubt, don't forget to read the 'help page' of a command like so\n",
    "> ls --help\n",
    "\n",
    "or sometimes by executing the command without any arguments like so\n",
    "> bwa\n",
    "\n",
    "> bwa index\n",
    "\n",
    "For more elaborate information, read the manual with the `man` command\n",
    "> man bwa\n",
    "\n",
    "> man samtools\n",
    "\n",
    "In this notebook we will do the following.\n",
    "1. To run bwa we first need to make an index file of the scaffolds. \n",
    "2. Then we can run bwa and immediatly pipe the output of bwa through samtools view which will output a bam file \n",
    "3. Finally, since we have quite a few bam files to align to the assembly, we will make a `for` loop that will iterate over the different samples we have. \n",
    "\n",
    "Hence, we're combining a lot of the things we have learnt so far. Make sure you tackle this assignment step by step and help each other where neccesary.\n",
    "\n",
    "\n",
    "some background: \n",
    "> By default mapping algorithms like bwa spit out a .sam file. The sam format is widely used and accepted by many different downstream programmes. Basically it's just a big table with a standardised format. Although a sam file is human readable, it is also rather bulky. The filesize of a single SAM file will quickly exceed the disk space you have on this virtual machine. Therefore, we convert it to a BAM file, which is a Binary sAM file. There is no loss of information, it is just stored much more efficiently. Naturally, a binary file is not human readable. Always store your files as bam files, if you need to have a look in the bam file you can view them using samtools view or any of the many downstream programmes available online."
   ]
  },
  {
   "cell_type": "markdown",
   "metadata": {},
   "source": [
    "## Index the assembly with bwa index\n",
    "In the new cells below, create an index of the scaffolds with bwa. Start by reading the `bwa index` instructions. \n",
    "\n",
    "1. Remember to look for the 'usage' line first. \n",
    "2. You won't need any options here.\n",
    "3. Remember where the assembly was? We just gUnzipped it in the last notebook. \n",
    "    1. use `ls` and auto completion to find your way to the right file\n",
    "\n",
    "Create new cells if you prefer with the '+' sign or by hitting the b-key on your keyboard."
   ]
  },
  {
   "cell_type": "code",
   "execution_count": null,
   "metadata": {},
   "outputs": [],
   "source": [
    "ls ./da"
   ]
  },
  {
   "cell_type": "code",
   "execution_count": null,
   "metadata": {
    "scrolled": true
   },
   "outputs": [],
   "source": [
    "bwa index"
   ]
  },
  {
   "cell_type": "markdown",
   "metadata": {},
   "source": [
    "So while this runs, let's think about what is happening. Mapping always takes a query sequence, and a reference sequence. The reference is our assembly, specifically the `scaffolds.fasta` file. What `bwa index` does, is taking this reference and 'index' it. Which means as much as it converts this regular text fasta file, into a complicated binary format that computers can efficiently search."
   ]
  },
  {
   "cell_type": "markdown",
   "metadata": {},
   "source": [
    "## Check the output of bwa\n",
    "After creating the index, there should be multiple files in the assembly folder. Think about what command you could use to see if that is the case. Use the empty cell below."
   ]
  },
  {
   "cell_type": "code",
   "execution_count": null,
   "metadata": {},
   "outputs": [],
   "source": []
  },
  {
   "cell_type": "markdown",
   "metadata": {},
   "source": [
    "Besides the original scaffolds file, we now expect multiple other files. All of these together comprise the `index` we just made. A bwa index of a fasta file can be seen as a binary representation of the fasta file that bwa can search really efficiently. It is not meant for human eyes, but purely for the computer algorithms to search through."
   ]
  },
  {
   "cell_type": "markdown",
   "metadata": {},
   "source": [
    "## Run bwa mem for backmapping\n",
    "For this part we will combine your skills on **bash loops** and **variables** to run bwa mem and samtools view on all the reads in data/reads and create BAM output files in a newly made directory.\n",
    "\n",
    "Then we use a bash for loop to run samtools sort on all the files created by samtools view\n",
    "\n",
    "Step by step instruction:<br>\n",
    "1. make a new directory for the samtools view results, give this a usefull name\n",
    "    1. I suggest ./data/mapped\n",
    "    2. to make a directory, use the command `mkdir`\n",
    "2. see how the loop I pre-made for you works, play a bit to see if you understand correctly\n",
    "3. Don't forget to read the manual page of both! You can make extra cells, to print these manual pages if you want to.\n",
    "4. finish the for loop and run both these commands in a pipe\n",
    "    1. `bwa mem` \n",
    "    2. `samtools view`\n",
    "5. bwa mem does not require any options, \n",
    "6. For samtools view, look for the options to convert to a BAM file and to write the output to a file.\n",
    "   \n",
    "It should look somewhat like this `bwa mem argument argument.fastq  | samtools view argument argument`\n",
    "    \n",
    "If you forgot how a loop works, check the notebook of this morning 'm1-jupyter_and_bash_basics.ipynb' .\n",
    "\n",
    "Mapping each individual sample will take about 5 to 6 minutes. If you think your loop works (read: it doesn't crash imediatelly) just check in the next notebook if the files are created and if they increase in size. Use `ls -sh`."
   ]
  },
  {
   "cell_type": "markdown",
   "metadata": {},
   "source": [
    "1 First make your new directory here."
   ]
  },
  {
   "cell_type": "code",
   "execution_count": null,
   "metadata": {},
   "outputs": [],
   "source": []
  },
  {
   "cell_type": "markdown",
   "metadata": {},
   "source": [
    "2 now see how this loop works. "
   ]
  },
  {
   "cell_type": "code",
   "execution_count": null,
   "metadata": {},
   "outputs": [],
   "source": [
    "# first I define the samples in a variable called 'samples'\n",
    "samples=( E1 E2 E3 P1 P2 P3 )\n",
    "# next I use this variable in my loop\n",
    "for i in ${samples[@]}\n",
    "    do echo $i  \n",
    "done"
   ]
  },
  {
   "cell_type": "markdown",
   "metadata": {},
   "source": [
    "3 Read the manual"
   ]
  },
  {
   "cell_type": "code",
   "execution_count": null,
   "metadata": {},
   "outputs": [],
   "source": [
    "bwa mem"
   ]
  },
  {
   "cell_type": "code",
   "execution_count": null,
   "metadata": {},
   "outputs": [],
   "source": [
    "samtools view"
   ]
  },
  {
   "cell_type": "markdown",
   "metadata": {},
   "source": [
    "4 Now it's up to you! Here you have another variant of the loop I made above. Substitute the `ls` command for a `bwa` command. Also note that you can use the variable inside a path!"
   ]
  },
  {
   "cell_type": "code",
   "execution_count": null,
   "metadata": {
    "scrolled": true
   },
   "outputs": [],
   "source": [
    "# first I define the samples in a variable called 'samples'\n",
    "samples=( E1 E2 E3 P1 P2 P3 )\n",
    "# next I use this variable in my loop\n",
    "for i in ${samples[@]}\n",
    "    do ls ./data/reads/$i.R1.fastq.gz  # <<<<---- Write your own code here\n",
    "done"
   ]
  },
  {
   "cell_type": "markdown",
   "metadata": {},
   "source": [
    "If the loop is running, then proceed to the next notebook. Check with `ls` if your files are being created, and perhaps if they increase in size over time. Then start peparing the next loop: sorting of the bam files."
   ]
  }
 ],
 "metadata": {
  "kernelspec": {
   "display_name": "Bash",
   "language": "bash",
   "name": "bash"
  },
  "language_info": {
   "codemirror_mode": "shell",
   "file_extension": ".sh",
   "mimetype": "text/x-sh",
   "name": "bash"
  }
 },
 "nbformat": 4,
 "nbformat_minor": 2
}
