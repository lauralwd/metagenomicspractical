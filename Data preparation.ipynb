{
 "cells": [
  {
   "cell_type": "markdown",
   "metadata": {},
   "source": [
    "collect and subset data for the metagenomics practical"
   ]
  },
  {
   "cell_type": "code",
   "execution_count": 1,
   "metadata": {},
   "outputs": [
    {
     "name": "stdout",
     "output_type": "stream",
     "text": [
      "/home/laura/gitprojects/metagenomicspractical\n",
      "'Data preparation.ipynb'   LICENSE   metagenomics.ipynb   README.md\n"
     ]
    }
   ],
   "source": [
    "cd /home/laura/gitprojects/metagenomicspractical"
   ]
  },
  {
   "cell_type": "markdown",
   "metadata": {},
   "source": [
    "First I want to make subsets of all biological replicates of 1M reads versus 10M reads. So that is 4M lines in a fastq file"
   ]
  },
  {
   "cell_type": "code",
   "execution_count": 19,
   "metadata": {},
   "outputs": [
    {
     "name": "stdout",
     "output_type": "stream",
     "text": [
      "find: ‘./reads’: No such file or directory\n"
     ]
    }
   ],
   "source": [
    "if  [ ! -d ./reads_subsets ]\n",
    "then mkdir ./reads_subsets\n",
    "fi\n",
    "fastqs=$(find ./reads -type f -name '*.fastq.gz')\n",
    "for     f in ${fastqs[@]}\n",
    "do      out=$(echo $f | cut -d '/' -f 3)\n",
    "        echo $out\n",
    "        zcat $f 2> /dev/null | head -n 4000000 > ./reads_subsets/$out\n",
    "        unset out\n",
    "done\n",
    "    v    "
   ]
  },
  {
   "cell_type": "code",
   "execution_count": 20,
   "metadata": {},
   "outputs": [
    {
     "name": "stdout",
     "output_type": "stream",
     "text": [
      "L1.R1.fastq.gz  L2.R2.fastq.gz  P1.R1.fastq.gz  P2.R2.fastq.gz\n",
      "L1.R2.fastq.gz  L3.R1.fastq.gz  P1.R2.fastq.gz  P3.R1.fastq.gz\n",
      "L2.R1.fastq.gz  L3.R2.fastq.gz  P2.R1.fastq.gz  P3.R2.fastq.gz\n"
     ]
    }
   ],
   "source": [
    "ls ./metagenomics/reads\n",
    "cd ./metagenomics/reads"
   ]
  },
  {
   "cell_type": "code",
   "execution_count": 32,
   "metadata": {},
   "outputs": [],
   "source": [
    "fastqs=$(find . -type f -name '*.fastq.gz')\n",
    "for     f in ${fastqs[@]}\n",
    "do      gz=$(echo $f | cut -d '/' -f 2)\n",
    "        fq=$(echo $gz | cut -d '.' -f 1-3)\n",
    "        mv $gz $fq\n",
    "done"
   ]
  },
  {
   "cell_type": "code",
   "execution_count": 33,
   "metadata": {},
   "outputs": [
    {
     "name": "stdout",
     "output_type": "stream",
     "text": [
      "L1.R1.fastq  L2.R1.fastq  L3.R1.fastq  P1.R1.fastq  P2.R1.fastq  P3.R1.fastq\n",
      "L1.R2.fastq  L2.R2.fastq  L3.R2.fastq  P1.R2.fastq  P2.R2.fastq  P3.R2.fastq\n"
     ]
    }
   ],
   "source": [
    "ls"
   ]
  },
  {
   "cell_type": "code",
   "execution_count": 34,
   "metadata": {},
   "outputs": [],
   "source": [
    "gzip --best *.fastq"
   ]
  }
 ],
 "metadata": {
  "kernelspec": {
   "display_name": "Bash",
   "language": "bash",
   "name": "bash"
  },
  "language_info": {
   "codemirror_mode": "shell",
   "file_extension": ".sh",
   "mimetype": "text/x-sh",
   "name": "bash"
  }
 },
 "nbformat": 4,
 "nbformat_minor": 2
}
