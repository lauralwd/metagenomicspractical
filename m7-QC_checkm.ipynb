{
 "cells": [
  {
   "cell_type": "markdown",
   "metadata": {},
   "source": [
    "## Checking completeness and contamination using CheckM\n",
    "\n",
    "Now that we have the bins made with metabat we can check them for contamination and completeness (quality), for this we will use CheckM. CheckM provides a set of tools for assessing the quality of genomes recovered from isolates, single cells, or metagenomes. It provides robust estimates of genome completeness and contamination by using collocated sets of genes that are ubiquitous and single-copy within a phylogenetic lineage (also called marker/signature genes). http://ecogenomics.github.io/CheckM/\n",
    "\n",
    "As you will be able to see in the checkm help pages, checkm has a workflow (lineage_wf) that will run all nessecary steps to asses bin quality. \n",
    "\n",
    "Lineage_wf (lineage-specific workflow) steps: <br>\n",
    "- The tree command places genome bins into a reference genome tree.\n",
    "- The lineage_set command creates a marker file indicating lineage-specific marker sets suitable for evaluating each indivudual bin with the most appropriate reference set of markers. \n",
    "- This marker file is passed to the analyze command in order to identify marker genes and estimate the completeness and contamination of each genome bin. \n",
    "- Finally, the qa command can be used to produce different tables summarizing the quality of each genome bin. <br>\n",
    "\n",
    "\n",
    "Unfortunately, the 'tree' part of this workflow is too memmory intensive (about 32Gbytes of RAM (!) ) So we will cheat a bit. ** Instead, we will use the `checkm taxonomy_wf Domain Bacteria` command. ** Hence, we don't load the full tree to find the most appropriate marker set, but assume all are bacteria (reasonable assumption in this case) and don't look any deeper than that. \n"
   ]
  },
  {
   "cell_type": "code",
   "execution_count": 1,
   "metadata": {},
   "outputs": [
    {
     "name": "stdout",
     "output_type": "stream",
     "text": [
      "usage: checkm taxonomy_wf [-h] [--ali] [--nt] [-g] [--individual_markers]\r\n",
      "                          [--skip_adj_correction]\r\n",
      "                          [--skip_pseudogene_correction]\r\n",
      "                          [--aai_strain AAI_STRAIN] [-a ALIGNMENT_FILE]\r\n",
      "                          [--ignore_thresholds] [-e E_VALUE] [-l LENGTH]\r\n",
      "                          [-c COVERAGE_FILE] [-f FILE] [--tab_table]\r\n",
      "                          [-x EXTENSION] [-t THREADS] [-q] [--tmpdir TMPDIR]\r\n",
      "                          {domain,phylum,class,order,family,genus,species}\r\n",
      "                          taxon bin_folder out_folder\r\n",
      "\r\n",
      "Runs taxon_set, analyze, qa\r\n",
      "\r\n",
      "positional arguments:\r\n",
      "  {domain,phylum,class,order,family,genus,species}\r\n",
      "                        taxonomic rank\r\n",
      "  taxon                 taxon of interest\r\n",
      "  bin_folder            folder containing bins (fasta format)\r\n",
      "  out_folder            folder to write output files\r\n",
      "\r\n",
      "optional arguments:\r\n",
      "  -h, --help            show this help message and exit\r\n",
      "  --ali                 generate HMMER alignment file for each bin\r\n",
      "  --nt                  generate nucleotide gene sequences for each bin\r\n",
      "  -g, --genes           bins contain genes as amino acids instead of nucleotide contigs\r\n",
      "  --individual_markers  treat marker as independent (i.e., ignore co-located set structure)\r\n",
      "  --skip_adj_correction\r\n",
      "                        do not exclude adjacent marker genes when estimating contamination\r\n",
      "  --skip_pseudogene_correction\r\n",
      "                        skip identification and filtering of pseudogenes\r\n",
      "  --aai_strain AAI_STRAIN\r\n",
      "                        AAI threshold used to identify strain heterogeneity (default: 0.9)\r\n",
      "  -a, --alignment_file ALIGNMENT_FILE\r\n",
      "                        produce file showing alignment of multi-copy genes and their AAI identity\r\n",
      "  --ignore_thresholds   ignore model-specific score thresholds\r\n",
      "  -e, --e_value E_VALUE\r\n",
      "                        e-value cut off (default: 1e-10)\r\n",
      "  -l, --length LENGTH   percent overlap between target and query (default: 0.7)\r\n",
      "  -c, --coverage_file COVERAGE_FILE\r\n",
      "                        file containing coverage of each sequence; coverage information added to table type 2 (see coverage command)\r\n",
      "  -f, --file FILE       print results to file (default: stdout)\r\n",
      "  --tab_table           print tab-separated values table\r\n",
      "  -x, --extension EXTENSION\r\n",
      "                        extension of bins (other files in folder are ignored) (default: fna)\r\n",
      "  -t, --threads THREADS\r\n",
      "                        number of threads (default: 1)\r\n",
      "  -q, --quiet           suppress console output\r\n",
      "  --tmpdir TMPDIR       specify an alternative directory for temporary files\r\n",
      "\r\n",
      "Example: checkm taxonomy_wf domain Bacteria ./bins ./output\r\n"
     ]
    }
   ],
   "source": [
    "!checkm taxonomy_wf -h "
   ]
  },
  {
   "cell_type": "markdown",
   "metadata": {},
   "source": [
    "The checkm manual may seem somewhat intimidating. Remember that the options in square brackets are optional `[optional argument]`. Those without brackets are mandatory."
   ]
  },
  {
   "cell_type": "code",
   "execution_count": null,
   "metadata": {},
   "outputs": [],
   "source": [
    "!checkm taxonomy_wf domain Bacteria -x fa"
   ]
  },
  {
   "cell_type": "markdown",
   "metadata": {},
   "source": [
    "(think and discuss these questions) <br>\n",
    "\n",
    "What did you do? <br>\n",
    "Where is your output? <br>\n",
    "What does your output look like? <br>\n",
    "What can you say about the bins with this output? <br>\n",
    "What can you say about lineages of the bins?<br>"
   ]
  }
 ],
 "metadata": {
  "kernelspec": {
   "display_name": "Python 2",
   "language": "python",
   "name": "python2"
  },
  "language_info": {
   "codemirror_mode": {
    "name": "ipython",
    "version": 3
   },
   "file_extension": ".py",
   "mimetype": "text/x-python",
   "name": "python",
   "nbconvert_exporter": "python",
   "pygments_lexer": "ipython3",
   "version": "3.6.5"
  }
 },
 "nbformat": 4,
 "nbformat_minor": 2
}
