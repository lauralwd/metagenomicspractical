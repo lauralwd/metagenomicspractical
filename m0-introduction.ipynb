{
 "cells": [
  {
   "cell_type": "markdown",
   "metadata": {},
   "source": [
    "# General introduction\n",
    "Today, you will assemble and annotate a metagenome of a plant: *Azolla filiculoides*. *Azolla* is known for its endophytes: microorganisms that live inside the plant. These microorganisms live specifically inside a leaf cavity in every upper leaf lobes of the plant. One of these endophytes has been known for a long time: *Nostoc azollae* They are best known for fixing N^2 from the air, in service of the plant. The image included below illustrates the physiology of these leaf cavities. \n",
    "\n",
    "<img src=\"http://theazollafoundation.org/wp-content/uploads/2013/05/Azolla-leaf-cavities-with-Anabaena.png\" width=\"500\">\n",
    "\n",
    "While the presence of *N. azollae* is well studied, the presence of other microbes in the *Azolla* leaf pocket is not. Today, we will analyse the metagenome of *A. filiculoides* plants, in search for these other \"neglected\" microbes. \n",
    "\n",
    "\n",
    "\n",
    "Hence, the open biological question we are answering today is \"which species live inside these leaf cavities and what are the metabolic capacities encoded on their genomes?\" Based on these genomes, you may be able to infer their function and think of a hypotheses to test. \n",
    "\n",
    "*Tip*: If you stumble upon a step with a long calculation time, first read ahead to see what steps come next in the subsequent notebooks. Alternativelly you can google some information about the plant you are researching. Notice that this [paper](http://onlinelibrary.wiley.com/doi/10.1111/nph.14843/full) specifically describes the data that we will be using today. For a more general introduction into Azolla, perhaps have a look at [this short movie](https://youtu.be/O34gTsxyDq8) (English) or [this short movie](https://youtu.be/OI4VV4M2-f4) (Dutch) recorded for Dutch local television.\n",
    "\n",
    "# Workflow\n",
    "\n",
    "## Acquire Samples\n",
    "A typical metagenomics workflow starts in the environment and/or the wetlab with a DNA extraction from some biological sample. This is also true for this workflow. We have extracted DNA from *Azolla* from the environment in two ways. Firstly, the whole Plant (P), secondly from the Leaf cavities (L). Both were collected in three biological replicates. Hence the samples we will work with are coded L1 L2 L3 and P1 P2 P3. The reasoning behind these two sampling types is that true endophytes are expected to be more abundant in leaf samples than in plant samples. So we may later use these different sampling types to infer if a microbial genome that we assembled originated from the leaf cavity, or from somewhere else in or on the plant. \n",
    "\n",
    "Extracted DNA is processed in a sequencing library; it is prepared in a way that an [Illumina sequencing](https://en.wikipedia.org/wiki/DNA_sequencing#Illumina_(Solexa)_sequencing) machine can process it. The sequencing machine then provides us with [FastQ](https://en.wikipedia.org/wiki/FASTQ_format) files, you may have handled these before, perhaps not. We will have a look at FastQ files later in this practical. Note that often, Illumina machines sequence the two outer ends of a single DNA molecule. We call these **paired-end** sequences. For a quick illustration on how Illumina machines work, have a look ath this [video](https://www.youtube.com/watch?v=fCd6B5HRaZ8).\n",
    "\n",
    "\n",
    "## First Quality Control and processing.\n",
    "FastQ files contain the output of the Illumina sequencing machine: tens of millions of short DNA sequences. Where short is anything between 50 and 250 bp. These original short DNA sequences are further refered to as DNA reads, or just reads. FastQ files contain unprocessed output of the machine, every read consists of four lines: \n",
    "1. a header proceeded by the '@' character. \n",
    "2. the DNA sequence\n",
    "3. a comment line proceeded by a '+'\n",
    "4. a quality string.\n",
    "\n",
    "The quality string has the exact same length as the DNA read, every character in the quality string is a measure of quality corresponding to some number between 0 and 40. This measure of quality is called a [phred score](https://en.wikipedia.org/wiki/Phred_quality_score). The sequencing machine assigns this phred score based on \"how sure it is\" that this specific base is correct. To put it a bit loosly.\n",
    "\n",
    "These are two reads encoded in a FastQ file.\n",
    "\n",
    "\n",
    ">@NS500813:28:H3M3VAFXX:1:11101:19270:1015 1:N:0:CGATGT\n",
    "\n",
    ">GNGGTGAAGAAATCAGCCATTCTAAACCAATTGCTCTCCAAGGATTATCAGGTGCTTTTTCACCTTGCGTCCA\n",
    "\n",
    ">+\n",
    "\n",
    ">A#AAAEEEEEEEEEEEEEEEEEEEEEEEEEEEEEEEEEEEEEEEEEEEEEEEEEEEEEEEEAEAEE<EEEEEE\n",
    "\n",
    ">@NS500813:28:H3M3VAFXX:1:11101:24948:1015 1:N:0:CGATGT<br>\n",
    "\n",
    ">ANATTAATTATACAATCACTAATTTAGCAGAGCATTTAGAAAGTATAAGCCATGATGCAATTAACTATTATTT\n",
    "\n",
    ">+\n",
    "\n",
    ">A#AAAAEEEEE6EEEEEEEEEEEEEEEEEEEEEEEEEEEEEEEEEE/EEAEEEEEEEAEEEEEEEEEEE<EEE\n"
   ]
  }
 ],
 "metadata": {
  "kernelspec": {
   "display_name": "Python 3",
   "language": "python",
   "name": "python3"
  },
  "language_info": {
   "codemirror_mode": {
    "name": "ipython",
    "version": 3
   },
   "file_extension": ".py",
   "mimetype": "text/x-python",
   "name": "python",
   "nbconvert_exporter": "python",
   "pygments_lexer": "ipython3",
   "version": "3.6.7"
  }
 },
 "nbformat": 4,
 "nbformat_minor": 2
}
