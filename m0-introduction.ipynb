{
 "cells": [
  {
   "cell_type": "markdown",
   "metadata": {},
   "source": [
    "# General introduction\n",
    "Today, you will assemble and annotate a metagenome of a plant: *Azolla filiculoides*. *Azolla* is known for its endophytes: microorganisms that live inside the plant. These microorganisms live specifically inside a leaf cavity in every upper leaf lobes of the plant. One of these endophytes has been known for a long time: *Nostoc azollae* They are best known for fixing N^2 from the air, in service of the plant. The image included below illustrates the physiology of these leaf cavities. \n",
    "\n",
    "<img src=\"http://theazollafoundation.org/wp-content/uploads/2013/05/Azolla-leaf-cavities-with-Anabaena.png\" width=\"500\">\n",
    "\n",
    "While the presence of *N. azollae* is well studied, the presence of other microbes in the *Azolla* leaf pocket is not. Today, we will analyse the metagenome of *A. filiculoides* plants, in search for these other \"neglected\" microbes. \n",
    "\n",
    "\n",
    "\n",
    "Hence, the open biological question we are answering today is \"which species live inside these leaf cavities and what are the metabolic capacities encoded on their genomes?\" Based on these genomes, you may be able to infer their function and think of a hypotheses to test. \n",
    "\n",
    "*Tip*: If you stumble upon a step with a long calculation time, first read ahead to see what steps come next in the subsequent notebooks. Alternativelly you can google some information about the plant you are researching. Notice that this [paper](http://onlinelibrary.wiley.com/doi/10.1111/nph.14843/full) specifically describes the data that we will be using today. For a more general introduction into Azolla, perhaps have a look at [this short movie](https://youtu.be/O34gTsxyDq8) (English) or [this short movie](https://youtu.be/OI4VV4M2-f4) (Dutch) recorded for Dutch local television.\n",
    "\n",
    "\n"
   ]
  }
 ],
 "metadata": {
  "kernelspec": {
   "display_name": "Python 3",
   "language": "python",
   "name": "python3"
  },
  "language_info": {
   "codemirror_mode": {
    "name": "ipython",
    "version": 3
   },
   "file_extension": ".py",
   "mimetype": "text/x-python",
   "name": "python",
   "nbconvert_exporter": "python",
   "pygments_lexer": "ipython3",
   "version": "3.6.7"
  }
 },
 "nbformat": 4,
 "nbformat_minor": 2
}
