{
 "cells": [
  {
   "cell_type": "markdown",
   "metadata": {},
   "source": [
    "# How to work in a Jupyter notebook with the Bash language\n",
    "The webpage you are looking at, is called a jupyter notebook. It is a webpage on which you can write text (like this text) and also code. The code can ben executed an the output you see again within the same notebook! This may sound trivial, but it's really \"cool\". To put it in non-scientific terms. Code and text are entered in individual cells, a code cell or a text cell. This cell you are reading now is obviously a text cell. Now let's look at a code cell."
   ]
  },
  {
   "cell_type": "markdown",
   "metadata": {},
   "source": [
    "## bash"
   ]
  },
  {
   "cell_type": "code",
   "execution_count": 8,
   "metadata": {},
   "outputs": [
    {
     "name": "stdout",
     "output_type": "stream",
     "text": [
      "hello world\n"
     ]
    }
   ],
   "source": [
    "%%bash\n",
    "echo \"hello world\""
   ]
  },
  {
   "cell_type": "markdown",
   "metadata": {},
   "source": [
    "So what happened in the above code cell. First I declared that I want to write code in a language called `bash` by typing:\n",
    "> %%bash\n",
    "\n",
    "In the bash language, the first word you type is always the command. So in this case that was:\n",
    "> echo\n",
    "\n",
    "This command 'echoes' whatever you give it in the terminal. After you 'call' the command, you give it an argument in this case that is: \n",
    "> \"hello world\"\n",
    "\n",
    "This basic structure of 'command' 'arguments' commes back through this practical. \n",
    "\n",
    "*do* now try to change \"hello world\" to something else in the cell below:"
   ]
  },
  {
   "cell_type": "code",
   "execution_count": 8,
   "metadata": {},
   "outputs": [
    {
     "name": "stdout",
     "output_type": "stream",
     "text": [
      "hello world\n"
     ]
    }
   ],
   "source": [
    "%%bash\n",
    "echo \"hello world\""
   ]
  },
  {
   "cell_type": "markdown",
   "metadata": {},
   "source": [
    "Often, an argument is a path to a file. To see what files we have, we have the `ls` command. (short for list)"
   ]
  },
  {
   "cell_type": "code",
   "execution_count": 1,
   "metadata": {},
   "outputs": [
    {
     "name": "stdout",
     "output_type": "stream",
     "text": [
      "Data preparation.ipynb\n",
      "Introduction.ipynb\n",
      "jupyter and bash basics.ipynb\n",
      "LICENSE\n",
      "metagenomics\n",
      "metagenomics.ipynb\n",
      "README.md\n"
     ]
    }
   ],
   "source": [
    "%%bash\n",
    "ls"
   ]
  },
  {
   "cell_type": "markdown",
   "metadata": {},
   "source": [
    "Files are black, folders are purple and trailed by a '/'   Now lets use the `ls` command to see what is in the metagenomics folder"
   ]
  },
  {
   "cell_type": "code",
   "execution_count": 7,
   "metadata": {},
   "outputs": [
    {
     "name": "stdout",
     "output_type": "stream",
     "text": [
      "assembly\n",
      "mapping\n",
      "reads\n",
      "sorted\n",
      "workflowsketch.png\n"
     ]
    }
   ],
   "source": [
    "%%bash\n",
    "ls metagenomics/"
   ]
  },
  {
   "cell_type": "markdown",
   "metadata": {},
   "source": [
    "We are learning fast. So we now know what a `command` is, we know what an `argument` is. Finally we also need to know what options are. options are often provided in between the `command` and the `argument`. They look either like this\n",
    "> ls --size --human-readable\n",
    "\n",
    "or in shortened versions like this\n",
    "> ls -sh\n",
    "\n",
    "Note that the above two command are synonimous. Try out in the cell below:"
   ]
  },
  {
   "cell_type": "code",
   "execution_count": 8,
   "metadata": {},
   "outputs": [
    {
     "name": "stdout",
     "output_type": "stream",
     "text": [
      "total 652K\n",
      "4.0K assembly\n",
      "4.0K mapping\n",
      "4.0K reads\n",
      "4.0K sorted\n",
      "636K workflowsketch.png\n"
     ]
    }
   ],
   "source": [
    "%%bash \n",
    "ls --size --human-readable metagenomics/"
   ]
  },
  {
   "cell_type": "markdown",
   "metadata": {},
   "source": [
    "Finally, you may also choose not to specify `%%bash` at the beginning of a cell, but the precede a command with an exclamation mark instead. Like so"
   ]
  },
  {
   "cell_type": "code",
   "execution_count": 9,
   "metadata": {},
   "outputs": [
    {
     "name": "stdout",
     "output_type": "stream",
     "text": [
      "total 652K\r\n",
      "4.0K assembly  4.0K mapping  4.0K reads  4.0K sorted  636K workflowsketch.png\r\n"
     ]
    }
   ],
   "source": [
    "!ls -sh ./metagenomics/"
   ]
  },
  {
   "cell_type": "markdown",
   "metadata": {},
   "source": [
    "For some commands like `ls` you don't actually need to specify either `%%bash` or the `!`. However, for some commands you do need to. Personally, I find this more confusing than convienent so beware, and work orderly: it is best to specify  either `%%bash` or `!` whenever you write `bash` code."
   ]
  },
  {
   "cell_type": "markdown",
   "metadata": {},
   "source": [
    "Wether you choose to use `%%bash` or `!` . Both work. Realise however that a `!` only works for that specific line you type in, and `%%bash` works for the entire cell. "
   ]
  },
  {
   "cell_type": "markdown",
   "metadata": {},
   "source": [
    "## auto-complete\n",
    "auto-complete is on of the best features of the `bash` language, and your greatest friend during this practical. Lets say we want to list (`ls`) the contents of the `metagenomics/` folder, but are to lazy to type the whole word 'metagenomics/'. Then we can type \n",
    "> ls metag\n",
    "\n",
    "and then hit the TAB button on your keyboard. Bash should either automatically complete the path to\n",
    "> ls metagenomics/\n",
    "\n",
    "or if there are multiple options to auto-complete, `bash` will give you a little menu with these options.\n",
    "\n",
    "Using autocomplete does not only make your life a lot easier, it also prevents you from making typos! If bash autocomplete doesn't work, odds are something in your command or argument is wrong. Best to check before you proceed!\n",
    "\n",
    "Try out auto-complete below\n"
   ]
  },
  {
   "cell_type": "code",
   "execution_count": 2,
   "metadata": {},
   "outputs": [
    {
     "name": "stdout",
     "output_type": "stream",
     "text": [
      "ls: cannot access 'metag': No such file or directory\r\n"
     ]
    }
   ],
   "source": [
    "ls metag"
   ]
  },
  {
   "cell_type": "markdown",
   "metadata": {},
   "source": [
    "## Jupyter\n",
    "\n",
    "Working with Cells in jupyter is quite straight forward. \n",
    "\n",
    "* You can select a cell with your mouse or the arrow keys on your keyboard. \n",
    "* You can edit a cell by hitting RETURN or by double-clicking it. \n",
    "* A new cell is a code cell by default turn in into a markdown (text) cell by hitting 'm'\n",
    "* A code cell can be executed by hitting CTRL+RETURN.\n",
    "* A mardown cell can be saved by hitting CTRL+RETURN.\n",
    "* Add an additional cell by hitting the '+' button in the toolbar.\n",
    "* Using the keyboard\n",
    " + add a cell below by hitting the 'b' key\n",
    " + and above by hitting the 'a' key\n",
    "* Whenever your notebook turns out to be unresponsive, you may interupt the underlying programme running the code: the kernel, by\n",
    " + hitting the square stop button in the toolbar\n",
    " + clicking 'restart' or 'interupt' in the 'kernel menu' in your menu bar.\n",
    " \n",
    " \n",
    " Try creating a new cell below this cell. Make at least a text cell, and a code cell.\n"
   ]
  }
 ],
 "metadata": {
  "kernelspec": {
   "display_name": "Python 3",
   "language": "python",
   "name": "python3"
  },
  "language_info": {
   "codemirror_mode": {
    "name": "ipython",
    "version": 3
   },
   "file_extension": ".py",
   "mimetype": "text/x-python",
   "name": "python",
   "nbconvert_exporter": "python",
   "pygments_lexer": "ipython3",
   "version": "3.6.5"
  }
 },
 "nbformat": 4,
 "nbformat_minor": 2
}
