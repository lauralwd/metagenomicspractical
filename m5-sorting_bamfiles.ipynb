{
 "cells": [
  {
   "cell_type": "markdown",
   "metadata": {},
   "source": [
    "# Sorting bam files\n",
    "BAM files are Binary sAM files. SAM files are nothing more than big tables that tell us what read from the FastQ file, mapped where exactly on the scaffolds of the metagenome assembly. If that sentence was too long, read it again.\n",
    "\n",
    "The rows of this table that we call a SAM file, are not ordered in any logic way. For many [computational purposes](https://www.google.com/search?client=ubuntu&hs=tg5&channel=fs&ei=3vYPW9uDOumRgAbF3LHoCw&q=why+sorting+is+necessary&oq=why+sort&gs_l=psy-ab.3.2.35i39k1j0l2j0i20i263k1j0l6.2238.7325.0.11765.8.8.0.0.0.0.76.455.8.8.0....0...1c.1.64.psy-ab..0.8.454...0i67k1j0i203k1.0.EJEFo_3okmA), we want to sort/order these rows according to \n",
    "1. the scaffold they mapped on\n",
    "2. the position on that scaffold. (position in bp)\n",
    "\n",
    "\n",
    "\n",
    "We will achieve this with the `samtools` programme. As the name suggests, `samtools` comprises a lot of tools to deal with SAM (or BAM) files: one of which is the `samtools sort` tool. This tool we will use to sort our BAM files.\n",
    "\n",
    "`samtools` also contains the `samtools view` tool we used earlier. Samtools view is used to convert SAM to BAM and also BAM to SAM.\n",
    "\n",
    "Before we proceed, lets have a quick look if the BAM files are created as we expected, and peak inside with `samtools view`."
   ]
  },
  {
   "cell_type": "code",
   "execution_count": null,
   "metadata": {},
   "outputs": [],
   "source": [
    "ls ./  # <-- insert the path where you stored your bam files"
   ]
  },
  {
   "cell_type": "code",
   "execution_count": null,
   "metadata": {},
   "outputs": [],
   "source": [
    "!samtools view ./path/to/your/bamfile.bam | head"
   ]
  },
  {
   "cell_type": "markdown",
   "metadata": {},
   "source": [
    "You should see a lot of tab-delimited names, numbers and sequences. Perhaps google how a sam/bam file should look and see if it corresponds to what you get."
   ]
  },
  {
   "cell_type": "markdown",
   "metadata": {},
   "source": [
    "## Another loop\n",
    "\n",
    "We have seen how to make a loop in the m3 part of this practical. Now let's to the same but then to sort the BAM files we created earlier.\n",
    "\n",
    "Before you start, create a new folder where you store your *sorted* BAM files. I suggest something like `data/sorted`\n",
    "\n",
    "The cell bellow contains a copy of the loop from the previous notebook. Edit in a way so that the loop sorts your bam files.\n",
    "1. Make sure to do this step by step. Test every little thing you change in the loop\n",
    "2. Don't forget to very carefully read the help page of `samtools sort`\n",
    "\n",
    "Make sure you only use one CPU/thread, we have to share this computer with all of us."
   ]
  },
  {
   "cell_type": "code",
   "execution_count": null,
   "metadata": {},
   "outputs": [],
   "source": [
    "mkdir"
   ]
  },
  {
   "cell_type": "code",
   "execution_count": null,
   "metadata": {},
   "outputs": [],
   "source": [
    "%%bash\n",
    "samples=( E1 E2 E3 P1 P2 P3 )\n",
    "for i in ${samples[@]}\n",
    "    do echo $i\n",
    "done"
   ]
  },
  {
   "cell_type": "markdown",
   "metadata": {},
   "source": [
    "## check\n",
    "After sorting, again check wether your bam files were sorted correctly. \n",
    "1. Use `ls --size` to see if the files exist and have a proportional size\n",
    "2. run samtools view to view your BAM files."
   ]
  },
  {
   "cell_type": "code",
   "execution_count": null,
   "metadata": {},
   "outputs": [],
   "source": [
    "ls"
   ]
  },
  {
   "cell_type": "code",
   "execution_count": null,
   "metadata": {},
   "outputs": [],
   "source": [
    "%%bash\n",
    "samtools"
   ]
  },
  {
   "cell_type": "markdown",
   "metadata": {},
   "source": [
    "## clean\n",
    "Did your bam files sort correctly? Then remove the unsorted bam files. We don't need these anymore and we save some disk space."
   ]
  },
  {
   "cell_type": "code",
   "execution_count": null,
   "metadata": {},
   "outputs": [],
   "source": [
    "rm ./data/mapped"
   ]
  },
  {
   "cell_type": "markdown",
   "metadata": {},
   "source": [
    "In this particular practical we can also remove the reads. Normally you NEVER delete your raw data! Here we make an exception to save some disk space on the computing server we are all sharing."
   ]
  },
  {
   "cell_type": "code",
   "execution_count": null,
   "metadata": {},
   "outputs": [],
   "source": [
    "rm ./data/reads"
   ]
  }
 ],
 "metadata": {
  "kernelspec": {
   "display_name": "Bash",
   "language": "bash",
   "name": "bash"
  },
  "language_info": {
   "codemirror_mode": "shell",
   "file_extension": ".sh",
   "mimetype": "text/x-sh",
   "name": "bash"
  }
 },
 "nbformat": 4,
 "nbformat_minor": 2
}
