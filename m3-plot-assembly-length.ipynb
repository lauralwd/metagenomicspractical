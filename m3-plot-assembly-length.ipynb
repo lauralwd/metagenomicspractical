{
 "cells": [
  {
   "cell_type": "markdown",
   "metadata": {},
   "source": [
    "<h2>Length distributions of the scaffolds</h2>\n",
    "Now that we have the assembly, we will do some quick analyses to get a idea of the quality. This is a **python notebook again**. First we will plot the length distribution of the scaffolds in the assembly. Luckily for us, the length of each sequence in the fasta is already embeded in each fasta header. We can easily extract these numbers and plot them in python.\n",
    "\n",
    "Since this is a bash practical, I wrote the python code for you already. All you need to do is add the path to you assembly file in the line \n",
    "\n",
    "> f = open(\"path/to/assembly.file\",\"r\")\n",
    "\n",
    "To plot the length distribution run the python code below."
   ]
  },
  {
   "cell_type": "code",
   "execution_count": null,
   "metadata": {},
   "outputs": [],
   "source": [
    "import matplotlib.pyplot as plt\n",
    "import re\n",
    "%matplotlib inline  \n",
    "plt.style.use('ggplot')\n",
    "\n",
    "f = open(\"\", \"r\")\n",
    "\n",
    "lines = f.readlines()\n",
    "f.close()\n",
    "\n",
    "data = []\n",
    "regexp = re.compile(\">\")\n",
    "\n",
    "for line in lines:\n",
    "    if re.search(regexp, line):\n",
    "        line = line.strip().split('_')\n",
    "        data.append(float(line[3]))\n",
    "        \n",
    "fig = plt.figure(figsize=(10,10))\n",
    "plt.hist(data, bins=100, log=True);\n",
    "plt.title(\"length distribution scaffolds\");\n",
    "plt.xlabel(\"length\");\n",
    "plt.ylabel(\"count\");"
   ]
  },
  {
   "cell_type": "markdown",
   "metadata": {},
   "source": [
    "Did you expect this distribution?<br>\n",
    "Why would there be so many short scaffolds?<br>"
   ]
  }
 ],
 "metadata": {
  "kernelspec": {
   "display_name": "Python 3",
   "language": "python",
   "name": "python3"
  },
  "language_info": {
   "codemirror_mode": {
    "name": "ipython",
    "version": 3
   },
   "file_extension": ".py",
   "mimetype": "text/x-python",
   "name": "python",
   "nbconvert_exporter": "python",
   "pygments_lexer": "ipython3",
   "version": "3.6.7"
  }
 },
 "nbformat": 4,
 "nbformat_minor": 2
}
