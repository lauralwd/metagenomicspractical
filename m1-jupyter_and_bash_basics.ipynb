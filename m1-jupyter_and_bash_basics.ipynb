{
 "cells": [
  {
   "cell_type": "markdown",
   "metadata": {},
   "source": [
    "# How to work in a Jupyter notebook with the Bash language\n",
    "The webpage you are looking at, is called a jupyter notebook. It is a webpage on which you can write text (like this text) and also code. The code can ben executed an the output you see again within the same notebook! This may sound trivial, but it's really \"cool\" to put it in non-scientific terms. Code and text are entered in individual cells, a code cell or a text cell. This cell you are reading now is obviously a text cell. Now let's look at a code cell and execute it. There are two ways of executing a cell. First you select a cell, either with your mouse pointer, or you move there with the up and down arrow keys on your keyboard. Then you execute it by hitting the 'run' button in the toolbar above, or you hit CTRL+RETURN."
   ]
  },
  {
   "cell_type": "markdown",
   "metadata": {},
   "source": [
    "## bash basics\n",
    "execute the code cell below:"
   ]
  },
  {
   "cell_type": "code",
   "execution_count": null,
   "metadata": {},
   "outputs": [],
   "source": [
    "%%bash\n",
    "echo \"hello world\""
   ]
  },
  {
   "cell_type": "markdown",
   "metadata": {},
   "source": [
    "So what happened in the above code cell. First I declared that I want to write code in a language called `bash` by typing:\n",
    "> %%bash\n",
    "\n",
    "In the bash language, the first word you type is always the command. So in this case that was:\n",
    "> echo\n",
    "\n",
    "This command 'echoes' whatever you give it in the terminal. After you 'call' the command, you give it an argument in this case that is: \n",
    "> \"hello world\"\n",
    "\n",
    "This basic structure of 'command' 'arguments' commes back through this practical. \n",
    "\n",
    "*do* now try to change \"hello world\" to something else in the cell below:"
   ]
  },
  {
   "cell_type": "code",
   "execution_count": null,
   "metadata": {},
   "outputs": [],
   "source": [
    "%%bash\n",
    "echo \"hello world\""
   ]
  },
  {
   "cell_type": "markdown",
   "metadata": {},
   "source": [
    "Often, an argument is a path to a file. To see what files we have, we have the `ls` command. (short for list)"
   ]
  },
  {
   "cell_type": "code",
   "execution_count": null,
   "metadata": {},
   "outputs": [],
   "source": [
    "%%bash\n",
    "ls"
   ]
  },
  {
   "cell_type": "markdown",
   "metadata": {},
   "source": [
    "When you precede an ls command with a `%%bash` or an `!` (like you should) the output is black. Oddly enough, for the `ls` command you can skip these and just type `ls`. Then the files are black, folders are purple/blue and trailed by a '/'   Now lets use the `ls` command to see what is in the metagenomics folder"
   ]
  },
  {
   "cell_type": "code",
   "execution_count": null,
   "metadata": {},
   "outputs": [],
   "source": [
    "ls data/"
   ]
  },
  {
   "cell_type": "markdown",
   "metadata": {},
   "source": [
    "We are learning fast. So we now know what a `command` is, we know what an `argument` is. Finally we also need to know what options are. options are often provided in between the `command` and the `argument`. They look either like this\n",
    "> ls --size --human-readable\n",
    "\n",
    "or in shortened versions like this\n",
    "> ls -sh\n",
    "\n",
    "Note that the above two command are synonimous. Try out in the cell below:"
   ]
  },
  {
   "cell_type": "code",
   "execution_count": null,
   "metadata": {},
   "outputs": [],
   "source": [
    "%%bash \n",
    "ls --size --human-readable data/"
   ]
  },
  {
   "cell_type": "markdown",
   "metadata": {},
   "source": [
    "`Commands`, `options` and `arguments` are separated by spaces always, at least one. Note that also `options` can have their own `arguments`. If this is the case, then the manual or help page will specify this. We will get the the manual and help pages later.\n",
    "\n",
    "\n",
    "Finally, you may also choose not to specify `%%bash` at the beginning of a cell, but the precede a command with an exclamation mark instead. Like so"
   ]
  },
  {
   "cell_type": "code",
   "execution_count": null,
   "metadata": {},
   "outputs": [],
   "source": [
    "!ls -sh ./data/"
   ]
  },
  {
   "cell_type": "markdown",
   "metadata": {},
   "source": [
    "For some commands like `ls` you don't actually need to specify either `%%bash` or the `!`. However, for some commands you do need to. Personally, I find this more confusing than convienent so beware, and work orderly: it is best to specify  either `%%bash` or `!` whenever you write `bash` code.\n",
    "\n",
    "Wether you choose to use `%%bash` or `!` . Both work. Realise however that a `!` only works for that specific line you type in, and `%%bash` works for the entire cell. \n",
    "\n",
    "More experienced users may wonder why we don't work in a Bash notebook, or in a bash script. Bash notebooks are not always properly installed on Jupyter notebook servers and have been unstable in the past. Hence we choose for a more stable python2 notebook. The price we pay for this stability is the slight annoyance that we have to type either `%%bash` or an `!` in every code cell."
   ]
  },
  {
   "cell_type": "markdown",
   "metadata": {},
   "source": [
    "## auto-complete\n",
    "auto-complete is on of the best features of the `bash` language, and your greatest friend during this practical. Lets say we want to list (`ls`) the contents of the `data/` folder, but are to lazy to type the whole word 'data/'. Then we can type \n",
    "> ls metag\n",
    "\n",
    "and then hit the TAB button on your keyboard. Bash should either automatically complete the path to\n",
    "> ls data/\n",
    "\n",
    "or if there are multiple options to auto-complete, `bash` will give you a little menu with these options.\n",
    "\n",
    "Using autocomplete does not only make your life a lot easier, it also prevents you from making typos! If bash autocomplete doesn't work, odds are something in your command or argument is wrong. Best to check before you proceed!\n",
    "\n",
    "Try out auto-complete below\n"
   ]
  },
  {
   "cell_type": "code",
   "execution_count": null,
   "metadata": {},
   "outputs": [],
   "source": [
    "!ls da"
   ]
  },
  {
   "cell_type": "markdown",
   "metadata": {},
   "source": [
    "## pipes\n",
    "Bash can hand the output of one programm to another. This is called piping, if you pipe output of mulitple programms to each other, you made a 'pipeline'. Pipelines look somewhat like this\n",
    "\n",
    "> command1 | command2 | command 3\n",
    "\n",
    "One trick with pipes that we will use quite often is the `| head` pipe. This pipe shows you only the first 10 lines of the output of some command. ` | head -n 1` changes this Number to 1. See for yourself below"
   ]
  },
  {
   "cell_type": "code",
   "execution_count": null,
   "metadata": {},
   "outputs": [],
   "source": [
    "!ls -1 data/reads/ "
   ]
  },
  {
   "cell_type": "code",
   "execution_count": null,
   "metadata": {
    "scrolled": true
   },
   "outputs": [],
   "source": [
    "!ls -1 data/reads/ | head -n 1"
   ]
  },
  {
   "cell_type": "markdown",
   "metadata": {},
   "source": [
    "## loops\n",
    "Loops are one of the most usefull features of any programming language, and quite intuitive to use. A loop simply is a series of commands that does one thing multiple times, although often slightly different. Lets make a loop together, but first we need to have two concepts clear\n",
    "\n",
    "* variable\n",
    "* array\n",
    "\n",
    "A **variable** is a specific word that means something else, this something may vary. Hence the name. We can specify a variable like this:\n",
    "> variable1=coffee\n",
    "\n",
    "To refer to the content of a variable we use a `$`sign. So this looks like so\n",
    "> echo $variable1\n",
    "\n",
    "Now create a new cell below and try for yourself. You can name a variable anything you want."
   ]
  },
  {
   "cell_type": "code",
   "execution_count": null,
   "metadata": {},
   "outputs": [],
   "source": []
  },
  {
   "cell_type": "markdown",
   "metadata": {},
   "source": [
    "An array is a list of variables, its that simple. To make an array we type something like this\n",
    ">samples=(E1 E2 E3)\n",
    "\n",
    "To refer back to an array, we type this\n",
    ">echo ${samples[@]}\n",
    "\n",
    "This looks a bit more complicated. the `[@]` part just means: 'all contents in the array' Hence, if you type ` echo ${samples[0]} ` you will only get the first variable in the array. Again, try for yourself below in a new cell."
   ]
  },
  {
   "cell_type": "code",
   "execution_count": null,
   "metadata": {},
   "outputs": [],
   "source": []
  },
  {
   "cell_type": "markdown",
   "metadata": {},
   "source": [
    "Now we get to loops.\n",
    "Lets keep it simple, I will define a loop for you, and you see how it works."
   ]
  },
  {
   "cell_type": "code",
   "execution_count": null,
   "metadata": {},
   "outputs": [],
   "source": [
    "%%bash\n",
    "break=(coffee thee cookies)\n",
    "for   i in ${break[@]}\n",
    "do    echo $i\n",
    "done"
   ]
  },
  {
   "cell_type": "markdown",
   "metadata": {},
   "source": [
    "Do you get the loop? Make sure you do. You will make your own loops in the following parts of the practical.\n",
    "\n",
    "## Jupyter\n",
    "\n",
    "Working with Cells in jupyter is quite straight forward. You learn best by doing, so do all of the things listed below:\n",
    "\n",
    "* You can select a cell with your mouse or the arrow keys on your keyboard. \n",
    "* You can edit a cell by hitting RETURN or by double-clicking it. \n",
    "* A new cell is a code cell by default turn in into a markdown (text) cell by hitting 'm'\n",
    "* A code cell can be executed by hitting CTRL+RETURN.\n",
    "* A markdown cell can be rendered by hitting CTRL+RETURN.\n",
    "* Add an additional cell by hitting the '+' button in the toolbar.\n",
    "* Add an additional cell by clicking between two cells\n",
    "* Add an additional cell by using the keyboard\n",
    " + add a cell below by hitting the 'b' key\n",
    " + and above by hitting the 'a' key\n",
    "* Whenever your notebook turns out to be unresponsive, you may interupt the underlying programme running the code: the kernel, by\n",
    " + hitting the square stop button in the toolbar\n",
    " + clicking 'restart' or 'interupt' in the 'kernel menu' in your menu bar.\n",
    " + clicking 'close and halt' in the File menu.\n",
    " \n",
    " \n",
    " Try creating a new cell below this cell. Make at least a text cell, and a code cell.\n"
   ]
  },
  {
   "cell_type": "markdown",
   "metadata": {},
   "source": [
    "Have you completed all exercises above? Then move on to this: \n",
    "\n",
    "## Bash basics extra\n",
    "\n",
    "* Wildcards*\n",
    "* Base filenames.\n",
    "* paths\n",
    "* manual /help pages\n",
    "\n",
    "\n",
    "### wildcards \n",
    "wildcards can be used in commandlines. For example: list every folder/file inside the `./data/ folder`"
   ]
  },
  {
   "cell_type": "code",
   "execution_count": null,
   "metadata": {},
   "outputs": [],
   "source": [
    "!ls ./data/*"
   ]
  },
  {
   "cell_type": "markdown",
   "metadata": {},
   "source": [
    "or list every file in `./data/reads` that ends on `.gz`"
   ]
  },
  {
   "cell_type": "code",
   "execution_count": 2,
   "metadata": {},
   "outputs": [
    {
     "name": "stdout",
     "output_type": "stream",
     "text": [
      "./data/reads/E1.R1.fastq.gz  ./data/reads/P1.R1.fastq.gz\r\n",
      "./data/reads/E1.R2.fastq.gz  ./data/reads/P1.R2.fastq.gz\r\n",
      "./data/reads/E2.R1.fastq.gz  ./data/reads/P2.R1.fastq.gz\r\n",
      "./data/reads/E2.R2.fastq.gz  ./data/reads/P2.R2.fastq.gz\r\n",
      "./data/reads/E3.R1.fastq.gz  ./data/reads/P3.R1.fastq.gz\r\n",
      "./data/reads/E3.R2.fastq.gz  ./data/reads/P3.R2.fastq.gz\r\n"
     ]
    }
   ],
   "source": [
    "!ls ./data/reads/*.gz"
   ]
  },
  {
   "cell_type": "markdown",
   "metadata": {},
   "source": [
    "### Base filenames\n",
    "The base of a file is the part before the extention or extentions, you will need this later in the practical."
   ]
  },
  {
   "cell_type": "markdown",
   "metadata": {},
   "source": [
    "### paths\n",
    "As we have seen now, you can specify folders with a `/`. You can move from folder to folder. If you ever wonder what folder you are in now, you can 'print work directory' or `pwd`."
   ]
  },
  {
   "cell_type": "code",
   "execution_count": 4,
   "metadata": {},
   "outputs": [
    {
     "name": "stdout",
     "output_type": "stream",
     "text": [
      "/home/laura/gitprojects/metagenomicspractical\r\n"
     ]
    }
   ],
   "source": [
    "!pwd"
   ]
  },
  {
   "cell_type": "markdown",
   "metadata": {},
   "source": [
    "The current folder you are in is denoted as a dot: `.`  Hence, if you type a path like `./data/reads` you tell the computer explicitly to start in the current folder, then move to the data folder, and then move to the reads folder.\n",
    "\n",
    "If you type `ls /` then you ask the computer to list the root of the filesystem, the highest level on the harddrive. Somewhat like `C:/` on windows computers.\n",
    "\n",
    "Whenever you see in a manual page or in a prewritten command a bit of code like this\n",
    "> somecommand /path/to/file\n",
    "\n",
    "Then it is implied that you substitute the `/path/to/file` with you own path, to your own file."
   ]
  },
  {
   "cell_type": "markdown",
   "metadata": {},
   "source": [
    "### help and manual pages\n",
    "\n",
    "Whenever you are asked to use some command or programme and you don't now exactly how it works, we can ask the computer for help.\n",
    "* type the command without any argument or options\n",
    "* type the command with option `--help`\n",
    "* type the command with option `-h`\n",
    "* get the manual page `man some-command`\n",
    "\n",
    "Not all of these always work for every command, but one or two always do: trial and error.\n",
    "\n",
    "On these webpages, the `man` command doesn't work too well. Better to stick to the `--help` pages."
   ]
  },
  {
   "cell_type": "code",
   "execution_count": 10,
   "metadata": {},
   "outputs": [
    {
     "name": "stdout",
     "output_type": "stream",
     "text": [
      "Usage: head [OPTION]... [FILE]...\r\n",
      "Print the first 10 lines of each FILE to standard output.\r\n",
      "With more than one FILE, precede each with a header giving the file name.\r\n",
      "\r\n",
      "With no FILE, or when FILE is -, read standard input.\r\n",
      "\r\n",
      "Mandatory arguments to long options are mandatory for short options too.\r\n",
      "  -c, --bytes=[-]NUM       print the first NUM bytes of each file;\r\n",
      "                             with the leading '-', print all but the last\r\n",
      "                             NUM bytes of each file\r\n",
      "  -n, --lines=[-]NUM       print the first NUM lines instead of the first 10;\r\n",
      "                             with the leading '-', print all but the last\r\n",
      "                             NUM lines of each file\r\n",
      "  -q, --quiet, --silent    never print headers giving file names\r\n",
      "  -v, --verbose            always print headers giving file names\r\n",
      "  -z, --zero-terminated    line delimiter is NUL, not newline\r\n",
      "      --help     display this help and exit\r\n",
      "      --version  output version information and exit\r\n",
      "\r\n",
      "NUM may have a multiplier suffix:\r\n",
      "b 512, kB 1000, K 1024, MB 1000*1000, M 1024*1024,\r\n",
      "GB 1000*1000*1000, G 1024*1024*1024, and so on for T, P, E, Z, Y.\r\n",
      "\r\n",
      "GNU coreutils online help: <http://www.gnu.org/software/coreutils/>\r\n",
      "Full documentation at: <http://www.gnu.org/software/coreutils/head>\r\n",
      "or available locally via: info '(coreutils) head invocation'\r\n"
     ]
    }
   ],
   "source": [
    "!head --help"
   ]
  },
  {
   "cell_type": "markdown",
   "metadata": {},
   "source": [
    "Quite often, you'll find a 'usage' line at the top of the help page. This tells you how to use the command. In the example of `head` it tells you to first type `head` then any options, and then any file. those entries in \\[square brackets\\] are optional. Entries without any brackets, or with <arrows\\> are required."
   ]
  },
  {
   "cell_type": "markdown",
   "metadata": {},
   "source": [
    "## That's it!\n",
    "You are now ready to work with Bash in Jupyter notebooks! Congratulations. Whenever you get stuck in the subsequent notebooks, maybe comeback here for advise."
   ]
  }
 ],
 "metadata": {
  "kernelspec": {
   "display_name": "Python 2",
   "language": "python",
   "name": "python2"
  },
  "language_info": {
   "codemirror_mode": {
    "name": "ipython",
    "version": 3
   },
   "file_extension": ".py",
   "mimetype": "text/x-python",
   "name": "python",
   "nbconvert_exporter": "python",
   "pygments_lexer": "ipython3",
   "version": "3.6.5"
  }
 },
 "nbformat": 4,
 "nbformat_minor": 2
}
