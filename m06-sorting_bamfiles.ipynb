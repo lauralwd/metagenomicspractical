{
 "cells": [
  {
   "cell_type": "markdown",
   "metadata": {},
   "source": [
    "# Sorting bam files\n",
    "BAM files are Binary sAM files. \n",
    "SAM files are nothing more than big tables that tell us what read from the FastQ file, mapped where exactly on the scaffolds of the metagenome assembly. \n",
    "The rows of this table that we call a SAM file are not ordered in any logical way.\n",
    "When just mapped, the order resembles the (random) order of the reads in the original fastq file.\n",
    "\n",
    "For many [computational purposes](https://www.google.com/search?client=ubuntu&hs=tg5&channel=fs&ei=3vYPW9uDOumRgAbF3LHoCw&q=why+sorting+is+necessary&oq=why+sort&gs_l=psy-ab.3.2.35i39k1j0l2j0i20i263k1j0l6.2238.7325.0.11765.8.8.0.0.0.0.76.455.8.8.0....0...1c.1.64.psy-ab..0.8.454...0i67k1j0i203k1.0.EJEFo_3okmA), we want to sort/order these rows according to \n",
    "1. the scaffold they mapped on\n",
    "2. the position on that scaffold. (position in bp)\n",
    "\n",
    "We will achieve this with the `samtools` program. \n",
    "As the name suggests, `samtools` comprises many tools to deal with SAM (or BAM) files: one of which is the `samtools sort` tool. \n",
    "This tool we will use to sort our BAM files.\n",
    "\n",
    "`samtools` also contains the `samtools view` tool we used earlier. \n",
    "Samtools view is used to convert SAM to BAM and also BAM to SAM.\n",
    "\n",
    "Before we proceed, let's have a quick look if the BAM files are created as we expected.\n",
    "\n",
    "**[DO:] check the mapped directory with** `ls` **and peek inside the bam files with** `samtools view`**.**"
   ]
  },
  {
   "cell_type": "code",
   "execution_count": null,
   "metadata": {},
   "outputs": [],
   "source": [
    "ls ./  # <-- insert the path where you stored your bam files."
   ]
  },
  {
   "cell_type": "code",
   "execution_count": null,
   "metadata": {},
   "outputs": [],
   "source": [
    "samtools view ./path/to/your/bamfile.bam | head"
   ]
  },
  {
   "cell_type": "markdown",
   "metadata": {},
   "source": [
    "You should see a lot of tab-delimited names, numbers and sequences. \n",
    "\n",
    "**[DO:] Google how a sam/bam file should look and see if it corresponds to what you get.**"
   ]
  },
  {
   "cell_type": "markdown",
   "metadata": {},
   "source": [
    "**[Q:] What are the headers of a sam/bam file?**"
   ]
  },
  {
   "cell_type": "markdown",
   "metadata": {},
   "source": [
    "**[A:]**"
   ]
  },
  {
   "cell_type": "markdown",
   "metadata": {},
   "source": [
    "## Another loop\n",
    "\n",
    "We have seen how to make a loop in the backmapping part of this practical.\n",
    "Now let's do the same and sort the BAM files we created earlier.\n",
    "\n",
    "Before you start, create a new folder where you store your *sorted* BAM files.\n",
    "I suggest something like `data/sorted`\n",
    "\n",
    "The cell below contains a copy of the loop from the previous notebook.\n",
    "Edit in a way so that the loop sorts your bam files.\n",
    "1. Make sure to do this step by step. Test every little thing you change in the loop\n",
    "2. Don't forget to very carefully read the help page of `samtools sort`\n",
    "  - You want to sort the reads by coordinate (which is the default), not by name.\n",
    "\n",
    "Make sure you only use one CPU/thread; we have to share this computer with all of us."
   ]
  },
  {
   "cell_type": "markdown",
   "metadata": {},
   "source": [
    "**[DO:] make a new directory to store your sorted bam files**"
   ]
  },
  {
   "cell_type": "code",
   "execution_count": null,
   "metadata": {},
   "outputs": [],
   "source": [
    "mkdir"
   ]
  },
  {
   "cell_type": "markdown",
   "metadata": {},
   "source": [
    "**[DO:] use** `samtools sort` **to sort the bamfiles**. \n",
    "Make sure to store them in your new directory."
   ]
  },
  {
   "cell_type": "code",
   "execution_count": null,
   "metadata": {},
   "outputs": [],
   "source": [
    "samples=( E1 E2 E3 P1 P2 P3 )\n",
    "for i in ${samples[@]}\n",
    "    do echo $i\n",
    "done"
   ]
  },
  {
   "cell_type": "markdown",
   "metadata": {},
   "source": [
    "## check\n",
    "**[DO:] After sorting, check whether your bam files are sorted correctly.**\n",
    "1. Use `ls --size` to see if the files exist and have a proportional size\n",
    "2. run samtools view to view your BAM files."
   ]
  },
  {
   "cell_type": "code",
   "execution_count": null,
   "metadata": {},
   "outputs": [],
   "source": [
    "ls"
   ]
  },
  {
   "cell_type": "code",
   "execution_count": null,
   "metadata": {},
   "outputs": [],
   "source": [
    "samtools"
   ]
  },
  {
   "cell_type": "markdown",
   "metadata": {},
   "source": [
    "## clean\n",
    "Did your bam files sort correctly? \n",
    "Then remove the unsorted bam files. \n",
    "We don't need these anymore and we save some disk space.\n",
    "\n",
    "**[DO:] If you are sure, then remove the mapped directory by adding the appropriate option to the command below**"
   ]
  },
  {
   "cell_type": "code",
   "execution_count": null,
   "metadata": {},
   "outputs": [],
   "source": [
    "rm ./data/mapped"
   ]
  }
 ],
 "metadata": {
  "kernelspec": {
   "display_name": "Bash",
   "language": "bash",
   "name": "bash"
  },
  "language_info": {
   "codemirror_mode": "shell",
   "file_extension": ".sh",
   "mimetype": "text/x-sh",
   "name": "bash"
  }
 },
 "nbformat": 4,
 "nbformat_minor": 2
}
