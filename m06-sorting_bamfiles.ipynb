{
 "cells": [
  {
   "cell_type": "markdown",
   "metadata": {},
   "source": [
    "# Sorting bam files\n",
    "BAM files are Binary sAM files. \n",
    "SAM files are nothing more than big tables that tell us what read from the FastQ file, mapped where exactly on the scaffolds of the metagenome assembly. \n",
    "The rows of this table that we call a SAM file are not ordered in any logical way.\n",
    "When just mapped, the order resembles the (random) order of the reads in the original fastq file.\n",
    "\n",
    "For many [computational purposes](https://www.google.com/search?client=ubuntu&hs=tg5&channel=fs&ei=3vYPW9uDOumRgAbF3LHoCw&q=why+sorting+is+necessary&oq=why+sort&gs_l=psy-ab.3.2.35i39k1j0l2j0i20i263k1j0l6.2238.7325.0.11765.8.8.0.0.0.0.76.455.8.8.0....0...1c.1.64.psy-ab..0.8.454...0i67k1j0i203k1.0.EJEFo_3okmA), we want to sort/order these rows according to \n",
    "1. the scaffold they mapped on\n",
    "2. the position on that scaffold. (position in bp)\n",
    "\n",
    "We will achieve this with the `samtools` program. \n",
    "As the name suggests, `samtools` comprises many tools to deal with SAM (or BAM) files: one of which is the `samtools sort` tool. \n",
    "This tool we will use to sort our BAM files.\n",
    "\n",
    "`samtools` also contains the `samtools view` tool we used earlier. \n",
    "Samtools view is used to convert SAM to BAM and also BAM to SAM.\n",
    "\n",
    "Before we proceed, let's have a quick look if the BAM files are created as we expected.\n",
    "\n",
    "**[DO:] check the mapped directory with** `ls` **and peek inside the bam files with** `samtools view`**.**"
   ]
  },
  {
   "cell_type": "code",
   "execution_count": 1,
   "metadata": {},
   "outputs": [
    {
     "name": "stdout",
     "output_type": "stream",
     "text": [
      "L1.bam  L2.bam  L3.bam  P1.bam  P2.bam  P3.bam\n"
     ]
    }
   ],
   "source": [
    "ls ./data/mapped"
   ]
  },
  {
   "cell_type": "code",
   "execution_count": 2,
   "metadata": {},
   "outputs": [
    {
     "name": "stdout",
     "output_type": "stream",
     "text": [
      "ERR2114809.1\t99\tNODE_472_length_18986_cov_293.449_ID_23957348\t15238\t60\t149M\t=\t15505\t418\tTNTCTACCTATAACTAAGGCAATCAGCGCAATCAATTCCCAAAATGAACCTGTGGGAAAGAAAAGACGAGAAATTAGTACCGCCGCAATGCCTTTGAAACCTTCAGACAGCACTGCCAAAATACCCACCAATTTGCCGCCGTGATAAAA\tA#AAAEEEEEEEEEEEEEEEEEEEEEEEEEEEEEEEEEEEEEEEEEEEEEEEEEEEEEEEEEEEEEEEEE<EEEEEEEEEEEE<EEEEEEAEEEEEEE/EE<EEEEAEEEEEEEEEAEEEEEEAA<<AAEAEEAA<666<AAAAAAEEE\tNM:i:1\tMD:Z:1A147\tMC:Z:151M\tAS:i:147\tXS:i:0\n",
      "ERR2114809.1\t147\tNODE_472_length_18986_cov_293.449_ID_23957348\t15505\t60\t151M\t=\t15238\t-418\tACTANANNACCCNATNGATGAAACATTTATTGTTTAATGTGAATTTTAGACCTATCTTCTATCTGAAATTGTCAATTAGAAATATAAATTTTGATAAAAATTTTTTTGATAGTTTGATTGCTTGGTTTATGGACACTAAGCAGACACGNNN\t66</#/##EEA/#</#6EEEEEEEEEEEAEEEEEEAEEAEEEEEEEEEEEEEEEEEEEEAEEEEEEEE<EEEEEAA/EEEEEEEEEAEEEEEEEEEEEEEEEEEEEEEEEEEEEEEEEEEEEEEEEEEEEEEEEEEEEEEEEEEEEAA###\tNM:i:10\tMD:Z:4A0T0A0A4C1G0A132G0A0A0\tMC:Z:149M\tAS:i:132\tXS:i:19\n",
      "ERR2114809.2\t83\tNODE_1779_length_7357_cov_353.786_ID_23982227\t3055\t60\t150M\t=\t2650\t-555\tTACTCACTTTTAGAAACATGGCCACTATGGGCATAAATAACATGAAAGTTAAGTAGATAATTGTAATTCGCCAAGTCCAGGGTAAATTAATGAGATTATTTATAACTACCTTCCAAATAGAAGGTTTATTCTTAGTGTCTACAGCAGANG\tEEEEAAA<EA<EEEEEEEEA<EEEEE<A6A<AAE/AA<EEEAEEEEEEEEEEEEEAEEAAEEEEEEAEEEEEEEEEEEEEAEEEEEAEEEEEEEEE<EEEEEAEEEEEAEEEEEEEEEEEEEEEEEAEEEEEEEEEEEEEEEEEEAAA#A\tNM:i:1\tMD:Z:148A1\tMC:Z:151M\tAS:i:148\tXS:i:0\n",
      "ERR2114809.2\t163\tNODE_1779_length_7357_cov_353.786_ID_23982227\t2650\t60\t151M\t=\t3055\t555\tNNNAAGCGGCTTCTTCAATTTCTTGTTCCATTTCTTGCAGTACAGGTTGTACAGTTCTCACCACGAAAGGTAAGGAAATAAATATCATTGCTACCCCAACTCCTAAGCGGGTAAATGATACTCTAATTCCCAAAGNTGNTAATNNANAACC\t###AAEEEEEEEEEEEEEEEEEEEEEEEEEEEEEEEEEEEEEEEEEEEEEEEEEEEEEE<EA<EEEAAEEEEEAEEEAEEEAEEEEEEEEEEAEEEE//EAE<</AAEEEAAEAEEAEA<</A6AAEEEE<66AA#EE#EEEE##/#6/A<\tNM:i:8\tMD:Z:0T0C0C132G2C4A0A1G4\tMC:Z:150M\tAS:i:138\tXS:i:32\n",
      "ERR2114809.3\t77\t*\t0\t0\t*\t*\t0\t0\tCNACCAATCGCAATGGAGCCGCGCGTCGGCTGCTCCAGTCCCGAGATCATTGTCAGGAGCGTCGATTTAAGGCATCCAGAAGGCCCGACAAGAACCGTGAACGCCCCATGCGGCACGTTCAGGGTGAGGGGGGGATGGATCTCTAGCGCTC\tA#AAAEEEAEEEEEE/EEAAEEAEE/AAA/EAAAA/EEEA/6A/EEA<A///////E////A/6/////////E///E/EE/////E<///A////A/E///E//////A/AA//</////<///A/<E///<A///////////A/A///\tAS:i:0\tXS:i:0\n",
      "ERR2114809.3\t141\t*\t0\t0\t*\t*\t0\t0\tNNNCGGGGACGGAGGTTAGCGGCAGCTGGGCGAGCCGCTTCGCGGAGGGTCAAGCCGCGATGACTGCGCGCAAAGTCGGCAAGGGTAATGTGATCTGCGTGGGCACCTACCTCCGCGGTGCTCGGGTCGAGGTGGNGGNCGATNNANTGTT\t###//A/E/EEE/6E//A//AE//E/E/EEEE/A//E///E///E/<EE////AE<//</A//////E/E////E//EE///EEA/A/A//A/<///////AA///A///////E/6//6<<E/AA////EE///#//#/E/6##/#EE</\tAS:i:0\tXS:i:0\n",
      "ERR2114809.4\t77\t*\t0\t0\t*\t*\t0\t0\tANATCATCACATGGTGTGAATCCCAAATGGGTGTGGATGATGTTTTTGGATTGGCGCAAAATAGTCGTTTAATTGGGATGACTAGAAAGACTCAAAGTAGAGCATCCCTTGAGTTTGAGGAAAAACTATCAACAGTAGTTTCATTCTT\tA#AAAEEEEEEEEEEEEEEEEEAEEEEEEEEEEEEEEEEEEEEEEEEEEEEEEEEE<EEEEEEEEEEEEEEEEEEEEEEEEEEEEEEEEEEEEEEEEEEEEEE<EEEAEEEEEEEEEEEAEEEA/EEAA<A<AAE<EEEAEEEEEAEE\tAS:i:0\tXS:i:0\n",
      "ERR2114809.4\t141\t*\t0\t0\t*\t*\t0\t0\tNNNAAATAAGTAAAAGGCAATTTAACTTCAAATTAAGCAGTATTAGTCAGCATTATTAAGCGTTTATGAGCAGTAGCAAAGATATGTCTGTATGGGCAAGAACTAGTAATCGCAATTAAAATGGGACGTGTACTTNAANTAATNNANTCTC\t###AAEEEEEEEEEEEEEEAEEEEEEEEEEEEEEEEEEEEE/EEEEEEEEEEEEAEE/EEEEEEEEEEEEEEEEEEEEEEEEEEEEEE<EEEEEEEEAEAEE/EAAEEE/<AAA/A</6A/AA/E6AAEEEE<AE#/A#EEEE##/#/<AA\tAS:i:0\tXS:i:0\n",
      "ERR2114809.5\t99\tNODE_1543_length_8081_cov_287.47_ID_23992363\t4428\t60\t151M\t=\t4793\t516\tANGAAATAGAAGCAACATTAGGCTATCCCTATTTTGTTAAACCTGCTAATCTGGGTTCATCGGTAGGTATTGCCAAAGTGCAATCGCGCCAAGAATTAGAAGCAGCTTTAGATAATGCCGCAACCTATGATAGACGCATCATTGTTGAAGC\tA#AAAEEEEEAEEEEEEEEEEEEEEEEEEEEEEEEEEEEA/EEEEEEEEEEEEEEEEEEEEEEEEEEEEEEEEEEEEEEEEEEEEEEEEEEEEEEEE<EEEEEEEEEEEEEEEEAAEEAAAAE<AEEEEEEEEEEEAA<AAEEEEEEEEEA\tNM:i:1\tMD:Z:1T149\tMC:Z:151M\tAS:i:149\tXS:i:0\n",
      "ERR2114809.5\t147\tNODE_1543_length_8081_cov_287.47_ID_23992363\t4793\t60\t151M\t=\t4428\t-516\tGCCGNTNNTTTANCCCGGGTAGACTTTTTCTATGTAGAAGCTACCGGAGAAATCTTAATCAACGAAATTAACACCTTACCAGGATTTACATCCACCAGTATGTATCCTCAACTTTGGGCAAATACTGGTATTTCTTTTCCTAAATTAGNNN\t/EAE#E##AEEE#EEAEEA<AEEE<E66EEEEAE<EAAEEEEEEAEEEEEEAEEAAA<EEEEEEEEAEEEEEEEEEAEEEEAEEAEEEE<EEEEEE<EAAAEEEEEEEEEEEEEEEEEEEEEEEEEEEEEEEEEEEEEEEEEEEEEAA###\tNM:i:7\tMD:Z:4C1G0G4G135T0A0G0\tMC:Z:151M\tAS:i:140\tXS:i:0\n",
      "samtools view: writing to standard output failed: Broken pipe\n",
      "samtools view: error closing standard output: -1\n"
     ]
    }
   ],
   "source": [
    "samtools view ./data/mapped/L1.bam | head"
   ]
  },
  {
   "cell_type": "markdown",
   "metadata": {},
   "source": [
    "You should see a lot of tab-delimited names, numbers and sequences. \n",
    "\n",
    "**[DO:] Google how a sam/bam file should look and see if it corresponds to what you get.**"
   ]
  },
  {
   "cell_type": "markdown",
   "metadata": {},
   "source": [
    "**[Q:] What are the headers of a sam/bam file?**"
   ]
  },
  {
   "cell_type": "markdown",
   "metadata": {},
   "source": [
    "**[A:]**"
   ]
  },
  {
   "cell_type": "markdown",
   "metadata": {},
   "source": [
    "## Another loop\n",
    "\n",
    "We have seen how to make a loop in the backmapping part of this practical.\n",
    "Now let's do the same and sort the BAM files we created earlier.\n",
    "\n",
    "Before you start, create a new folder where you store your *sorted* BAM files.\n",
    "I suggest something like `data/sorted`\n",
    "\n",
    "The cell below contains a copy of the loop from the previous notebook.\n",
    "Edit in a way so that the loop sorts your bam files.\n",
    "1. Make sure to do this step by step. Test every little thing you change in the loop\n",
    "2. Don't forget to very carefully read the help page of `samtools sort`\n",
    "  - You want to sort the reads by coordinate (which is the default), not by name.\n",
    "\n",
    "Make sure you only use one CPU/thread; we have to share this computer with all of us."
   ]
  },
  {
   "cell_type": "markdown",
   "metadata": {},
   "source": [
    "**[DO:] make a new directory to store your sorted bam files**"
   ]
  },
  {
   "cell_type": "code",
   "execution_count": 3,
   "metadata": {},
   "outputs": [],
   "source": [
    "mkdir data/sorted"
   ]
  },
  {
   "cell_type": "code",
   "execution_count": 4,
   "metadata": {},
   "outputs": [
    {
     "name": "stdout",
     "output_type": "stream",
     "text": [
      "Usage: samtools sort [options...] [in.bam]\n",
      "Options:\n",
      "  -l INT     Set compression level, from 0 (uncompressed) to 9 (best)\n",
      "  -m INT     Set maximum memory per thread; suffix K/M/G recognized [768M]\n",
      "  -n         Sort by read name\n",
      "  -t TAG     Sort by value of TAG. Uses position as secondary index (or read name if -n is set)\n",
      "  -o FILE    Write final output to FILE rather than standard output\n",
      "  -T PREFIX  Write temporary files to PREFIX.nnnn.bam\n",
      "  --no-PG    do not add a PG line\n",
      "      --input-fmt-option OPT[=VAL]\n",
      "               Specify a single input file format option in the form\n",
      "               of OPTION or OPTION=VALUE\n",
      "  -O, --output-fmt FORMAT[,OPT[=VAL]]...\n",
      "               Specify output format (SAM, BAM, CRAM)\n",
      "      --output-fmt-option OPT[=VAL]\n",
      "               Specify a single output file format option in the form\n",
      "               of OPTION or OPTION=VALUE\n",
      "      --reference FILE\n",
      "               Reference sequence FASTA FILE [null]\n",
      "  -@, --threads INT\n",
      "               Number of additional threads to use [0]\n",
      "      --verbosity INT\n",
      "               Set level of verbosity\n"
     ]
    }
   ],
   "source": [
    "samtools sort"
   ]
  },
  {
   "cell_type": "markdown",
   "metadata": {},
   "source": [
    "**[DO:] use** `samtools sort` **to sort the bamfiles**. \n",
    "Make sure to store them in your new directory."
   ]
  },
  {
   "cell_type": "code",
   "execution_count": 6,
   "metadata": {},
   "outputs": [],
   "source": [
    "samples=( L1 L2 L3 P1 P2 P3 )\n",
    "for i in ${samples[@]}\n",
    "    do samtools sort -o data/sorted/$i.sorted.bam data/mapped/$i.bam\n",
    "done"
   ]
  },
  {
   "cell_type": "markdown",
   "metadata": {},
   "source": [
    "## check\n",
    "**[DO:] After sorting, check whether your bam files are sorted correctly.**\n",
    "1. Use `ls --size` to see if the files exist and have a proportional size\n",
    "2. run samtools view to view your BAM files."
   ]
  },
  {
   "cell_type": "code",
   "execution_count": 7,
   "metadata": {},
   "outputs": [
    {
     "name": "stdout",
     "output_type": "stream",
     "text": [
      "total 1354552\n",
      "226972 L1.bam\n",
      "226456 L2.bam\n",
      "226860 L3.bam\n",
      "224096 P1.bam\n",
      "222840 P2.bam\n",
      "227328 P3.bam\n"
     ]
    }
   ],
   "source": [
    "ls -s1 ./data/mapped"
   ]
  },
  {
   "cell_type": "code",
   "execution_count": 8,
   "metadata": {},
   "outputs": [
    {
     "name": "stdout",
     "output_type": "stream",
     "text": [
      "total 944700\n",
      "147536 L1.sorted.bam\n",
      "146044 L2.sorted.bam\n",
      "146656 L3.sorted.bam\n",
      "169244 P1.sorted.bam\n",
      "165216 P2.sorted.bam\n",
      "170004 P3.sorted.bam\n"
     ]
    }
   ],
   "source": [
    "ls -s1 ./data/sorted"
   ]
  },
  {
   "cell_type": "code",
   "execution_count": 11,
   "metadata": {},
   "outputs": [
    {
     "name": "stdout",
     "output_type": "stream",
     "text": [
      "ERR2114809.663052\t145\tNODE_1_length_1935275_cov_24.6805_ID_23901540\t18\t60\t151M\t=\t1885325\t1885158\tCAATGCGGCTTGTTACGCTCAAATTTAGCCTTCGCCATGTCCGTACAATCCTAAAAACCAGAATTGAAATCGTATCTTAACTACTTTGCCGTAAACCGGTCAGGGACCGATCCACCGCGAAACTCTGGAGCGGGTGACGGGAATCGAACCC\t6/E/AAEEAEEE/<EE//EEAE//<</<EEEEEEE/EEEAEEE/EEAEAEEA/6/E<<EEEEAE/EEEEEEEAEEAE<A/EE/AAEEE/EEEEA/EEEEEEAEE/EAE<EEEEEEEE/EEEAA/AEEEEEEEEE6EEAEEAE//EEAAAAA\tNM:i:0\tMD:Z:151\tMC:Z:151M\tAS:i:151\tXS:i:38\n",
      "ERR2114809.878075\t163\tNODE_1_length_1935275_cov_24.6805_ID_23901540\t65\t60\t151M\t=\t579\t665\tATCCTAAAAACCAGAATTGAAATCGTATCTTAACTACTTTGCCGTAAACCGGTCAGGGACCGATCCACCGCGAAACTCTGCACCGGGTGACGGGAATCGAACCCGCGTAGCCAGCTTGGCAGGCTGGCGCTCTACCAATGAGCTACCCCCG\tAAAAAAAEE6EEA/E6EEEEE/EEEAE///A/AAA/EEEEAEEEA/EAEE6E/AEEEE/E/E/EEE/EE/A///EE/EEA/</AA<E//<E</EE/<EAAAEEEEE<6</EE<AE/E//6/AAA<<A//A</</AAA/<AA6A////AAA/\tNM:i:6\tMD:Z:80G1G36A7A9T8A4\tMC:Z:151M\tAS:i:121\tXS:i:20\n",
      "ERR2114809.878075\t83\tNODE_1_length_1935275_cov_24.6805_ID_23901540\t579\t60\t151M\t=\t65\t-665\tGCCAAAGACCCCAACCTCCCCAGCTGACACGTTCGAAGGCCGGCGGTCCGGGAAATTCCGTGGGGACGGTCCGCGACAGGGGCGGAATCGTGATGATCATGCGCGCGGGAGTGAAACAAAATTACCGCCTGAGCTGTCCGGGCATGCTGGC\tAA<<6/A//<<AAA/E/EE/E///E/AEE/E<EEEEE/A<<<//<</EAEEE<EE/<6A/EA<EE/EAAEE/E/<E<<AA<///AAA/EA/AAEAEE/A/EAA/E<EAEEAEEEEEEE///EE/EEEEE/EEA66EAEEEEE/EEEA/A6A\tNM:i:4\tMD:Z:14A7T6A51T69\tMC:Z:151M\tAS:i:131\tXS:i:0\n",
      "ERR2114809.11615\t163\tNODE_1_length_1935275_cov_24.6805_ID_23901540\t658\t60\t151M\t=\t1062\t555\tGGTCGGAATCGTGATGATCATGCGCGCGGGAGTGAAACAAAATTACCGCCTGAGCTGTCCGGGCATGCTGGCGGTGGGTCCGGCAGTTACTGGATTTTCGGGCATCATGCGGTGGAAGAGGCACTTAAGAACCCGAAGCGGCGAATTCATC\tAAAAAEEAEEEEEEEEEEEEEEEEEEEEEEEEEEEEEEEEEEEEEEEEEEEEEEEEEEEEEEEEAEEEEEEEEEEEEEEEEEEEEEEEAEEEEEEEEEEEEEEEEEEAEEEEEEEEAEAEEEEEEAA<EE/EEEEE<AEEEEEEEAEE/EE\tNM:i:0\tMD:Z:151\tMC:Z:151M\tAS:i:151\tXS:i:0\n",
      "ERR2114809.11615\t83\tNODE_1_length_1935275_cov_24.6805_ID_23901540\t1062\t60\t151M\t=\t658\t-555\tGCGCTCGGCGGCGGCCTTCGGGGCGATCGCAGTGATCCTGACTGAGCGCCATGCAGCGCCGGAAAGCGGGATCCTTGCCAAATCGGCCTCCGGCGCCCTGGAACATGTTCCGCTGGTCCGCGTTACCAACCTCGCCCGCGCCATGGAGGAA\t<AAA<<<<6<<<<AEEEEAA<AAAAEAAAEEEEEEEEEEEEEEEEAEEEEEEAEEEEAEEAEEEEEEEEEEEEEEEEEEEAEEEEEEEEEEEEEEEEEEEEEEEEEE/EEEEEEEEEEEEEEEEEEEEEEEEEEEEEEEEEEEEEEAAAAA\tNM:i:0\tMD:Z:151\tMC:Z:151M\tAS:i:151\tXS:i:0\n",
      "ERR2114809.368289\t99\tNODE_1_length_1935275_cov_24.6805_ID_23901540\t2919\t60\t150M\t=\t3317\t549\tAAGGTTTCCGACGTGGTCGCTTCATGGGGCGATTTCAAACGCGACGAAGTCAACGTCTCAGCACTCGGCCACAACAACGCTGCAGCGGTGATGATTATGGATCGCGCCGGCTGGCGCTGATCTCCATTCGCAGAAAAAAGCCGCCGGTGA\tAAAAAEEEEEEEEEEEEEEEEEEEEEEEEEEEEEEEEEAEEEEEEEEEEEEE/EEEEEEAEEEEEEEEEE<EAEE/EEEEEEEEEEEEEEEEEEEEEEEEEEE<<AA<AEEAEEAAAAEEAEAAEAEEEE<AEEEEEEE<<<AA<<AEEA\tNM:i:0\tMD:Z:150\tMC:Z:151M\tAS:i:150\tXS:i:0\n",
      "ERR2114809.368289\t147\tNODE_1_length_1935275_cov_24.6805_ID_23901540\t3317\t60\t151M\t=\t2919\t-549\tCCTGCAGCGACGGATCCAATTTGGGTGATGCTCATCGCACACCCTCCTAGTTCTGGTTTCAGTTAGCTTCAACATTGGACCGATTGGCCCATAGCGCAAGCATTATCGATTACGAATTTAATCGAAGTTTAAGTAATTTCCTTTCGTATCA\t<EEEEAAAAAEEEEEEEEEEEEEEE/E<EEEEEEEEEEEEEEEEAEEEEEAEEEEEEEAEEE/EEEEEEEEEEEAE<EEEEEEEEEEEEEEEEEEEEEEEEEEEEEEEEEEEEEEEEEEEEEEEEEEEEEEEEEEEEEEEEEEEEEAAAAA\tNM:i:0\tMD:Z:151\tMC:Z:150M\tAS:i:151\tXS:i:0\n",
      "ERR2114809.878692\t99\tNODE_1_length_1935275_cov_24.6805_ID_23901540\t7493\t60\t146M\t=\t7886\t543\tCACGAGCGAGGCTCGCGTCAATGAGTACGCCAAGGATATTCACTCCAGCGCGCGGATCCTGTTTCGCTTGATCGAGGAAATCCTCGACTACTCCAAACTCGAATCAGGCAAGGCTCATATCGACGAAAATCAGGTCGATCTTGCCG\tAAAAAEEEEEEEEEEEEEEEEEEEEEEEEEEEEEEEEEEEEAEEEEAEEEEEEEEEEEEEAEEEEEEAEEEEEE<EEEEEEEEEEE<EEEEAEEE<AEEEEEAEE<EEAE/EEEEAEEAEEE<EE<<EAEEEEE<<AEAEAA<AAA\tNM:i:0\tMD:Z:146\tMC:Z:150M\tAS:i:146\tXS:i:0\n",
      "ERR2114809.878692\t147\tNODE_1_length_1935275_cov_24.6805_ID_23901540\t7886\t60\t150M\t=\t7493\t-543\tACCGGCGAAAGACATCGAACGGGTGTTCGAACCATTCGTCCAGGTCAACCGCTCTGCCTTCCATCAACAGGAAGGAACTGGTCTCGGCTTGGCCATATGCCGCAGCCTTATCGAACTTCATCAGGGGCGAATCGAGATCTCCAGCCGCCC\tAEAEEEEAEAEEEAEEEEAEAAEEE/<AEEEEEEEEAEEEEEE<AEEEEEEEEEEEAEEEEAAEEEEEEEEEEEEEEEEEEEEEEEEEEEEEEEEEEEEEEEEEEEEEEEEAE/EEEEEEEEEEEEEEEEEEEEEEEEEEEEEEEAAAAA\tNM:i:0\tMD:Z:150\tMC:Z:146M\tAS:i:150\tXS:i:0\n",
      "ERR2114809.651834\t163\tNODE_1_length_1935275_cov_24.6805_ID_23901540\t8365\t60\t151M\t=\t8622\t408\tGTGCCTCGCGCGGACATAGCCTGCAAGATCGCGGCACTATTTAAGAACAATGTCAGTAACGTCAGTTATGGGTGAAGGTTGCGTTGAGGATGAAATAGATCGTATAGCATGATAAATTAGGAATATTTAGTGACAGGGACGATGCGCAATC\tAAAAAEEEEEEEEEEEEEEEEEEEEEEEEEEEEEEEEEEEEEEEEEEEEEEEEEEEEEEEEEEEEEEEEEEEEEEEEEEEEEEEAEEEEEEEEEEEEEAAEEAEEEEEEAEE<<EAAEAEEEEEE<<EEEEEEE<EEEAAEE6AEEEA/EA\tNM:i:0\tMD:Z:151\tMC:Z:151M\tAS:i:151\tXS:i:0\n",
      "samtools view: writing to standard output failed: Broken pipe\n",
      "samtools view: error closing standard output: -1\n"
     ]
    }
   ],
   "source": [
    "samtools view data/sorted/L1.sorted.bam | head"
   ]
  },
  {
   "cell_type": "markdown",
   "metadata": {},
   "source": [
    "## clean\n",
    "Did your bam files sort correctly? \n",
    "Then remove the unsorted bam files. \n",
    "We don't need these anymore and we save some disk space.\n",
    "\n",
    "**[DO:] If you are sure, then remove the mapped directory by adding the appropriate option to the command below**"
   ]
  },
  {
   "cell_type": "code",
   "execution_count": 13,
   "metadata": {},
   "outputs": [],
   "source": [
    "rm ./data/mapped -rf"
   ]
  }
 ],
 "metadata": {
  "kernelspec": {
   "display_name": "Bash",
   "language": "bash",
   "name": "bash"
  },
  "language_info": {
   "codemirror_mode": "shell",
   "file_extension": ".sh",
   "mimetype": "text/x-sh",
   "name": "bash"
  }
 },
 "nbformat": 4,
 "nbformat_minor": 2
}
