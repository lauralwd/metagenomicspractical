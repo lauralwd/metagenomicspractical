{
 "cells": [
  {
   "cell_type": "markdown",
   "metadata": {},
   "source": [
    "<h2>Length distributions of the scaffolds</h2>\n",
    "Now that we have the assembly, we will do some quick analyses to get a idea of the quality. \n",
    "This is a **python notebook again**. \n",
    "First we will plot the length distribution of the scaffolds in the assembly. \n",
    "Luckily for us, the length of each sequence in the fasta is already embeded in each fasta header. We can easily extract these numbers and plot them in python.\n",
    "\n",
    "Since this is a bash practical, I wrote the python code for you already. All you need to do is add the path to you assembly file in the line \n",
    "\n",
    "> f = open(\"path/to/assembly.file\",\"r\")\n",
    "\n",
    "To plot the length distribution run the python code below."
   ]
  },
  {
   "cell_type": "code",
   "execution_count": null,
   "metadata": {},
   "outputs": [],
   "source": [
    "import matplotlib.pyplot as plt\n",
    "import re\n",
    "%matplotlib inline  \n",
    "plt.style.use('ggplot')\n",
    "\n",
    "f = open(\"\", \"r\")\n",
    "\n",
    "lines = f.readlines()\n",
    "f.close()\n",
    "\n",
    "lengths = []\n",
    "regexp = re.compile(\">\")\n",
    "\n",
    "for line in lines:\n",
    "    if re.search(regexp, line):\n",
    "        line = line.strip().split('_')\n",
    "        lengths.append(float(line[3]))\n",
    "        \n",
    "fig = plt.figure(figsize=(10,10))\n",
    "plt.hist(lengths, bins=100, log=True);\n",
    "plt.title(\"length distribution scaffolds\");\n",
    "plt.xlabel(\"length\");\n",
    "plt.ylabel(\"count\");"
   ]
  },
  {
   "cell_type": "markdown",
   "metadata": {},
   "source": [
    "Did you expect this distribution?<br>\n",
    "Why would there be so many short scaffolds?<br>"
   ]
  },
  {
   "cell_type": "markdown",
   "metadata": {},
   "source": [
    "Now make the following plot, what do the axis mean, and what do you think you see in the figure?"
   ]
  },
  {
   "cell_type": "code",
   "execution_count": null,
   "metadata": {},
   "outputs": [],
   "source": [
    "coverage = []\n",
    "for line in lines:\n",
    "    if re.search(regexp, line):\n",
    "        line = line.strip().split('_')\n",
    "        coverage.append(float(line[5]))\n",
    "\n",
    "plt.scatter(lengths,coverage)\n",
    "plt.xlabel('contig length')\n",
    "plt.ylabel('contig depth')\n",
    "plt.xscale('log')\n",
    "plt.yscale('log')\n",
    "plt.show"
   ]
  }
 ],
 "metadata": {
  "kernelspec": {
   "display_name": "Python 3",
   "language": "python",
   "name": "python3"
  },
  "language_info": {
   "codemirror_mode": {
    "name": "ipython",
    "version": 3
   },
   "file_extension": ".py",
   "mimetype": "text/x-python",
   "name": "python",
   "nbconvert_exporter": "python",
   "pygments_lexer": "ipython3",
   "version": "3.6.9"
  }
 },
 "nbformat": 4,
 "nbformat_minor": 2
}
