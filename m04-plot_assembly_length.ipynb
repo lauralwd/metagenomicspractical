{
 "cells": [
  {
   "cell_type": "markdown",
   "metadata": {},
   "source": [
    "## Length distributions of the scaffolds\n",
    "Now that we have the assembly, we will do some quick analyses to get an idea of the quality. \n",
    "This is a **python notebook again**. \n",
    "First, we will plot the length distribution of the scaffolds in the assembly. \n",
    "Luckily for us, the length of each sequence in the fasta is already embedded in each fasta header. \n",
    "We can easily extract these numbers and plot them in python.\n",
    "Second, we'll plot the length versus the depth (or vertical coverage) of the scaffolds.\n",
    "\n",
    "Since this is a bash practical, I wrote the python code for you already. All you need to do is add the path to your assembly file in the line \n",
    "\n",
    "> f = open(\"path/to/assembly.file\",\"r\")\n",
    "\n",
    "**[DO:] Plot the scaffold length distribution by running the python code below.**"
   ]
  },
  {
   "cell_type": "code",
   "execution_count": null,
   "metadata": {},
   "outputs": [],
   "source": [
    "import matplotlib.pyplot as plt\n",
    "import re\n",
    "%matplotlib inline  \n",
    "plt.style.use('ggplot')\n",
    "\n",
    "f = open(\"\", \"r\")\n",
    "\n",
    "lines = f.readlines()\n",
    "f.close()\n",
    "\n",
    "lengths = []\n",
    "regexp = re.compile(\">\")\n",
    "\n",
    "for line in lines:\n",
    "    if re.search(regexp, line):\n",
    "        line = line.strip().split('_')\n",
    "        lengths.append(float(line[3]))\n",
    "        \n",
    "fig = plt.figure(figsize=(10,10))\n",
    "plt.hist(lengths, bins=100, log=True);\n",
    "plt.title(\"length distribution scaffolds\");\n",
    "plt.xlabel(\"length\");\n",
    "plt.ylabel(\"count\");"
   ]
  },
  {
   "cell_type": "markdown",
   "metadata": {},
   "source": [
    "**[Q:] Did you expect this distribution?**\n",
    "\n"
   ]
  },
  {
   "cell_type": "markdown",
   "metadata": {},
   "source": [
    "**[A:]**"
   ]
  },
  {
   "cell_type": "markdown",
   "metadata": {},
   "source": [
    "**[Q:] Why would there be so many short scaffolds?**"
   ]
  },
  {
   "cell_type": "markdown",
   "metadata": {},
   "source": [
    "**[A:]**"
   ]
  },
  {
   "cell_type": "markdown",
   "metadata": {},
   "source": [
    "**[DO:]Now make the following plot.** (No coding needed)"
   ]
  },
  {
   "cell_type": "code",
   "execution_count": null,
   "metadata": {},
   "outputs": [],
   "source": [
    "coverage = []\n",
    "for line in lines:\n",
    "    if re.search(regexp, line):\n",
    "        line = line.strip().split('_')\n",
    "        coverage.append(float(line[5]))\n",
    "\n",
    "plt.scatter(lengths,coverage)\n",
    "plt.xlabel('contig length')\n",
    "plt.ylabel('contig depth')\n",
    "plt.xscale('log')\n",
    "plt.yscale('log')\n",
    "plt.show"
   ]
  },
  {
   "cell_type": "markdown",
   "metadata": {},
   "source": [
    "**[Q:] what do the axis mean?**"
   ]
  },
  {
   "cell_type": "markdown",
   "metadata": {},
   "source": [
    "**[A:]**"
   ]
  },
  {
   "cell_type": "markdown",
   "metadata": {},
   "source": [
    "**[DO:] Identify three horizontal clusters in the plot above**"
   ]
  },
  {
   "cell_type": "markdown",
   "metadata": {},
   "source": [
    "**[Q:] what do you think the horizontal clusters of dots represent in this figure?**\n",
    " "
   ]
  },
  {
   "cell_type": "markdown",
   "metadata": {},
   "source": [
    "**[A:]**"
   ]
  },
  {
   "cell_type": "markdown",
   "metadata": {},
   "source": [
    "### example\n",
    "\n",
    "For my PhD project on the Azolla metagenome, I made a \"metagenome taxnomy browser\" based on the simple principle you just used.\n",
    "In addition to plotting contig depth vs contig length, I added taxonomy information and some filtering options. \n",
    "The final interactive graph is available [online to play with](https://utrecht-university.shinyapps.io/Azolla_genus-wide_metagenome_taxonomy/)."
   ]
  },
  {
   "cell_type": "markdown",
   "metadata": {},
   "source": [
    "**[DO:] Find the Azolla wild sample in the interactive plot**"
   ]
  },
  {
   "cell_type": "markdown",
   "metadata": {},
   "source": [
    "**[Q:] How many species are present in each of these horizontal clusters you identified in your own python figure?**\n",
    " "
   ]
  },
  {
   "cell_type": "markdown",
   "metadata": {},
   "source": [
    "**[A:]**"
   ]
  }
 ],
 "metadata": {
  "kernelspec": {
   "display_name": "Python 3 (ipykernel)",
   "language": "python",
   "name": "python3"
  },
  "language_info": {
   "codemirror_mode": {
    "name": "ipython",
    "version": 3
   },
   "file_extension": ".py",
   "mimetype": "text/x-python",
   "name": "python",
   "nbconvert_exporter": "python",
   "pygments_lexer": "ipython3",
   "version": "3.7.6"
  }
 },
 "nbformat": 4,
 "nbformat_minor": 2
}
